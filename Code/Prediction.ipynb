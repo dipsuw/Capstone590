{
 "cells": [
  {
   "cell_type": "code",
   "execution_count": 1,
   "metadata": {
    "collapsed": true
   },
   "outputs": [],
   "source": [
    "import pandas as pd\n",
    "import numpy as np\n",
    "\n",
    "# This code displays all results created within a jupyter notebook cell.\n",
    "from IPython.core.interactiveshell import InteractiveShell\n",
    "InteractiveShell.ast_node_interactivity = \"all\"\n",
    "\n",
    "pd.set_option('display.max_column', 100)\n",
    "pd.set_option('display.max_row', 200)"
   ]
  },
  {
   "cell_type": "code",
   "execution_count": 2,
   "metadata": {
    "collapsed": true
   },
   "outputs": [],
   "source": [
    "data = pd.read_csv('Data_for_prediction.csv', header=0)"
   ]
  },
  {
   "cell_type": "code",
   "execution_count": 3,
   "metadata": {},
   "outputs": [
    {
     "data": {
      "text/plain": [
       "array([1250, 1234, 1337, ..., 1435, 1548,  589], dtype=int64)"
      ]
     },
     "execution_count": 3,
     "metadata": {},
     "output_type": "execute_result"
    }
   ],
   "source": [
    "data[' Population'].values"
   ]
  },
  {
   "cell_type": "code",
   "execution_count": 4,
   "metadata": {},
   "outputs": [
    {
     "data": {
      "text/plain": [
       "['Id',\n",
       " 'neighborhood',\n",
       " 'larger_neighborhood',\n",
       " 'Name',\n",
       " ' Population',\n",
       " 'Median Household Income',\n",
       " 'Median Home Value',\n",
       " 'Percent Bachelors Degree',\n",
       " 'Median Rent',\n",
       " 'Percent Public Transportation to Work',\n",
       " 'Percent White Non-Hispanic',\n",
       " ' Housing Units',\n",
       " 'Percent Renter Occupied',\n",
       " 'Percent Occupied Structure w 3-4 Units',\n",
       " 'Percent Occupied Structure w 5+ Units',\n",
       " 'Percent Households w 3 Vehicles',\n",
       " 'Percent Households w 4+ Vehicles',\n",
       " 'Percent Families, Married w Children Under 18',\n",
       " ' Total Households',\n",
       " 'Year']"
      ]
     },
     "execution_count": 4,
     "metadata": {},
     "output_type": "execute_result"
    }
   ],
   "source": [
    "list(data.columns.values)"
   ]
  },
  {
   "cell_type": "code",
   "execution_count": 32,
   "metadata": {
    "collapsed": true
   },
   "outputs": [],
   "source": [
    "Series_tract_1 = data.loc[data['Name'] == 'BG0001001', ' Population'].values"
   ]
  },
  {
   "cell_type": "code",
   "execution_count": 70,
   "metadata": {},
   "outputs": [
    {
     "data": {
      "text/plain": [
       "range(0, 8)"
      ]
     },
     "execution_count": 70,
     "metadata": {},
     "output_type": "execute_result"
    }
   ],
   "source": [
    "range(8)"
   ]
  },
  {
   "cell_type": "code",
   "execution_count": 5,
   "metadata": {
    "collapsed": true
   },
   "outputs": [],
   "source": [
    "Series_tract= []\n",
    "for j in list(range(480)):\n",
    "    for i in list(range(8)):\n",
    "        Series_tract.append(data[' Population'].iloc[j+480*i])"
   ]
  },
  {
   "cell_type": "code",
   "execution_count": 6,
   "metadata": {
    "collapsed": true
   },
   "outputs": [],
   "source": [
    "Series = data[[' Population']].values"
   ]
  },
  {
   "cell_type": "code",
   "execution_count": 7,
   "metadata": {},
   "outputs": [
    {
     "name": "stderr",
     "output_type": "stream",
     "text": [
      "C:\\Users\\anqwang\\AppData\\Local\\Continuum\\anaconda3\\lib\\site-packages\\statsmodels\\compat\\pandas.py:56: FutureWarning: The pandas.core.datetools module is deprecated and will be removed in a future version. Please use the pandas.tseries module instead.\n",
      "  from pandas.core import datetools\n"
     ]
    }
   ],
   "source": [
    "from pandas import Series\n",
    "from matplotlib import pyplot\n",
    "from statsmodels.tsa.ar_model import AR\n",
    "from sklearn.metrics import mean_squared_error\n",
    "import numpy\n",
    "\n",
    "# create a difference transform of the dataset\n",
    "def difference(dataset):\n",
    "    diff = list()\n",
    "    for i in range(1, len(dataset)):\n",
    "        value = dataset[i] - dataset[i - 1]\n",
    "        diff.append(value)\n",
    "    return numpy.array(diff)\n",
    "\n",
    "# Make a prediction give regression coefficients and lag obs\n",
    "def predict(coef, history):\n",
    "        yhat = coef[0]\n",
    "        for i in range(1, len(coef)):\n",
    "            yhat += coef[i] * history[-i]\n",
    "        return yhat"
   ]
  },
  {
   "cell_type": "code",
   "execution_count": 9,
   "metadata": {},
   "outputs": [
    {
     "data": {
      "text/plain": [
       "[1250, 1279, 1273, 1310, 1352, 1361, 1389, 1401]"
      ]
     },
     "execution_count": 9,
     "metadata": {},
     "output_type": "execute_result"
    }
   ],
   "source": [
    "Series_tract[0*1:0*1+8] "
   ]
  },
  {
   "cell_type": "code",
   "execution_count": 92,
   "metadata": {},
   "outputs": [
    {
     "data": {
      "text/plain": [
       "[1250, 1279]"
      ]
     },
     "execution_count": 92,
     "metadata": {},
     "output_type": "execute_result"
    }
   ],
   "source": [
    "Series_tract[0:2]"
   ]
  },
  {
   "cell_type": "code",
   "execution_count": 64,
   "metadata": {},
   "outputs": [
    {
     "data": {
      "text/plain": [
       "array([29, -6, 37, 42,  9, 28, 12], dtype=int64)"
      ]
     },
     "execution_count": 64,
     "metadata": {},
     "output_type": "execute_result"
    },
    {
     "data": {
      "text/plain": [
       "array([ 53,  25,  -4,  31,  37,  25, -56], dtype=int64)"
      ]
     },
     "execution_count": 64,
     "metadata": {},
     "output_type": "execute_result"
    },
    {
     "data": {
      "text/plain": [
       "array([ 16,  61,   4,  38,  27, -18,   8], dtype=int64)"
      ]
     },
     "execution_count": 64,
     "metadata": {},
     "output_type": "execute_result"
    },
    {
     "data": {
      "text/plain": [
       "array([  36,   21,   12,   41, -745,    7,   32], dtype=int64)"
      ]
     },
     "execution_count": 64,
     "metadata": {},
     "output_type": "execute_result"
    },
    {
     "data": {
      "text/plain": [
       "array([40, 17, 21, 23, 14, 14,  4], dtype=int64)"
      ]
     },
     "execution_count": 64,
     "metadata": {},
     "output_type": "execute_result"
    },
    {
     "data": {
      "text/plain": [
       "array([ -6,  51, 141,   8,   8,  63,  -4], dtype=int64)"
      ]
     },
     "execution_count": 64,
     "metadata": {},
     "output_type": "execute_result"
    },
    {
     "data": {
      "text/plain": [
       "array([ 14, -12,  32,  17,  32, -11,  65], dtype=int64)"
      ]
     },
     "execution_count": 64,
     "metadata": {},
     "output_type": "execute_result"
    },
    {
     "data": {
      "text/plain": [
       "array([-628,   -4,   16,   46,    0,   25,   31], dtype=int64)"
      ]
     },
     "execution_count": 64,
     "metadata": {},
     "output_type": "execute_result"
    },
    {
     "data": {
      "text/plain": [
       "array([-6, 49, 33, -4, 12, 52, 23], dtype=int64)"
      ]
     },
     "execution_count": 64,
     "metadata": {},
     "output_type": "execute_result"
    },
    {
     "data": {
      "text/plain": [
       "array([ -16,   23,   66,    0,   43,   15, -215], dtype=int64)"
      ]
     },
     "execution_count": 64,
     "metadata": {},
     "output_type": "execute_result"
    },
    {
     "data": {
      "text/plain": [
       "array([ 22,  68,  16,   0,   2, -33,  -5], dtype=int64)"
      ]
     },
     "execution_count": 64,
     "metadata": {},
     "output_type": "execute_result"
    },
    {
     "data": {
      "text/plain": [
       "array([  31,   15,   27,   10, 1339,   62,   38], dtype=int64)"
      ]
     },
     "execution_count": 64,
     "metadata": {},
     "output_type": "execute_result"
    },
    {
     "data": {
      "text/plain": [
       "array([  120,    29,    71, -1771,   -12,    30,    20], dtype=int64)"
      ]
     },
     "execution_count": 64,
     "metadata": {},
     "output_type": "execute_result"
    },
    {
     "data": {
      "text/plain": [
       "array([  49,   24, -352,    3,   54,   12,   -3], dtype=int64)"
      ]
     },
     "execution_count": 64,
     "metadata": {},
     "output_type": "execute_result"
    },
    {
     "data": {
      "text/plain": [
       "array([  12, -194,   -8,   22,   20,   28,   28], dtype=int64)"
      ]
     },
     "execution_count": 64,
     "metadata": {},
     "output_type": "execute_result"
    },
    {
     "data": {
      "text/plain": [
       "array([-429,   -1,    9,   36,   29,   15,   13], dtype=int64)"
      ]
     },
     "execution_count": 64,
     "metadata": {},
     "output_type": "execute_result"
    },
    {
     "data": {
      "text/plain": [
       "array([14, 37, 11, -3, 43, 30,  3], dtype=int64)"
      ]
     },
     "execution_count": 64,
     "metadata": {},
     "output_type": "execute_result"
    },
    {
     "data": {
      "text/plain": [
       "array([  35,   24,   34,    0,   47,   26, -435], dtype=int64)"
      ]
     },
     "execution_count": 64,
     "metadata": {},
     "output_type": "execute_result"
    },
    {
     "data": {
      "text/plain": [
       "array([  17,   12,   31,   37,   23, -513,   -6], dtype=int64)"
      ]
     },
     "execution_count": 64,
     "metadata": {},
     "output_type": "execute_result"
    },
    {
     "data": {
      "text/plain": [
       "array([12,  6, 29, 15, 64, 25, -6], dtype=int64)"
      ]
     },
     "execution_count": 64,
     "metadata": {},
     "output_type": "execute_result"
    },
    {
     "data": {
      "text/plain": [
       "array([ 23,  21,  19, 224,  34,  27, -12], dtype=int64)"
      ]
     },
     "execution_count": 64,
     "metadata": {},
     "output_type": "execute_result"
    },
    {
     "data": {
      "text/plain": [
       "array([  22,   24, -396,   -3,   17,   44,   36], dtype=int64)"
      ]
     },
     "execution_count": 64,
     "metadata": {},
     "output_type": "execute_result"
    },
    {
     "data": {
      "text/plain": [
       "array([46, 93, 14,  4, 18, 75, 23], dtype=int64)"
      ]
     },
     "execution_count": 64,
     "metadata": {},
     "output_type": "execute_result"
    },
    {
     "data": {
      "text/plain": [
       "array([-57,  20,  -3,  38,  70,   3,  26], dtype=int64)"
      ]
     },
     "execution_count": 64,
     "metadata": {},
     "output_type": "execute_result"
    },
    {
     "data": {
      "text/plain": [
       "array([12,  6,  6, 36,  4, -3, 25], dtype=int64)"
      ]
     },
     "execution_count": 64,
     "metadata": {},
     "output_type": "execute_result"
    },
    {
     "data": {
      "text/plain": [
       "array([ 24, -17,  53,   2,   6,  26, 151], dtype=int64)"
      ]
     },
     "execution_count": 64,
     "metadata": {},
     "output_type": "execute_result"
    },
    {
     "data": {
      "text/plain": [
       "array([  31,   39,   -3,   -8,   73, -620,   22], dtype=int64)"
      ]
     },
     "execution_count": 64,
     "metadata": {},
     "output_type": "execute_result"
    },
    {
     "data": {
      "text/plain": [
       "array([  45,   17,   35,   18, -415,   -5,   15], dtype=int64)"
      ]
     },
     "execution_count": 64,
     "metadata": {},
     "output_type": "execute_result"
    },
    {
     "data": {
      "text/plain": [
       "array([ -5,  31,  12, -94,  22,   1,  26], dtype=int64)"
      ]
     },
     "execution_count": 64,
     "metadata": {},
     "output_type": "execute_result"
    },
    {
     "data": {
      "text/plain": [
       "array([ 31,  17, 178,  26,  24,  -3,  16], dtype=int64)"
      ]
     },
     "execution_count": 64,
     "metadata": {},
     "output_type": "execute_result"
    },
    {
     "data": {
      "text/plain": [
       "array([ 37, 118,  30,   4,  12,  58,   6], dtype=int64)"
      ]
     },
     "execution_count": 64,
     "metadata": {},
     "output_type": "execute_result"
    },
    {
     "data": {
      "text/plain": [
       "array([-496,   29,   22,    4,   35,   -4,   32], dtype=int64)"
      ]
     },
     "execution_count": 64,
     "metadata": {},
     "output_type": "execute_result"
    },
    {
     "data": {
      "text/plain": [
       "array([16, -6, 11, 23, 32, 17,  9], dtype=int64)"
      ]
     },
     "execution_count": 64,
     "metadata": {},
     "output_type": "execute_result"
    },
    {
     "data": {
      "text/plain": [
       "array([12, 32, 30,  2,  0, 20, 45], dtype=int64)"
      ]
     },
     "execution_count": 64,
     "metadata": {},
     "output_type": "execute_result"
    },
    {
     "data": {
      "text/plain": [
       "array([18, 32,  0, 27, 20, 58, 12], dtype=int64)"
      ]
     },
     "execution_count": 64,
     "metadata": {},
     "output_type": "execute_result"
    },
    {
     "data": {
      "text/plain": [
       "array([ 22,  37,  36,  16, -92,  29,  18], dtype=int64)"
      ]
     },
     "execution_count": 64,
     "metadata": {},
     "output_type": "execute_result"
    },
    {
     "data": {
      "text/plain": [
       "array([  -2,   41,   22, -170,   12,   14,    8], dtype=int64)"
      ]
     },
     "execution_count": 64,
     "metadata": {},
     "output_type": "execute_result"
    },
    {
     "data": {
      "text/plain": [
       "array([  40,   22, -276,   19,   26,   19,   28], dtype=int64)"
      ]
     },
     "execution_count": 64,
     "metadata": {},
     "output_type": "execute_result"
    },
    {
     "data": {
      "text/plain": [
       "array([18, 56, 27, 33, -7, 17, 57], dtype=int64)"
      ]
     },
     "execution_count": 64,
     "metadata": {},
     "output_type": "execute_result"
    },
    {
     "data": {
      "text/plain": [
       "array([-308,   24,   30,    3,   43,    9,  -10], dtype=int64)"
      ]
     },
     "execution_count": 64,
     "metadata": {},
     "output_type": "execute_result"
    },
    {
     "data": {
      "text/plain": [
       "array([-12,  27,  36,  22,  70,  23,  23], dtype=int64)"
      ]
     },
     "execution_count": 64,
     "metadata": {},
     "output_type": "execute_result"
    },
    {
     "data": {
      "text/plain": [
       "array([  67,   17,   23,   40,   30,    2, -412], dtype=int64)"
      ]
     },
     "execution_count": 64,
     "metadata": {},
     "output_type": "execute_result"
    },
    {
     "data": {
      "text/plain": [
       "array([  14,   57,   21,   22,    6, -132,   22], dtype=int64)"
      ]
     },
     "execution_count": 64,
     "metadata": {},
     "output_type": "execute_result"
    },
    {
     "data": {
      "text/plain": [
       "array([   2,   57,   19,   18, -484,   -6,   48], dtype=int64)"
      ]
     },
     "execution_count": 64,
     "metadata": {},
     "output_type": "execute_result"
    },
    {
     "data": {
      "text/plain": [
       "array([  48,   20,    9, -125,    1,   40,   12], dtype=int64)"
      ]
     },
     "execution_count": 64,
     "metadata": {},
     "output_type": "execute_result"
    },
    {
     "data": {
      "text/plain": [
       "array([ 25,  41, 153,  -9,  25,  19,  71], dtype=int64)"
      ]
     },
     "execution_count": 64,
     "metadata": {},
     "output_type": "execute_result"
    },
    {
     "data": {
      "text/plain": [
       "array([   4, -170,   -6,   41,   20,   51,   -8], dtype=int64)"
      ]
     },
     "execution_count": 64,
     "metadata": {},
     "output_type": "execute_result"
    },
    {
     "data": {
      "text/plain": [
       "array([-273,  -11,   25,   26,   59,   -1,   27], dtype=int64)"
      ]
     },
     "execution_count": 64,
     "metadata": {},
     "output_type": "execute_result"
    },
    {
     "data": {
      "text/plain": [
       "array([27, 26, -5,  9, 53, 28,  4], dtype=int64)"
      ]
     },
     "execution_count": 64,
     "metadata": {},
     "output_type": "execute_result"
    },
    {
     "data": {
      "text/plain": [
       "array([  38,   14,   -1,   46,   31,   12, -189], dtype=int64)"
      ]
     },
     "execution_count": 64,
     "metadata": {},
     "output_type": "execute_result"
    },
    {
     "data": {
      "text/plain": [
       "array([  36,   30,   18,   33,   29, -104,  -10], dtype=int64)"
      ]
     },
     "execution_count": 64,
     "metadata": {},
     "output_type": "execute_result"
    },
    {
     "data": {
      "text/plain": [
       "array([18, 63, 27, 25,  6, 17, 33], dtype=int64)"
      ]
     },
     "execution_count": 64,
     "metadata": {},
     "output_type": "execute_result"
    },
    {
     "data": {
      "text/plain": [
       "array([  -1,   40,   -2, -659,    8,    4,   27], dtype=int64)"
      ]
     },
     "execution_count": 64,
     "metadata": {},
     "output_type": "execute_result"
    },
    {
     "data": {
      "text/plain": [
       "array([  17,   -7, -128,    7,   20,    4,   35], dtype=int64)"
      ]
     },
     "execution_count": 64,
     "metadata": {},
     "output_type": "execute_result"
    },
    {
     "data": {
      "text/plain": [
       "array([16, 83, 14, 11, 46, -1, 56], dtype=int64)"
      ]
     },
     "execution_count": 64,
     "metadata": {},
     "output_type": "execute_result"
    },
    {
     "data": {
      "text/plain": [
       "array([-471,    6,   26,    9,    7,   42,   22], dtype=int64)"
      ]
     },
     "execution_count": 64,
     "metadata": {},
     "output_type": "execute_result"
    },
    {
     "data": {
      "text/plain": [
       "array([ 7, 28,  8, 26, -1, 17,  4], dtype=int64)"
      ]
     },
     "execution_count": 64,
     "metadata": {},
     "output_type": "execute_result"
    },
    {
     "data": {
      "text/plain": [
       "array([  2,  13,  21,  31,  24,  17, 490], dtype=int64)"
      ]
     },
     "execution_count": 64,
     "metadata": {},
     "output_type": "execute_result"
    },
    {
     "data": {
      "text/plain": [
       "array([  19,   -1,   44,   30,   22, -170,  -11], dtype=int64)"
      ]
     },
     "execution_count": 64,
     "metadata": {},
     "output_type": "execute_result"
    },
    {
     "data": {
      "text/plain": [
       "array([  14,   56,   24,   27, -146,   38,   29], dtype=int64)"
      ]
     },
     "execution_count": 64,
     "metadata": {},
     "output_type": "execute_result"
    },
    {
     "data": {
      "text/plain": [
       "array([  47,   46,   30, -219,   38,   23,   28], dtype=int64)"
      ]
     },
     "execution_count": 64,
     "metadata": {},
     "output_type": "execute_result"
    },
    {
     "data": {
      "text/plain": [
       "array([  23,   27, -358,   17,   10,   48,  -14], dtype=int64)"
      ]
     },
     "execution_count": 64,
     "metadata": {},
     "output_type": "execute_result"
    },
    {
     "data": {
      "text/plain": [
       "array([  26, -269,   -9,   25,   30,   33,    9], dtype=int64)"
      ]
     },
     "execution_count": 64,
     "metadata": {},
     "output_type": "execute_result"
    },
    {
     "data": {
      "text/plain": [
       "array([ 86, -11,  55,  30,  32,  28, -14], dtype=int64)"
      ]
     },
     "execution_count": 64,
     "metadata": {},
     "output_type": "execute_result"
    },
    {
     "data": {
      "text/plain": [
       "array([17, 12, 18,  0, 33, 13, 35], dtype=int64)"
      ]
     },
     "execution_count": 64,
     "metadata": {},
     "output_type": "execute_result"
    },
    {
     "data": {
      "text/plain": [
       "array([ 14,   3,  29,   1,  20,  22, 484], dtype=int64)"
      ]
     },
     "execution_count": 64,
     "metadata": {},
     "output_type": "execute_result"
    },
    {
     "data": {
      "text/plain": [
       "array([  70,   35,    6,   28,   39, -805,    1], dtype=int64)"
      ]
     },
     "execution_count": 64,
     "metadata": {},
     "output_type": "execute_result"
    },
    {
     "data": {
      "text/plain": [
       "array([ 37,   4,  10,  22, 401,   0,  17], dtype=int64)"
      ]
     },
     "execution_count": 64,
     "metadata": {},
     "output_type": "execute_result"
    },
    {
     "data": {
      "text/plain": [
       "array([  18,   25,   28, -102,    2,   30,   49], dtype=int64)"
      ]
     },
     "execution_count": 64,
     "metadata": {},
     "output_type": "execute_result"
    },
    {
     "data": {
      "text/plain": [
       "array([  25,   27, -242,   -3,   56,   15,   23], dtype=int64)"
      ]
     },
     "execution_count": 64,
     "metadata": {},
     "output_type": "execute_result"
    },
    {
     "data": {
      "text/plain": [
       "array([  48, -347,    0,   39,   -6,   27,   36], dtype=int64)"
      ]
     },
     "execution_count": 64,
     "metadata": {},
     "output_type": "execute_result"
    },
    {
     "data": {
      "text/plain": [
       "array([-273,   -8,   22,   43,    5,    9,   38], dtype=int64)"
      ]
     },
     "execution_count": 64,
     "metadata": {},
     "output_type": "execute_result"
    },
    {
     "data": {
      "text/plain": [
       "array([22, 21,  5, 31, -2, 23, 25], dtype=int64)"
      ]
     },
     "execution_count": 64,
     "metadata": {},
     "output_type": "execute_result"
    },
    {
     "data": {
      "text/plain": [
       "array([  9,  20,  25,  -1,  13,  19, 293], dtype=int64)"
      ]
     },
     "execution_count": 64,
     "metadata": {},
     "output_type": "execute_result"
    },
    {
     "data": {
      "text/plain": [
       "array([43, -4, 26, 31,  7, 74, -9], dtype=int64)"
      ]
     },
     "execution_count": 64,
     "metadata": {},
     "output_type": "execute_result"
    },
    {
     "data": {
      "text/plain": [
       "array([  38,   32,   38,   16, -173,   30,  -15], dtype=int64)"
      ]
     },
     "execution_count": 64,
     "metadata": {},
     "output_type": "execute_result"
    },
    {
     "data": {
      "text/plain": [
       "array([   6,   33,   23, -519,   18,   -5,   42], dtype=int64)"
      ]
     },
     "execution_count": 64,
     "metadata": {},
     "output_type": "execute_result"
    },
    {
     "data": {
      "text/plain": [
       "array([ 30,  16, 110, -12,  67, -13,  56], dtype=int64)"
      ]
     },
     "execution_count": 64,
     "metadata": {},
     "output_type": "execute_result"
    },
    {
     "data": {
      "text/plain": [
       "array([  28, -129,   29,   26,  -17,   27,   47], dtype=int64)"
      ]
     },
     "execution_count": 64,
     "metadata": {},
     "output_type": "execute_result"
    },
    {
     "data": {
      "text/plain": [
       "array([-529,  -10,   34,    4,   19,   35,   28], dtype=int64)"
      ]
     },
     "execution_count": 64,
     "metadata": {},
     "output_type": "execute_result"
    },
    {
     "data": {
      "text/plain": [
       "array([-13,  32,  13,  37,  41,  42,  28], dtype=int64)"
      ]
     },
     "execution_count": 64,
     "metadata": {},
     "output_type": "execute_result"
    },
    {
     "data": {
      "text/plain": [
       "array([  24,   53,   23,   15,   23,   13, -402], dtype=int64)"
      ]
     },
     "execution_count": 64,
     "metadata": {},
     "output_type": "execute_result"
    },
    {
     "data": {
      "text/plain": [
       "array([ 19,  19,  11,  31,   7, 228,  32], dtype=int64)"
      ]
     },
     "execution_count": 64,
     "metadata": {},
     "output_type": "execute_result"
    },
    {
     "data": {
      "text/plain": [
       "array([   1,   39,   37,    7, -413,   25,    0], dtype=int64)"
      ]
     },
     "execution_count": 64,
     "metadata": {},
     "output_type": "execute_result"
    },
    {
     "data": {
      "text/plain": [
       "array([  24,   34,   12, -434,   -7,   47,    0], dtype=int64)"
      ]
     },
     "execution_count": 64,
     "metadata": {},
     "output_type": "execute_result"
    },
    {
     "data": {
      "text/plain": [
       "array([ 28,   9, -15,  27,  18,   8,  -3], dtype=int64)"
      ]
     },
     "execution_count": 64,
     "metadata": {},
     "output_type": "execute_result"
    },
    {
     "data": {
      "text/plain": [
       "array([ 22, 314,  -8,  37,  26,  36,  42], dtype=int64)"
      ]
     },
     "execution_count": 64,
     "metadata": {},
     "output_type": "execute_result"
    },
    {
     "data": {
      "text/plain": [
       "array([-201,   32,   20,   20,    0,   45,   36], dtype=int64)"
      ]
     },
     "execution_count": 64,
     "metadata": {},
     "output_type": "execute_result"
    },
    {
     "data": {
      "text/plain": [
       "array([-11,  48,  31,  51,  -3,  39,  27], dtype=int64)"
      ]
     },
     "execution_count": 64,
     "metadata": {},
     "output_type": "execute_result"
    },
    {
     "data": {
      "text/plain": [
       "array([ 8, 28, 31, 20, 39, 25, 60], dtype=int64)"
      ]
     },
     "execution_count": 64,
     "metadata": {},
     "output_type": "execute_result"
    },
    {
     "data": {
      "text/plain": [
       "array([  25,   43,   -2,   52,   19, -468,   30], dtype=int64)"
      ]
     },
     "execution_count": 64,
     "metadata": {},
     "output_type": "execute_result"
    },
    {
     "data": {
      "text/plain": [
       "array([ 17,  43,  18, -12, -57,  34,  26], dtype=int64)"
      ]
     },
     "execution_count": 64,
     "metadata": {},
     "output_type": "execute_result"
    },
    {
     "data": {
      "text/plain": [
       "array([  40,   47,   -9, -262,   28,   23,   14], dtype=int64)"
      ]
     },
     "execution_count": 64,
     "metadata": {},
     "output_type": "execute_result"
    },
    {
     "data": {
      "text/plain": [
       "array([  33,   -3, -282,   24,   27,   11,   19], dtype=int64)"
      ]
     },
     "execution_count": 64,
     "metadata": {},
     "output_type": "execute_result"
    },
    {
     "data": {
      "text/plain": [
       "array([  38, -190,   -8,   40,   21,   20,    3], dtype=int64)"
      ]
     },
     "execution_count": 64,
     "metadata": {},
     "output_type": "execute_result"
    },
    {
     "data": {
      "text/plain": [
       "array([63, -7, 24, 26, 47, 24, 21], dtype=int64)"
      ]
     },
     "execution_count": 64,
     "metadata": {},
     "output_type": "execute_result"
    },
    {
     "data": {
      "text/plain": [
       "array([ -4,  58,  -1,  28,  30,  45, -17], dtype=int64)"
      ]
     },
     "execution_count": 64,
     "metadata": {},
     "output_type": "execute_result"
    },
    {
     "data": {
      "text/plain": [
       "array([  21,    8,   34,   15,   34,    1, -503], dtype=int64)"
      ]
     },
     "execution_count": 64,
     "metadata": {},
     "output_type": "execute_result"
    },
    {
     "data": {
      "text/plain": [
       "array([ 18,  18,   1,  36,  17, 108,  29], dtype=int64)"
      ]
     },
     "execution_count": 64,
     "metadata": {},
     "output_type": "execute_result"
    },
    {
     "data": {
      "text/plain": [
       "array([  -8,   52,   19,   22, -194,   -6,   46], dtype=int64)"
      ]
     },
     "execution_count": 64,
     "metadata": {},
     "output_type": "execute_result"
    },
    {
     "data": {
      "text/plain": [
       "array([  42,   15,   25, -132,   -7,   29,   14], dtype=int64)"
      ]
     },
     "execution_count": 64,
     "metadata": {},
     "output_type": "execute_result"
    },
    {
     "data": {
      "text/plain": [
       "array([  40,   21, -539,   16,   14,    5,    2], dtype=int64)"
      ]
     },
     "execution_count": 64,
     "metadata": {},
     "output_type": "execute_result"
    },
    {
     "data": {
      "text/plain": [
       "array([  7, 760,  35,  29,   9,  43,  25], dtype=int64)"
      ]
     },
     "execution_count": 64,
     "metadata": {},
     "output_type": "execute_result"
    },
    {
     "data": {
      "text/plain": [
       "array([-608,    7,   16,   14,   29,   36,   22], dtype=int64)"
      ]
     },
     "execution_count": 64,
     "metadata": {},
     "output_type": "execute_result"
    },
    {
     "data": {
      "text/plain": [
       "array([-6, 22, 27, 37, 26, 14, 15], dtype=int64)"
      ]
     },
     "execution_count": 64,
     "metadata": {},
     "output_type": "execute_result"
    },
    {
     "data": {
      "text/plain": [
       "array([ -3,  17,  40,  15,  18,  33, 441], dtype=int64)"
      ]
     },
     "execution_count": 64,
     "metadata": {},
     "output_type": "execute_result"
    },
    {
     "data": {
      "text/plain": [
       "array([  33,   49,   26,   27,  -13, -690,  -10], dtype=int64)"
      ]
     },
     "execution_count": 64,
     "metadata": {},
     "output_type": "execute_result"
    },
    {
     "data": {
      "text/plain": [
       "array([  29,   20,   33,   24, -268,   25,   -9], dtype=int64)"
      ]
     },
     "execution_count": 64,
     "metadata": {},
     "output_type": "execute_result"
    },
    {
     "data": {
      "text/plain": [
       "array([ 43,  20,  23, -63,  28,  15,  19], dtype=int64)"
      ]
     },
     "execution_count": 64,
     "metadata": {},
     "output_type": "execute_result"
    },
    {
     "data": {
      "text/plain": [
       "array([  27,   -8, -112,   21,   28,    5,   21], dtype=int64)"
      ]
     },
     "execution_count": 64,
     "metadata": {},
     "output_type": "execute_result"
    },
    {
     "data": {
      "text/plain": [
       "array([  30, -264,   19,   24,   14,   26,   -4], dtype=int64)"
      ]
     },
     "execution_count": 64,
     "metadata": {},
     "output_type": "execute_result"
    },
    {
     "data": {
      "text/plain": [
       "array([278,  30,   2,  15,  41,  32,  33], dtype=int64)"
      ]
     },
     "execution_count": 64,
     "metadata": {},
     "output_type": "execute_result"
    },
    {
     "data": {
      "text/plain": [
       "array([ 32, -19,  27,  40,  31,  34,  28], dtype=int64)"
      ]
     },
     "execution_count": 64,
     "metadata": {},
     "output_type": "execute_result"
    },
    {
     "data": {
      "text/plain": [
       "array([ 12,  29,  23,  35,  18,  12, -59], dtype=int64)"
      ]
     },
     "execution_count": 64,
     "metadata": {},
     "output_type": "execute_result"
    },
    {
     "data": {
      "text/plain": [
       "array([  17,   31,   61,   16,   27, -151,   -3], dtype=int64)"
      ]
     },
     "execution_count": 64,
     "metadata": {},
     "output_type": "execute_result"
    },
    {
     "data": {
      "text/plain": [
       "array([  44,   19,   21,   25, -156,   -2,   25], dtype=int64)"
      ]
     },
     "execution_count": 64,
     "metadata": {},
     "output_type": "execute_result"
    },
    {
     "data": {
      "text/plain": [
       "array([ 31,  13,  38, 372,  24,  48,  22], dtype=int64)"
      ]
     },
     "execution_count": 64,
     "metadata": {},
     "output_type": "execute_result"
    },
    {
     "data": {
      "text/plain": [
       "array([  47,   33, -967,   -6,   39,    2,   18], dtype=int64)"
      ]
     },
     "execution_count": 64,
     "metadata": {},
     "output_type": "execute_result"
    },
    {
     "data": {
      "text/plain": [
       "array([  14, -271,    3,   37,  -12,   44,    6], dtype=int64)"
      ]
     },
     "execution_count": 64,
     "metadata": {},
     "output_type": "execute_result"
    },
    {
     "data": {
      "text/plain": [
       "array([601,  -9,  34,  67,  34,  29,  30], dtype=int64)"
      ]
     },
     "execution_count": 64,
     "metadata": {},
     "output_type": "execute_result"
    },
    {
     "data": {
      "text/plain": [
       "array([ -7,  47,  22,  27, -15,  37,  24], dtype=int64)"
      ]
     },
     "execution_count": 64,
     "metadata": {},
     "output_type": "execute_result"
    },
    {
     "data": {
      "text/plain": [
       "array([  81,   17,   34,   16,   34,   20, -902], dtype=int64)"
      ]
     },
     "execution_count": 64,
     "metadata": {},
     "output_type": "execute_result"
    },
    {
     "data": {
      "text/plain": [
       "array([ 11,  29,   4,  29,   8, 334,  25], dtype=int64)"
      ]
     },
     "execution_count": 64,
     "metadata": {},
     "output_type": "execute_result"
    },
    {
     "data": {
      "text/plain": [
       "array([63,  2, 39, 27, 42, 12,  6], dtype=int64)"
      ]
     },
     "execution_count": 64,
     "metadata": {},
     "output_type": "execute_result"
    },
    {
     "data": {
      "text/plain": [
       "array([   3,   45,   30, -419,    0,   51,   22], dtype=int64)"
      ]
     },
     "execution_count": 64,
     "metadata": {},
     "output_type": "execute_result"
    },
    {
     "data": {
      "text/plain": [
       "array([  50,    7, -411,  -11,   41,   30,   30], dtype=int64)"
      ]
     },
     "execution_count": 64,
     "metadata": {},
     "output_type": "execute_result"
    },
    {
     "data": {
      "text/plain": [
       "array([  29, -259,   15,   30,    3,   42,  -12], dtype=int64)"
      ]
     },
     "execution_count": 64,
     "metadata": {},
     "output_type": "execute_result"
    },
    {
     "data": {
      "text/plain": [
       "array([-370,    4,   11,   18,   30,   13,   24], dtype=int64)"
      ]
     },
     "execution_count": 64,
     "metadata": {},
     "output_type": "execute_result"
    },
    {
     "data": {
      "text/plain": [
       "array([ -6,  72, -17,  32,  47,  44,  20], dtype=int64)"
      ]
     },
     "execution_count": 64,
     "metadata": {},
     "output_type": "execute_result"
    },
    {
     "data": {
      "text/plain": [
       "array([  79,   27,  -13,   34,   70,   14, -311], dtype=int64)"
      ]
     },
     "execution_count": 64,
     "metadata": {},
     "output_type": "execute_result"
    },
    {
     "data": {
      "text/plain": [
       "array([  31,   16,   46,   44,   -2, -194,  -13], dtype=int64)"
      ]
     },
     "execution_count": 64,
     "metadata": {},
     "output_type": "execute_result"
    },
    {
     "data": {
      "text/plain": [
       "array([  -4,   28,   60,   28, -271,   13,    5], dtype=int64)"
      ]
     },
     "execution_count": 64,
     "metadata": {},
     "output_type": "execute_result"
    },
    {
     "data": {
      "text/plain": [
       "array([   2,   39,   17, -359,   11,   29,   -7], dtype=int64)"
      ]
     },
     "execution_count": 64,
     "metadata": {},
     "output_type": "execute_result"
    },
    {
     "data": {
      "text/plain": [
       "array([  38,   25, -164,    6,   49,    6,    1], dtype=int64)"
      ]
     },
     "execution_count": 64,
     "metadata": {},
     "output_type": "execute_result"
    },
    {
     "data": {
      "text/plain": [
       "array([  21, -258,    8,   23,   29,   -2,   22], dtype=int64)"
      ]
     },
     "execution_count": 64,
     "metadata": {},
     "output_type": "execute_result"
    },
    {
     "data": {
      "text/plain": [
       "array([747,  14,  41,  40, -30,  36,  45], dtype=int64)"
      ]
     },
     "execution_count": 64,
     "metadata": {},
     "output_type": "execute_result"
    },
    {
     "data": {
      "text/plain": [
       "array([ 17,  43, -14,  27,  58,  13,  45], dtype=int64)"
      ]
     },
     "execution_count": 64,
     "metadata": {},
     "output_type": "execute_result"
    },
    {
     "data": {
      "text/plain": [
       "array([ 25,  17,  -4,  14,  54,  23, 221], dtype=int64)"
      ]
     },
     "execution_count": 64,
     "metadata": {},
     "output_type": "execute_result"
    },
    {
     "data": {
      "text/plain": [
       "array([  48,    0,   66,   34,   34, -237,   -1], dtype=int64)"
      ]
     },
     "execution_count": 64,
     "metadata": {},
     "output_type": "execute_result"
    },
    {
     "data": {
      "text/plain": [
       "array([ 20,  48,  37,  37, -35,   2,  51], dtype=int64)"
      ]
     },
     "execution_count": 64,
     "metadata": {},
     "output_type": "execute_result"
    },
    {
     "data": {
      "text/plain": [
       "array([  22,   26,   37, -917,    6,   40,  -13], dtype=int64)"
      ]
     },
     "execution_count": 64,
     "metadata": {},
     "output_type": "execute_result"
    },
    {
     "data": {
      "text/plain": [
       "array([  2,  43, 380,  35,  34,  13,  25], dtype=int64)"
      ]
     },
     "execution_count": 64,
     "metadata": {},
     "output_type": "execute_result"
    },
    {
     "data": {
      "text/plain": [
       "array([  15, -708,   24,   20,   17,   -7,   38], dtype=int64)"
      ]
     },
     "execution_count": 64,
     "metadata": {},
     "output_type": "execute_result"
    },
    {
     "data": {
      "text/plain": [
       "array([93, -2, 41, 16, 19, 29, 26], dtype=int64)"
      ]
     },
     "execution_count": 64,
     "metadata": {},
     "output_type": "execute_result"
    },
    {
     "data": {
      "text/plain": [
       "array([20, 10, 10,  4, 29, 18,  3], dtype=int64)"
      ]
     },
     "execution_count": 64,
     "metadata": {},
     "output_type": "execute_result"
    },
    {
     "data": {
      "text/plain": [
       "array([29, 24, 58, 13, 21, 18, 39], dtype=int64)"
      ]
     },
     "execution_count": 64,
     "metadata": {},
     "output_type": "execute_result"
    },
    {
     "data": {
      "text/plain": [
       "array([ 14,  67,  19,  21,  25, 642,  39], dtype=int64)"
      ]
     },
     "execution_count": 64,
     "metadata": {},
     "output_type": "execute_result"
    },
    {
     "data": {
      "text/plain": [
       "array([  75,   32,   33,   43, -550,   40,   40], dtype=int64)"
      ]
     },
     "execution_count": 64,
     "metadata": {},
     "output_type": "execute_result"
    },
    {
     "data": {
      "text/plain": [
       "array([   52,    31,    37, -1130,    18,    -5,    24], dtype=int64)"
      ]
     },
     "execution_count": 64,
     "metadata": {},
     "output_type": "execute_result"
    },
    {
     "data": {
      "text/plain": [
       "array([22, 31, 34, 29, 13,  9, 18], dtype=int64)"
      ]
     },
     "execution_count": 64,
     "metadata": {},
     "output_type": "execute_result"
    },
    {
     "data": {
      "text/plain": [
       "array([ -10, -282,   -8,   24,   38,    2,   45], dtype=int64)"
      ]
     },
     "execution_count": 64,
     "metadata": {},
     "output_type": "execute_result"
    },
    {
     "data": {
      "text/plain": [
       "array([-42,  27,  24,   7,  28,   0,  32], dtype=int64)"
      ]
     },
     "execution_count": 64,
     "metadata": {},
     "output_type": "execute_result"
    },
    {
     "data": {
      "text/plain": [
       "array([20, -4, 18, 38, 11, 27, 40], dtype=int64)"
      ]
     },
     "execution_count": 64,
     "metadata": {},
     "output_type": "execute_result"
    },
    {
     "data": {
      "text/plain": [
       "array([-19,  40,  30,  -1,  35,  20,  83], dtype=int64)"
      ]
     },
     "execution_count": 64,
     "metadata": {},
     "output_type": "execute_result"
    },
    {
     "data": {
      "text/plain": [
       "array([  19,   37,   18,   20,   24, -123,   20], dtype=int64)"
      ]
     },
     "execution_count": 64,
     "metadata": {},
     "output_type": "execute_result"
    },
    {
     "data": {
      "text/plain": [
       "array([ -6,  20,  44,  35, -56,  -9,  49], dtype=int64)"
      ]
     },
     "execution_count": 64,
     "metadata": {},
     "output_type": "execute_result"
    },
    {
     "data": {
      "text/plain": [
       "array([   8,   29,   30, -209,   26,  -12,   35], dtype=int64)"
      ]
     },
     "execution_count": 64,
     "metadata": {},
     "output_type": "execute_result"
    },
    {
     "data": {
      "text/plain": [
       "array([  26,    0, -544,   -3,   12,   19,   49], dtype=int64)"
      ]
     },
     "execution_count": 64,
     "metadata": {},
     "output_type": "execute_result"
    },
    {
     "data": {
      "text/plain": [
       "array([ 20, 189,  28,  15,  -3,  61,  20], dtype=int64)"
      ]
     },
     "execution_count": 64,
     "metadata": {},
     "output_type": "execute_result"
    },
    {
     "data": {
      "text/plain": [
       "array([-147,   32,   21,   18,   10,   44,   20], dtype=int64)"
      ]
     },
     "execution_count": 64,
     "metadata": {},
     "output_type": "execute_result"
    },
    {
     "data": {
      "text/plain": [
       "array([-7, 51, 22, 16, 17, 38, 13], dtype=int64)"
      ]
     },
     "execution_count": 64,
     "metadata": {},
     "output_type": "execute_result"
    },
    {
     "data": {
      "text/plain": [
       "array([  20,   20,   60,  -12,   39,   24, -173], dtype=int64)"
      ]
     },
     "execution_count": 64,
     "metadata": {},
     "output_type": "execute_result"
    },
    {
     "data": {
      "text/plain": [
       "array([ -3,  20,  38,  16,  28, -15,  28], dtype=int64)"
      ]
     },
     "execution_count": 64,
     "metadata": {},
     "output_type": "execute_result"
    },
    {
     "data": {
      "text/plain": [
       "array([  36,   16,   19,   26, -397,   22,   17], dtype=int64)"
      ]
     },
     "execution_count": 64,
     "metadata": {},
     "output_type": "execute_result"
    },
    {
     "data": {
      "text/plain": [
       "array([ 28,  24,  26, 321,  28,  31,   9], dtype=int64)"
      ]
     },
     "execution_count": 64,
     "metadata": {},
     "output_type": "execute_result"
    },
    {
     "data": {
      "text/plain": [
       "array([  29,   13, -197,   29,   28,   17,   -9], dtype=int64)"
      ]
     },
     "execution_count": 64,
     "metadata": {},
     "output_type": "execute_result"
    },
    {
     "data": {
      "text/plain": [
       "array([  46, 1679,   10,   34,   79,  -70,   72], dtype=int64)"
      ]
     },
     "execution_count": 64,
     "metadata": {},
     "output_type": "execute_result"
    },
    {
     "data": {
      "text/plain": [
       "array([-1791,    -4,    70,    29,    32,    23,    24], dtype=int64)"
      ]
     },
     "execution_count": 64,
     "metadata": {},
     "output_type": "execute_result"
    },
    {
     "data": {
      "text/plain": [
       "array([-10,  50,  28, -10,  51,  17,  -4], dtype=int64)"
      ]
     },
     "execution_count": 64,
     "metadata": {},
     "output_type": "execute_result"
    },
    {
     "data": {
      "text/plain": [
       "array([ 38,  18,  21,  13,  12,  -5, 764], dtype=int64)"
      ]
     },
     "execution_count": 64,
     "metadata": {},
     "output_type": "execute_result"
    },
    {
     "data": {
      "text/plain": [
       "array([  50,  -49,   52,    1,   28, -697,    0], dtype=int64)"
      ]
     },
     "execution_count": 64,
     "metadata": {},
     "output_type": "execute_result"
    },
    {
     "data": {
      "text/plain": [
       "array([ -20,   16,   -3,   23, 1553,    0,    5], dtype=int64)"
      ]
     },
     "execution_count": 64,
     "metadata": {},
     "output_type": "execute_result"
    },
    {
     "data": {
      "text/plain": [
       "array([   27,    -6,    51, -1772,    -6,    27,    23], dtype=int64)"
      ]
     },
     "execution_count": 64,
     "metadata": {},
     "output_type": "execute_result"
    },
    {
     "data": {
      "text/plain": [
       "array([22, -1, 71,  5, 39, 21, -5], dtype=int64)"
      ]
     },
     "execution_count": 64,
     "metadata": {},
     "output_type": "execute_result"
    },
    {
     "data": {
      "text/plain": [
       "array([  29, -210,   21,   24,   17,   34,   21], dtype=int64)"
      ]
     },
     "execution_count": 64,
     "metadata": {},
     "output_type": "execute_result"
    },
    {
     "data": {
      "text/plain": [
       "array([-205,   32,  -21,   54,   31,   21,   17], dtype=int64)"
      ]
     },
     "execution_count": 64,
     "metadata": {},
     "output_type": "execute_result"
    },
    {
     "data": {
      "text/plain": [
       "array([-11,  26,  24,  63,   6,  27,  10], dtype=int64)"
      ]
     },
     "execution_count": 64,
     "metadata": {},
     "output_type": "execute_result"
    },
    {
     "data": {
      "text/plain": [
       "array([ -11,   23,   40,   20,   41,   11, -140], dtype=int64)"
      ]
     },
     "execution_count": 64,
     "metadata": {},
     "output_type": "execute_result"
    },
    {
     "data": {
      "text/plain": [
       "array([  29,   20,   43,   34,    6, -233,  -11], dtype=int64)"
      ]
     },
     "execution_count": 64,
     "metadata": {},
     "output_type": "execute_result"
    },
    {
     "data": {
      "text/plain": [
       "array([ 57,  11,  20,  19,  14,  33, -10], dtype=int64)"
      ]
     },
     "execution_count": 64,
     "metadata": {},
     "output_type": "execute_result"
    },
    {
     "data": {
      "text/plain": [
       "array([   11,    28,    26, -1057,    -3,     6,     8], dtype=int64)"
      ]
     },
     "execution_count": 64,
     "metadata": {},
     "output_type": "execute_result"
    },
    {
     "data": {
      "text/plain": [
       "array([  4,   6, 624,  23,  -7,  15,  61], dtype=int64)"
      ]
     },
     "execution_count": 64,
     "metadata": {},
     "output_type": "execute_result"
    },
    {
     "data": {
      "text/plain": [
       "array([  19, -399,   -6,   17,   15,   38,   11], dtype=int64)"
      ]
     },
     "execution_count": 64,
     "metadata": {},
     "output_type": "execute_result"
    },
    {
     "data": {
      "text/plain": [
       "array([166,  24,  15,  14,  40,   6,  32], dtype=int64)"
      ]
     },
     "execution_count": 64,
     "metadata": {},
     "output_type": "execute_result"
    },
    {
     "data": {
      "text/plain": [
       "array([ 7,  7, 30,  9, 25, 26,  8], dtype=int64)"
      ]
     },
     "execution_count": 64,
     "metadata": {},
     "output_type": "execute_result"
    },
    {
     "data": {
      "text/plain": [
       "array([ -11,   21,   20,   48,   22,   11, -256], dtype=int64)"
      ]
     },
     "execution_count": 64,
     "metadata": {},
     "output_type": "execute_result"
    },
    {
     "data": {
      "text/plain": [
       "array([  3,  39,  10,  15,   4, 126,  -5], dtype=int64)"
      ]
     },
     "execution_count": 64,
     "metadata": {},
     "output_type": "execute_result"
    },
    {
     "data": {
      "text/plain": [
       "array([  35,   11,   45,   15, -384,   -8,   20], dtype=int64)"
      ]
     },
     "execution_count": 64,
     "metadata": {},
     "output_type": "execute_result"
    },
    {
     "data": {
      "text/plain": [
       "array([  40,   21,   -2, -213,   13,   -2,   15], dtype=int64)"
      ]
     },
     "execution_count": 64,
     "metadata": {},
     "output_type": "execute_result"
    },
    {
     "data": {
      "text/plain": [
       "array([ 40,  27, 283, -10,  44,  29,   7], dtype=int64)"
      ]
     },
     "execution_count": 64,
     "metadata": {},
     "output_type": "execute_result"
    },
    {
     "data": {
      "text/plain": [
       "array([  28, -158,   23,   37,   18,   -3,   70], dtype=int64)"
      ]
     },
     "execution_count": 64,
     "metadata": {},
     "output_type": "execute_result"
    },
    {
     "data": {
      "text/plain": [
       "array([324,  19,   1,  73, -15,  63,  39], dtype=int64)"
      ]
     },
     "execution_count": 64,
     "metadata": {},
     "output_type": "execute_result"
    },
    {
     "data": {
      "text/plain": [
       "array([15,  0, 63,  4, 36, 32, 27], dtype=int64)"
      ]
     },
     "execution_count": 64,
     "metadata": {},
     "output_type": "execute_result"
    },
    {
     "data": {
      "text/plain": [
       "array([  24,   25,   65,    1,   37,   25, -229], dtype=int64)"
      ]
     },
     "execution_count": 64,
     "metadata": {},
     "output_type": "execute_result"
    },
    {
     "data": {
      "text/plain": [
       "array([ 45, -29,  36,   2,  24,  79,  -7], dtype=int64)"
      ]
     },
     "execution_count": 64,
     "metadata": {},
     "output_type": "execute_result"
    },
    {
     "data": {
      "text/plain": [
       "array([  70,    0,   41,   28, -463,   11,    7], dtype=int64)"
      ]
     },
     "execution_count": 64,
     "metadata": {},
     "output_type": "execute_result"
    },
    {
     "data": {
      "text/plain": [
       "array([  9,  12,  23, 128,  30,   9,   2], dtype=int64)"
      ]
     },
     "execution_count": 64,
     "metadata": {},
     "output_type": "execute_result"
    },
    {
     "data": {
      "text/plain": [
       "array([  22,   10, -256,  -10,   26,   31,   53], dtype=int64)"
      ]
     },
     "execution_count": 64,
     "metadata": {},
     "output_type": "execute_result"
    },
    {
     "data": {
      "text/plain": [
       "array([  38, -268,   21,   -7,   26,   20,   50], dtype=int64)"
      ]
     },
     "execution_count": 64,
     "metadata": {},
     "output_type": "execute_result"
    },
    {
     "data": {
      "text/plain": [
       "array([-198,   25,    3,   22,    3,   31,   41], dtype=int64)"
      ]
     },
     "execution_count": 64,
     "metadata": {},
     "output_type": "execute_result"
    },
    {
     "data": {
      "text/plain": [
       "array([-3, 14, 20, 27, 52, 25, 23], dtype=int64)"
      ]
     },
     "execution_count": 64,
     "metadata": {},
     "output_type": "execute_result"
    },
    {
     "data": {
      "text/plain": [
       "array([-13,  22,  55,   6,  25,  21,  83], dtype=int64)"
      ]
     },
     "execution_count": 64,
     "metadata": {},
     "output_type": "execute_result"
    },
    {
     "data": {
      "text/plain": [
       "array([  17,  -10,   35,    3,   63, -330,   22], dtype=int64)"
      ]
     },
     "execution_count": 64,
     "metadata": {},
     "output_type": "execute_result"
    },
    {
     "data": {
      "text/plain": [
       "array([-1, 21, 51, 23, 56,  1, 21], dtype=int64)"
      ]
     },
     "execution_count": 64,
     "metadata": {},
     "output_type": "execute_result"
    },
    {
     "data": {
      "text/plain": [
       "array([ 53,  36,  14, -57,  30, -19,  31], dtype=int64)"
      ]
     },
     "execution_count": 64,
     "metadata": {},
     "output_type": "execute_result"
    },
    {
     "data": {
      "text/plain": [
       "array([   7,   29, -619,   25,  -10,   17,   48], dtype=int64)"
      ]
     },
     "execution_count": 64,
     "metadata": {},
     "output_type": "execute_result"
    },
    {
     "data": {
      "text/plain": [
       "array([ 17, 166,  -6,  23,  29,  18,  38], dtype=int64)"
      ]
     },
     "execution_count": 64,
     "metadata": {},
     "output_type": "execute_result"
    },
    {
     "data": {
      "text/plain": [
       "array([-94,  35, -11,  19,  25,  33,  42], dtype=int64)"
      ]
     },
     "execution_count": 64,
     "metadata": {},
     "output_type": "execute_result"
    },
    {
     "data": {
      "text/plain": [
       "array([ -7,  20,  20,  54,  18, -22,  52], dtype=int64)"
      ]
     },
     "execution_count": 64,
     "metadata": {},
     "output_type": "execute_result"
    },
    {
     "data": {
      "text/plain": [
       "array([  27,   41,   46,    6,  -11,   29, -393], dtype=int64)"
      ]
     },
     "execution_count": 64,
     "metadata": {},
     "output_type": "execute_result"
    },
    {
     "data": {
      "text/plain": [
       "array([  11,   40,   27,   23,    8, -158,   -5], dtype=int64)"
      ]
     },
     "execution_count": 64,
     "metadata": {},
     "output_type": "execute_result"
    },
    {
     "data": {
      "text/plain": [
       "array([33, -2, 27, 22, 72, 27, -9], dtype=int64)"
      ]
     },
     "execution_count": 64,
     "metadata": {},
     "output_type": "execute_result"
    },
    {
     "data": {
      "text/plain": [
       "array([  25,   38,   16, -231,   12,   -2,   30], dtype=int64)"
      ]
     },
     "execution_count": 64,
     "metadata": {},
     "output_type": "execute_result"
    },
    {
     "data": {
      "text/plain": [
       "array([  9,   1, 262,   3,  60,  -9,  16], dtype=int64)"
      ]
     },
     "execution_count": 64,
     "metadata": {},
     "output_type": "execute_result"
    },
    {
     "data": {
      "text/plain": [
       "array([  31, -131,  -13,   27,   41,   52,   40], dtype=int64)"
      ]
     },
     "execution_count": 64,
     "metadata": {},
     "output_type": "execute_result"
    },
    {
     "data": {
      "text/plain": [
       "array([ 34, -13,  70,   0,  18,  74,  26], dtype=int64)"
      ]
     },
     "execution_count": 64,
     "metadata": {},
     "output_type": "execute_result"
    },
    {
     "data": {
      "text/plain": [
       "array([ 37,  40, -19,  78, -25,  39,  67], dtype=int64)"
      ]
     },
     "execution_count": 64,
     "metadata": {},
     "output_type": "execute_result"
    },
    {
     "data": {
      "text/plain": [
       "array([  38,   26,   47,   10,   47,   38, -388], dtype=int64)"
      ]
     },
     "execution_count": 64,
     "metadata": {},
     "output_type": "execute_result"
    },
    {
     "data": {
      "text/plain": [
       "array([  47,   41,   22,   27,   34, -740,   -3], dtype=int64)"
      ]
     },
     "execution_count": 64,
     "metadata": {},
     "output_type": "execute_result"
    },
    {
     "data": {
      "text/plain": [
       "array([ 31,  -9,  41,  32, 329, -13,  35], dtype=int64)"
      ]
     },
     "execution_count": 64,
     "metadata": {},
     "output_type": "execute_result"
    },
    {
     "data": {
      "text/plain": [
       "array([  26,   27,  -22, -580,   -5,   32,   34], dtype=int64)"
      ]
     },
     "execution_count": 64,
     "metadata": {},
     "output_type": "execute_result"
    },
    {
     "data": {
      "text/plain": [
       "array([ 19, -17, 127,  -2,  66,  21,  36], dtype=int64)"
      ]
     },
     "execution_count": 64,
     "metadata": {},
     "output_type": "execute_result"
    },
    {
     "data": {
      "text/plain": [
       "array([  24, -695,   -6,   29,   28,   34,  -18], dtype=int64)"
      ]
     },
     "execution_count": 64,
     "metadata": {},
     "output_type": "execute_result"
    },
    {
     "data": {
      "text/plain": [
       "array([-142,   -7,   21,   33,    6,   38,   21], dtype=int64)"
      ]
     },
     "execution_count": 64,
     "metadata": {},
     "output_type": "execute_result"
    },
    {
     "data": {
      "text/plain": [
       "array([ 23,   2,  17,  28, -13,  23,  32], dtype=int64)"
      ]
     },
     "execution_count": 64,
     "metadata": {},
     "output_type": "execute_result"
    },
    {
     "data": {
      "text/plain": [
       "array([ -10,   40,   -1,   51,   12,    9, -208], dtype=int64)"
      ]
     },
     "execution_count": 64,
     "metadata": {},
     "output_type": "execute_result"
    },
    {
     "data": {
      "text/plain": [
       "array([ 25,  49,   5,  20,  30, -84,  16], dtype=int64)"
      ]
     },
     "execution_count": 64,
     "metadata": {},
     "output_type": "execute_result"
    },
    {
     "data": {
      "text/plain": [
       "array([ 33,  19,  32,  26, 268,   0,  40], dtype=int64)"
      ]
     },
     "execution_count": 64,
     "metadata": {},
     "output_type": "execute_result"
    },
    {
     "data": {
      "text/plain": [
       "array([ -20,   56,   40, -675,   12,   31,   15], dtype=int64)"
      ]
     },
     "execution_count": 64,
     "metadata": {},
     "output_type": "execute_result"
    },
    {
     "data": {
      "text/plain": [
       "array([  37,   19, -176,  -13,   22,   46,   24], dtype=int64)"
      ]
     },
     "execution_count": 64,
     "metadata": {},
     "output_type": "execute_result"
    },
    {
     "data": {
      "text/plain": [
       "array([   0, -121,   19,   26,    5,   35,    8], dtype=int64)"
      ]
     },
     "execution_count": 64,
     "metadata": {},
     "output_type": "execute_result"
    },
    {
     "data": {
      "text/plain": [
       "array([-91, -10,  26,  40,  18,  25,  18], dtype=int64)"
      ]
     },
     "execution_count": 64,
     "metadata": {},
     "output_type": "execute_result"
    },
    {
     "data": {
      "text/plain": [
       "array([36, 42, 30, 35, 32, 26, 39], dtype=int64)"
      ]
     },
     "execution_count": 64,
     "metadata": {},
     "output_type": "execute_result"
    },
    {
     "data": {
      "text/plain": [
       "array([   43,    35,    49,    45,   -26,   101, -1751], dtype=int64)"
      ]
     },
     "execution_count": 64,
     "metadata": {},
     "output_type": "execute_result"
    },
    {
     "data": {
      "text/plain": [
       "array([  7,  38,   9, -12,  57, 158,   4], dtype=int64)"
      ]
     },
     "execution_count": 64,
     "metadata": {},
     "output_type": "execute_result"
    },
    {
     "data": {
      "text/plain": [
       "array([34, 27, 24, 29, -1, 25, 35], dtype=int64)"
      ]
     },
     "execution_count": 64,
     "metadata": {},
     "output_type": "execute_result"
    },
    {
     "data": {
      "text/plain": [
       "array([  79,   23,   32, -518,   17,   34,  -13], dtype=int64)"
      ]
     },
     "execution_count": 64,
     "metadata": {},
     "output_type": "execute_result"
    },
    {
     "data": {
      "text/plain": [
       "array([24, 28, 85, 25, 45, 23, -3], dtype=int64)"
      ]
     },
     "execution_count": 64,
     "metadata": {},
     "output_type": "execute_result"
    },
    {
     "data": {
      "text/plain": [
       "array([  32, -742,    6,   42,    4,    4,   47], dtype=int64)"
      ]
     },
     "execution_count": 64,
     "metadata": {},
     "output_type": "execute_result"
    },
    {
     "data": {
      "text/plain": [
       "array([-269,    2,   20,   29,    5,   31,   16], dtype=int64)"
      ]
     },
     "execution_count": 64,
     "metadata": {},
     "output_type": "execute_result"
    },
    {
     "data": {
      "text/plain": [
       "array([ 3, 15, 10, 20, 25, 35, 20], dtype=int64)"
      ]
     },
     "execution_count": 64,
     "metadata": {},
     "output_type": "execute_result"
    },
    {
     "data": {
      "text/plain": [
       "array([ 42,  19,  28, -19,  46,  31, 487], dtype=int64)"
      ]
     },
     "execution_count": 64,
     "metadata": {},
     "output_type": "execute_result"
    },
    {
     "data": {
      "text/plain": [
       "array([  12,   95,   23,  -21,   76, -431,    5], dtype=int64)"
      ]
     },
     "execution_count": 64,
     "metadata": {},
     "output_type": "execute_result"
    },
    {
     "data": {
      "text/plain": [
       "array([  33,   22,   63,    8, -148,   10,   47], dtype=int64)"
      ]
     },
     "execution_count": 64,
     "metadata": {},
     "output_type": "execute_result"
    },
    {
     "data": {
      "text/plain": [
       "array([  46,   33,   32, -656,   24,   -2,   26], dtype=int64)"
      ]
     },
     "execution_count": 64,
     "metadata": {},
     "output_type": "execute_result"
    },
    {
     "data": {
      "text/plain": [
       "array([34, 22, 11, 36,  6,  2, 37], dtype=int64)"
      ]
     },
     "execution_count": 64,
     "metadata": {},
     "output_type": "execute_result"
    },
    {
     "data": {
      "text/plain": [
       "array([ 22, 130,  32, -12,  38,  67,  28], dtype=int64)"
      ]
     },
     "execution_count": 64,
     "metadata": {},
     "output_type": "execute_result"
    },
    {
     "data": {
      "text/plain": [
       "array([-373,   32,   25,   21,   24,   21,   21], dtype=int64)"
      ]
     },
     "execution_count": 64,
     "metadata": {},
     "output_type": "execute_result"
    },
    {
     "data": {
      "text/plain": [
       "array([19, -6, 31,  3, 35, 15, 16], dtype=int64)"
      ]
     },
     "execution_count": 64,
     "metadata": {},
     "output_type": "execute_result"
    },
    {
     "data": {
      "text/plain": [
       "array([ 49,  25,  22,   6,  -9,  35, -79], dtype=int64)"
      ]
     },
     "execution_count": 64,
     "metadata": {},
     "output_type": "execute_result"
    },
    {
     "data": {
      "text/plain": [
       "array([   4,   18,   42,   18,  -12, -114,   -7], dtype=int64)"
      ]
     },
     "execution_count": 64,
     "metadata": {},
     "output_type": "execute_result"
    },
    {
     "data": {
      "text/plain": [
       "array([  17,   34,   20,    2, -143,   -8,   19], dtype=int64)"
      ]
     },
     "execution_count": 64,
     "metadata": {},
     "output_type": "execute_result"
    },
    {
     "data": {
      "text/plain": [
       "array([   8,   25,   22, -357,    2,   13,   26], dtype=int64)"
      ]
     },
     "execution_count": 64,
     "metadata": {},
     "output_type": "execute_result"
    },
    {
     "data": {
      "text/plain": [
       "array([ 39,  18, -80,  23,  16,   5,  36], dtype=int64)"
      ]
     },
     "execution_count": 64,
     "metadata": {},
     "output_type": "execute_result"
    },
    {
     "data": {
      "text/plain": [
       "array([ 20, 203,  -8,  59,  11,   5,  25], dtype=int64)"
      ]
     },
     "execution_count": 64,
     "metadata": {},
     "output_type": "execute_result"
    },
    {
     "data": {
      "text/plain": [
       "array([-277,   -6,   49,   12,    9,   39,   -6], dtype=int64)"
      ]
     },
     "execution_count": 64,
     "metadata": {},
     "output_type": "execute_result"
    },
    {
     "data": {
      "text/plain": [
       "array([ 34,  12,  28,  49,  19, -17,  43], dtype=int64)"
      ]
     },
     "execution_count": 64,
     "metadata": {},
     "output_type": "execute_result"
    },
    {
     "data": {
      "text/plain": [
       "array([ 24,   0,  54,  18,  19,   9, -57], dtype=int64)"
      ]
     },
     "execution_count": 64,
     "metadata": {},
     "output_type": "execute_result"
    },
    {
     "data": {
      "text/plain": [
       "array([  30,   54,    1,   20,   20, -347,   22], dtype=int64)"
      ]
     },
     "execution_count": 64,
     "metadata": {},
     "output_type": "execute_result"
    },
    {
     "data": {
      "text/plain": [
       "array([ -7,  45,  16,  20, -43,  25,  18], dtype=int64)"
      ]
     },
     "execution_count": 64,
     "metadata": {},
     "output_type": "execute_result"
    },
    {
     "data": {
      "text/plain": [
       "array([  54,   -8,   43, -384,   -7,   30,   12], dtype=int64)"
      ]
     },
     "execution_count": 64,
     "metadata": {},
     "output_type": "execute_result"
    },
    {
     "data": {
      "text/plain": [
       "array([ 8, -5, 15,  5,  5, 14, 21], dtype=int64)"
      ]
     },
     "execution_count": 64,
     "metadata": {},
     "output_type": "execute_result"
    },
    {
     "data": {
      "text/plain": [
       "array([20, 74, 10, 38, 18, -6, 40], dtype=int64)"
      ]
     },
     "execution_count": 64,
     "metadata": {},
     "output_type": "execute_result"
    },
    {
     "data": {
      "text/plain": [
       "array([157, -13,  46,  46,   5,   8,  62], dtype=int64)"
      ]
     },
     "execution_count": 64,
     "metadata": {},
     "output_type": "execute_result"
    },
    {
     "data": {
      "text/plain": [
       "array([-10,  46,  13,  22,   7,  13,  -6], dtype=int64)"
      ]
     },
     "execution_count": 64,
     "metadata": {},
     "output_type": "execute_result"
    },
    {
     "data": {
      "text/plain": [
       "array([ 34, -12,  48,  19, -19,  49, 247], dtype=int64)"
      ]
     },
     "execution_count": 64,
     "metadata": {},
     "output_type": "execute_result"
    },
    {
     "data": {
      "text/plain": [
       "array([  42,  -10,   28,   46,   29, -800,    3], dtype=int64)"
      ]
     },
     "execution_count": 64,
     "metadata": {},
     "output_type": "execute_result"
    },
    {
     "data": {
      "text/plain": [
       "array([ -4,   7,  42,   0, 867,  30,  30], dtype=int64)"
      ]
     },
     "execution_count": 64,
     "metadata": {},
     "output_type": "execute_result"
    },
    {
     "data": {
      "text/plain": [
       "array([  28,   20,   35, -698,  -11,   62,    2], dtype=int64)"
      ]
     },
     "execution_count": 64,
     "metadata": {},
     "output_type": "execute_result"
    },
    {
     "data": {
      "text/plain": [
       "array([ 20, -11,  95,  21,  39, -24,  74], dtype=int64)"
      ]
     },
     "execution_count": 64,
     "metadata": {},
     "output_type": "execute_result"
    },
    {
     "data": {
      "text/plain": [
       "array([ -11, -321,   -8,   31,   36,  -26,   50], dtype=int64)"
      ]
     },
     "execution_count": 64,
     "metadata": {},
     "output_type": "execute_result"
    },
    {
     "data": {
      "text/plain": [
       "array([-140,    1,   14,   56,   -6,   41,   25], dtype=int64)"
      ]
     },
     "execution_count": 64,
     "metadata": {},
     "output_type": "execute_result"
    },
    {
     "data": {
      "text/plain": [
       "array([-8, 38, 17, 19, 16, 13, -5], dtype=int64)"
      ]
     },
     "execution_count": 64,
     "metadata": {},
     "output_type": "execute_result"
    },
    {
     "data": {
      "text/plain": [
       "array([  27,   19,   -4,   54,   28,   27, -558], dtype=int64)"
      ]
     },
     "execution_count": 64,
     "metadata": {},
     "output_type": "execute_result"
    },
    {
     "data": {
      "text/plain": [
       "array([  10,    3,   37,   16,   22, -200,   19], dtype=int64)"
      ]
     },
     "execution_count": 64,
     "metadata": {},
     "output_type": "execute_result"
    },
    {
     "data": {
      "text/plain": [
       "array([ 23, -11,  35,  22, 519, -21,  72], dtype=int64)"
      ]
     },
     "execution_count": 64,
     "metadata": {},
     "output_type": "execute_result"
    },
    {
     "data": {
      "text/plain": [
       "array([  31,   56,   40, -509,   24,   -9,   26], dtype=int64)"
      ]
     },
     "execution_count": 64,
     "metadata": {},
     "output_type": "execute_result"
    },
    {
     "data": {
      "text/plain": [
       "array([ 20,  25,   3, -11,  65,  16,  43], dtype=int64)"
      ]
     },
     "execution_count": 64,
     "metadata": {},
     "output_type": "execute_result"
    },
    {
     "data": {
      "text/plain": [
       "array([  59, -520,    3,   40,    2,    4,   18], dtype=int64)"
      ]
     },
     "execution_count": 64,
     "metadata": {},
     "output_type": "execute_result"
    },
    {
     "data": {
      "text/plain": [
       "array([-89, -12,  40,   8,  14,  45, -12], dtype=int64)"
      ]
     },
     "execution_count": 64,
     "metadata": {},
     "output_type": "execute_result"
    },
    {
     "data": {
      "text/plain": [
       "array([ -3,  36,  19,  20,  16, -11,  40], dtype=int64)"
      ]
     },
     "execution_count": 64,
     "metadata": {},
     "output_type": "execute_result"
    },
    {
     "data": {
      "text/plain": [
       "array([   32,    57,   -35,    33,     3,    43, -1142], dtype=int64)"
      ]
     },
     "execution_count": 64,
     "metadata": {},
     "output_type": "execute_result"
    },
    {
     "data": {
      "text/plain": [
       "array([  17,   -7,   53,   19,   -9, 1353,  -11], dtype=int64)"
      ]
     },
     "execution_count": 64,
     "metadata": {},
     "output_type": "execute_result"
    },
    {
     "data": {
      "text/plain": [
       "array([  -18,    50,    18,    52, -1743,    -3,    15], dtype=int64)"
      ]
     },
     "execution_count": 64,
     "metadata": {},
     "output_type": "execute_result"
    },
    {
     "data": {
      "text/plain": [
       "array([ 21,  36,  -2, 136,  32,  12,  38], dtype=int64)"
      ]
     },
     "execution_count": 64,
     "metadata": {},
     "output_type": "execute_result"
    },
    {
     "data": {
      "text/plain": [
       "array([  61,   28, -467,   24,   24,   15,   28], dtype=int64)"
      ]
     },
     "execution_count": 64,
     "metadata": {},
     "output_type": "execute_result"
    },
    {
     "data": {
      "text/plain": [
       "array([20, 72, 26, 24, 25, 32, -5], dtype=int64)"
      ]
     },
     "execution_count": 64,
     "metadata": {},
     "output_type": "execute_result"
    },
    {
     "data": {
      "text/plain": [
       "array([-109,   30,   29,    6,   -1,   51,   15], dtype=int64)"
      ]
     },
     "execution_count": 64,
     "metadata": {},
     "output_type": "execute_result"
    },
    {
     "data": {
      "text/plain": [
       "array([ -7,  19,  45,  39,   7, -10,  44], dtype=int64)"
      ]
     },
     "execution_count": 64,
     "metadata": {},
     "output_type": "execute_result"
    },
    {
     "data": {
      "text/plain": [
       "array([17, 30,  6, 24, 33, 19, 95], dtype=int64)"
      ]
     },
     "execution_count": 64,
     "metadata": {},
     "output_type": "execute_result"
    },
    {
     "data": {
      "text/plain": [
       "array([  2,  44,  -2,  38,  16, -36,   2], dtype=int64)"
      ]
     },
     "execution_count": 64,
     "metadata": {},
     "output_type": "execute_result"
    },
    {
     "data": {
      "text/plain": [
       "array([  61,   21,   21,   20, -243,   26,   21], dtype=int64)"
      ]
     },
     "execution_count": 64,
     "metadata": {},
     "output_type": "execute_result"
    },
    {
     "data": {
      "text/plain": [
       "array([  32,   30,   27, -138,   21,   27,   -7], dtype=int64)"
      ]
     },
     "execution_count": 64,
     "metadata": {},
     "output_type": "execute_result"
    },
    {
     "data": {
      "text/plain": [
       "array([   4,   37, -138,   -1,   53,   18,   -7], dtype=int64)"
      ]
     },
     "execution_count": 64,
     "metadata": {},
     "output_type": "execute_result"
    },
    {
     "data": {
      "text/plain": [
       "array([ 55, 340,   8,  60, -13,  65,  31], dtype=int64)"
      ]
     },
     "execution_count": 64,
     "metadata": {},
     "output_type": "execute_result"
    },
    {
     "data": {
      "text/plain": [
       "array([-617,   -4,   46,   29,   -7,   13,   26], dtype=int64)"
      ]
     },
     "execution_count": 64,
     "metadata": {},
     "output_type": "execute_result"
    },
    {
     "data": {
      "text/plain": [
       "array([-13,  44,   5,  25,  21,  46,  28], dtype=int64)"
      ]
     },
     "execution_count": 64,
     "metadata": {},
     "output_type": "execute_result"
    },
    {
     "data": {
      "text/plain": [
       "array([19,  7, 29, 53, 26, 28,  1], dtype=int64)"
      ]
     },
     "execution_count": 64,
     "metadata": {},
     "output_type": "execute_result"
    },
    {
     "data": {
      "text/plain": [
       "array([  29,  -18,   49,   18,    1, -804,   -6], dtype=int64)"
      ]
     },
     "execution_count": 64,
     "metadata": {},
     "output_type": "execute_result"
    },
    {
     "data": {
      "text/plain": [
       "array([  19,    0,   28,    5, -508,   -2,    6], dtype=int64)"
      ]
     },
     "execution_count": 64,
     "metadata": {},
     "output_type": "execute_result"
    },
    {
     "data": {
      "text/plain": [
       "array([  6,   2,   9, 725,  27,  -6,  41], dtype=int64)"
      ]
     },
     "execution_count": 64,
     "metadata": {},
     "output_type": "execute_result"
    },
    {
     "data": {
      "text/plain": [
       "array([  28,   -8, -123,   -5,   43,   -5,   17], dtype=int64)"
      ]
     },
     "execution_count": 64,
     "metadata": {},
     "output_type": "execute_result"
    },
    {
     "data": {
      "text/plain": [
       "array([ 21, -88,  23,  30,  16,  -7,  49], dtype=int64)"
      ]
     },
     "execution_count": 64,
     "metadata": {},
     "output_type": "execute_result"
    },
    {
     "data": {
      "text/plain": [
       "array([-169,   18,   26,   -7,   17,   35,   42], dtype=int64)"
      ]
     },
     "execution_count": 64,
     "metadata": {},
     "output_type": "execute_result"
    },
    {
     "data": {
      "text/plain": [
       "array([-6, 29,  0, 15, 32,  2,  2], dtype=int64)"
      ]
     },
     "execution_count": 64,
     "metadata": {},
     "output_type": "execute_result"
    },
    {
     "data": {
      "text/plain": [
       "array([ 60,  13,  23,  39,  21,  -1, -61], dtype=int64)"
      ]
     },
     "execution_count": 64,
     "metadata": {},
     "output_type": "execute_result"
    },
    {
     "data": {
      "text/plain": [
       "array([  23,   17,   29,   49,   32, -200,  -13], dtype=int64)"
      ]
     },
     "execution_count": 64,
     "metadata": {},
     "output_type": "execute_result"
    },
    {
     "data": {
      "text/plain": [
       "array([  19,   48,   28,   32, -359,   30,   32], dtype=int64)"
      ]
     },
     "execution_count": 64,
     "metadata": {},
     "output_type": "execute_result"
    },
    {
     "data": {
      "text/plain": [
       "array([  11,   38,    5, -118,   30,   30,   20], dtype=int64)"
      ]
     },
     "execution_count": 64,
     "metadata": {},
     "output_type": "execute_result"
    },
    {
     "data": {
      "text/plain": [
       "array([  46,   29, -865,   16,   -6,   13,   36], dtype=int64)"
      ]
     },
     "execution_count": 64,
     "metadata": {},
     "output_type": "execute_result"
    },
    {
     "data": {
      "text/plain": [
       "array([ -2, 178,  25,  13,  16,  -3,  37], dtype=int64)"
      ]
     },
     "execution_count": 64,
     "metadata": {},
     "output_type": "execute_result"
    },
    {
     "data": {
      "text/plain": [
       "array([-122,   23,   -7,   25,   39,   10,   10], dtype=int64)"
      ]
     },
     "execution_count": 64,
     "metadata": {},
     "output_type": "execute_result"
    },
    {
     "data": {
      "text/plain": [
       "array([-8, 39, 29, -9, 43, 29, 18], dtype=int64)"
      ]
     },
     "execution_count": 64,
     "metadata": {},
     "output_type": "execute_result"
    },
    {
     "data": {
      "text/plain": [
       "array([  5,  60,  -7,  28,  45,  26, 175], dtype=int64)"
      ]
     },
     "execution_count": 64,
     "metadata": {},
     "output_type": "execute_result"
    },
    {
     "data": {
      "text/plain": [
       "array([  51,   11,   54,   44,   34, -880,   22], dtype=int64)"
      ]
     },
     "execution_count": 64,
     "metadata": {},
     "output_type": "execute_result"
    },
    {
     "data": {
      "text/plain": [
       "array([21,  8, 21, 24,  1, -3, 25], dtype=int64)"
      ]
     },
     "execution_count": 64,
     "metadata": {},
     "output_type": "execute_result"
    },
    {
     "data": {
      "text/plain": [
       "array([-17,  40,  17, 289,   5,  11,  41], dtype=int64)"
      ]
     },
     "execution_count": 64,
     "metadata": {},
     "output_type": "execute_result"
    },
    {
     "data": {
      "text/plain": [
       "array([  34,   31, -493,   16,    2,   52,    3], dtype=int64)"
      ]
     },
     "execution_count": 64,
     "metadata": {},
     "output_type": "execute_result"
    },
    {
     "data": {
      "text/plain": [
       "array([   2, -423,   21,   19,    4,   31,   -3], dtype=int64)"
      ]
     },
     "execution_count": 64,
     "metadata": {},
     "output_type": "execute_result"
    },
    {
     "data": {
      "text/plain": [
       "array([-229,   21,   -7,   16,   12,   23,   27], dtype=int64)"
      ]
     },
     "execution_count": 64,
     "metadata": {},
     "output_type": "execute_result"
    },
    {
     "data": {
      "text/plain": [
       "array([23,  9, 16, 32, -1, 28, 12], dtype=int64)"
      ]
     },
     "execution_count": 64,
     "metadata": {},
     "output_type": "execute_result"
    },
    {
     "data": {
      "text/plain": [
       "array([ 11,  28,  29,   0,  27,   9, -40], dtype=int64)"
      ]
     },
     "execution_count": 64,
     "metadata": {},
     "output_type": "execute_result"
    },
    {
     "data": {
      "text/plain": [
       "array([  50,   12,    6,   41,   41, -224,   -8], dtype=int64)"
      ]
     },
     "execution_count": 64,
     "metadata": {},
     "output_type": "execute_result"
    },
    {
     "data": {
      "text/plain": [
       "array([ 54,  20,  18, -11, -36,  31, -15], dtype=int64)"
      ]
     },
     "execution_count": 64,
     "metadata": {},
     "output_type": "execute_result"
    },
    {
     "data": {
      "text/plain": [
       "array([ -10,   56,   32, -134,   -8,   27,   55], dtype=int64)"
      ]
     },
     "execution_count": 64,
     "metadata": {},
     "output_type": "execute_result"
    },
    {
     "data": {
      "text/plain": [
       "array([  19,   25, -270,   30,   23,   17,  -10], dtype=int64)"
      ]
     },
     "execution_count": 64,
     "metadata": {},
     "output_type": "execute_result"
    },
    {
     "data": {
      "text/plain": [
       "array([  36, -227,   24,   -9,   24,   43,  -12], dtype=int64)"
      ]
     },
     "execution_count": 64,
     "metadata": {},
     "output_type": "execute_result"
    },
    {
     "data": {
      "text/plain": [
       "array([163, -14,  28,  39,  57,  25,  23], dtype=int64)"
      ]
     },
     "execution_count": 64,
     "metadata": {},
     "output_type": "execute_result"
    },
    {
     "data": {
      "text/plain": [
       "array([-9, 23, 42,  6, 55, 19, 23], dtype=int64)"
      ]
     },
     "execution_count": 64,
     "metadata": {},
     "output_type": "execute_result"
    },
    {
     "data": {
      "text/plain": [
       "array([  -9,   37,   -7,   40,   25,   -6, -242], dtype=int64)"
      ]
     },
     "execution_count": 64,
     "metadata": {},
     "output_type": "execute_result"
    },
    {
     "data": {
      "text/plain": [
       "array([ 15,  21,   9,  18,  11, 468,  12], dtype=int64)"
      ]
     },
     "execution_count": 64,
     "metadata": {},
     "output_type": "execute_result"
    },
    {
     "data": {
      "text/plain": [
       "array([  32,   16,   24,  -13, -144,    9,   54], dtype=int64)"
      ]
     },
     "execution_count": 64,
     "metadata": {},
     "output_type": "execute_result"
    },
    {
     "data": {
      "text/plain": [
       "array([  59,  -23,   67, -716,    8,   29,   -3], dtype=int64)"
      ]
     },
     "execution_count": 64,
     "metadata": {},
     "output_type": "execute_result"
    },
    {
     "data": {
      "text/plain": [
       "array([ 22,  10, 276,   5,  13,  27,  38], dtype=int64)"
      ]
     },
     "execution_count": 64,
     "metadata": {},
     "output_type": "execute_result"
    },
    {
     "data": {
      "text/plain": [
       "array([  28, -531,   10,   -1,   15,   50,   12], dtype=int64)"
      ]
     },
     "execution_count": 64,
     "metadata": {},
     "output_type": "execute_result"
    },
    {
     "data": {
      "text/plain": [
       "array([154,   5,  31,   6,  40,  14,  35], dtype=int64)"
      ]
     },
     "execution_count": 64,
     "metadata": {},
     "output_type": "execute_result"
    },
    {
     "data": {
      "text/plain": [
       "array([14, 25,  4, 29, 17, 34, 18], dtype=int64)"
      ]
     },
     "execution_count": 64,
     "metadata": {},
     "output_type": "execute_result"
    },
    {
     "data": {
      "text/plain": [
       "array([  20,   17,   27,   37,  -11,   44, -375], dtype=int64)"
      ]
     },
     "execution_count": 64,
     "metadata": {},
     "output_type": "execute_result"
    },
    {
     "data": {
      "text/plain": [
       "array([  1,  24,  10,   6,  22, 683,  -9], dtype=int64)"
      ]
     },
     "execution_count": 64,
     "metadata": {},
     "output_type": "execute_result"
    },
    {
     "data": {
      "text/plain": [
       "array([ 13,  39,   3,  50, 383,  31,  35], dtype=int64)"
      ]
     },
     "execution_count": 64,
     "metadata": {},
     "output_type": "execute_result"
    },
    {
     "data": {
      "text/plain": [
       "array([  98,   34,   25, -959,   22,   30,   18], dtype=int64)"
      ]
     },
     "execution_count": 64,
     "metadata": {},
     "output_type": "execute_result"
    },
    {
     "data": {
      "text/plain": [
       "array([  16,   24, -586,   18,   22,   -2,   35], dtype=int64)"
      ]
     },
     "execution_count": 64,
     "metadata": {},
     "output_type": "execute_result"
    },
    {
     "data": {
      "text/plain": [
       "array([ 15, 102,  27,  20,  20,  32,   0], dtype=int64)"
      ]
     },
     "execution_count": 64,
     "metadata": {},
     "output_type": "execute_result"
    },
    {
     "data": {
      "text/plain": [
       "array([-182,    2,   28,   22,   40,    5,    0], dtype=int64)"
      ]
     },
     "execution_count": 64,
     "metadata": {},
     "output_type": "execute_result"
    },
    {
     "data": {
      "text/plain": [
       "array([18,  0, 27, 24, 13, 12, 20], dtype=int64)"
      ]
     },
     "execution_count": 64,
     "metadata": {},
     "output_type": "execute_result"
    },
    {
     "data": {
      "text/plain": [
       "array([  13,   24,   -3,   37,   40,   27, -160], dtype=int64)"
      ]
     },
     "execution_count": 64,
     "metadata": {},
     "output_type": "execute_result"
    },
    {
     "data": {
      "text/plain": [
       "array([  29,   30,  -10,   38,   26, -270,  -11], dtype=int64)"
      ]
     },
     "execution_count": 64,
     "metadata": {},
     "output_type": "execute_result"
    },
    {
     "data": {
      "text/plain": [
       "array([ 10,  49, -12,  49,  55,  34,  -8], dtype=int64)"
      ]
     },
     "execution_count": 64,
     "metadata": {},
     "output_type": "execute_result"
    },
    {
     "data": {
      "text/plain": [
       "array([  40,   19,   26, -333,    6,    7,   52], dtype=int64)"
      ]
     },
     "execution_count": 64,
     "metadata": {},
     "output_type": "execute_result"
    },
    {
     "data": {
      "text/plain": [
       "array([ 32,  16, 471,  13,  14,  61,  24], dtype=int64)"
      ]
     },
     "execution_count": 64,
     "metadata": {},
     "output_type": "execute_result"
    },
    {
     "data": {
      "text/plain": [
       "array([  27, -515,    6,   54,  -14,   58,   15], dtype=int64)"
      ]
     },
     "execution_count": 64,
     "metadata": {},
     "output_type": "execute_result"
    },
    {
     "data": {
      "text/plain": [
       "array([-467,    7,   45,   14,   -4,   37,   32], dtype=int64)"
      ]
     },
     "execution_count": 64,
     "metadata": {},
     "output_type": "execute_result"
    },
    {
     "data": {
      "text/plain": [
       "array([ 8, 50, 15, -4, 26, 46,  2], dtype=int64)"
      ]
     },
     "execution_count": 64,
     "metadata": {},
     "output_type": "execute_result"
    },
    {
     "data": {
      "text/plain": [
       "array([  8,  23,  11,  15,  38,  23, 140], dtype=int64)"
      ]
     },
     "execution_count": 64,
     "metadata": {},
     "output_type": "execute_result"
    },
    {
     "data": {
      "text/plain": [
       "array([  38,   24,   32,    7,   30, -358,   -3], dtype=int64)"
      ]
     },
     "execution_count": 64,
     "metadata": {},
     "output_type": "execute_result"
    },
    {
     "data": {
      "text/plain": [
       "array([ 22,  20,   3,  27, 136,  29,  18], dtype=int64)"
      ]
     },
     "execution_count": 64,
     "metadata": {},
     "output_type": "execute_result"
    },
    {
     "data": {
      "text/plain": [
       "array([  17,  -13,   51, -280,   28,   -6,   18], dtype=int64)"
      ]
     },
     "execution_count": 64,
     "metadata": {},
     "output_type": "execute_result"
    },
    {
     "data": {
      "text/plain": [
       "array([ 19,  58, 247,  28,  27,  19,   5], dtype=int64)"
      ]
     },
     "execution_count": 64,
     "metadata": {},
     "output_type": "execute_result"
    },
    {
     "data": {
      "text/plain": [
       "array([  30, -341,   22,   -7,   24,   62,  -13], dtype=int64)"
      ]
     },
     "execution_count": 64,
     "metadata": {},
     "output_type": "execute_result"
    },
    {
     "data": {
      "text/plain": [
       "array([-136,   31,   31,   13,   -4,   20,   51], dtype=int64)"
      ]
     },
     "execution_count": 64,
     "metadata": {},
     "output_type": "execute_result"
    },
    {
     "data": {
      "text/plain": [
       "array([ 25,   4,  30,  -8,  48, -13,  29], dtype=int64)"
      ]
     },
     "execution_count": 64,
     "metadata": {},
     "output_type": "execute_result"
    },
    {
     "data": {
      "text/plain": [
       "array([  40,   34,   11,   71,   26,   30, -834], dtype=int64)"
      ]
     },
     "execution_count": 64,
     "metadata": {},
     "output_type": "execute_result"
    },
    {
     "data": {
      "text/plain": [
       "array([ 19,  41, -12,  42,  -7, 463, -14], dtype=int64)"
      ]
     },
     "execution_count": 64,
     "metadata": {},
     "output_type": "execute_result"
    },
    {
     "data": {
      "text/plain": [
       "array([  20,   63,   30,   23, -772,   19,   -6], dtype=int64)"
      ]
     },
     "execution_count": 64,
     "metadata": {},
     "output_type": "execute_result"
    },
    {
     "data": {
      "text/plain": [
       "array([ -15,   13,   40, 1158,   16,   10,   94], dtype=int64)"
      ]
     },
     "execution_count": 64,
     "metadata": {},
     "output_type": "execute_result"
    },
    {
     "data": {
      "text/plain": [
       "array([  -26,    93, -1199,    11,    36,    20,    25], dtype=int64)"
      ]
     },
     "execution_count": 64,
     "metadata": {},
     "output_type": "execute_result"
    },
    {
     "data": {
      "text/plain": [
       "array([  -8, -182,    5,    6,   29,   17,   54], dtype=int64)"
      ]
     },
     "execution_count": 64,
     "metadata": {},
     "output_type": "execute_result"
    },
    {
     "data": {
      "text/plain": [
       "array([118,  12,   5,  27,  23,  62,  27], dtype=int64)"
      ]
     },
     "execution_count": 64,
     "metadata": {},
     "output_type": "execute_result"
    },
    {
     "data": {
      "text/plain": [
       "array([  5,  38,  18, -12,  17,  47,  29], dtype=int64)"
      ]
     },
     "execution_count": 64,
     "metadata": {},
     "output_type": "execute_result"
    },
    {
     "data": {
      "text/plain": [
       "array([  55,   18,   -9,   24,   38,    3, -183], dtype=int64)"
      ]
     },
     "execution_count": 64,
     "metadata": {},
     "output_type": "execute_result"
    },
    {
     "data": {
      "text/plain": [
       "array([ 57,  27,  21,  -3,   9, 494, -14], dtype=int64)"
      ]
     },
     "execution_count": 64,
     "metadata": {},
     "output_type": "execute_result"
    },
    {
     "data": {
      "text/plain": [
       "array([    6,    84,    29,    22, -1437,    -2,    25], dtype=int64)"
      ]
     },
     "execution_count": 64,
     "metadata": {},
     "output_type": "execute_result"
    },
    {
     "data": {
      "text/plain": [
       "array([  11,   27,    3, -249,   -6,   13,   23], dtype=int64)"
      ]
     },
     "execution_count": 64,
     "metadata": {},
     "output_type": "execute_result"
    },
    {
     "data": {
      "text/plain": [
       "array([ 11,  14, 535,   9,  11,   9,  60], dtype=int64)"
      ]
     },
     "execution_count": 64,
     "metadata": {},
     "output_type": "execute_result"
    },
    {
     "data": {
      "text/plain": [
       "array([  -5, -164,    5,   14,   12,   27,   13], dtype=int64)"
      ]
     },
     "execution_count": 64,
     "metadata": {},
     "output_type": "execute_result"
    },
    {
     "data": {
      "text/plain": [
       "array([1034,   14,   69,   45,   -3,   33,   94], dtype=int64)"
      ]
     },
     "execution_count": 64,
     "metadata": {},
     "output_type": "execute_result"
    },
    {
     "data": {
      "text/plain": [
       "array([ 6, 36, -6, 43, 12, 16,  4], dtype=int64)"
      ]
     },
     "execution_count": 64,
     "metadata": {},
     "output_type": "execute_result"
    },
    {
     "data": {
      "text/plain": [
       "array([   14,    39,    47,    86,    50,    40, -1477], dtype=int64)"
      ]
     },
     "execution_count": 64,
     "metadata": {},
     "output_type": "execute_result"
    },
    {
     "data": {
      "text/plain": [
       "array([  20,    8,   32,   30,    8, -375,   -7], dtype=int64)"
      ]
     },
     "execution_count": 64,
     "metadata": {},
     "output_type": "execute_result"
    },
    {
     "data": {
      "text/plain": [
       "array([ 18,   9,  24,   9, 109, -11,  57], dtype=int64)"
      ]
     },
     "execution_count": 64,
     "metadata": {},
     "output_type": "execute_result"
    },
    {
     "data": {
      "text/plain": [
       "array([  14,   19,   51, -124,  -11,   44,   19], dtype=int64)"
      ]
     },
     "execution_count": 64,
     "metadata": {},
     "output_type": "execute_result"
    },
    {
     "data": {
      "text/plain": [
       "array([-8, 28, 40, -5, 53, 13, 42], dtype=int64)"
      ]
     },
     "execution_count": 64,
     "metadata": {},
     "output_type": "execute_result"
    },
    {
     "data": {
      "text/plain": [
       "array([  50, -234,   -6,   34,   26,   -5,   54], dtype=int64)"
      ]
     },
     "execution_count": 64,
     "metadata": {},
     "output_type": "execute_result"
    },
    {
     "data": {
      "text/plain": [
       "array([-45, -10,  62,  -2,  13,  62,  17], dtype=int64)"
      ]
     },
     "execution_count": 64,
     "metadata": {},
     "output_type": "execute_result"
    },
    {
     "data": {
      "text/plain": [
       "array([ 17,  19,   7,  -2,  43, -17,  29], dtype=int64)"
      ]
     },
     "execution_count": 64,
     "metadata": {},
     "output_type": "execute_result"
    },
    {
     "data": {
      "text/plain": [
       "array([ 19,   1,  41,  11,  18,  18, 245], dtype=int64)"
      ]
     },
     "execution_count": 64,
     "metadata": {},
     "output_type": "execute_result"
    },
    {
     "data": {
      "text/plain": [
       "array([  25,   25,   31,   33,    6, -671,   -6], dtype=int64)"
      ]
     },
     "execution_count": 64,
     "metadata": {},
     "output_type": "execute_result"
    },
    {
     "data": {
      "text/plain": [
       "array([ 45,  18,  12,  11, 648,  36,  21], dtype=int64)"
      ]
     },
     "execution_count": 64,
     "metadata": {},
     "output_type": "execute_result"
    },
    {
     "data": {
      "text/plain": [
       "array([  78,   23,    0, -159,   38,   13,   40], dtype=int64)"
      ]
     },
     "execution_count": 64,
     "metadata": {},
     "output_type": "execute_result"
    },
    {
     "data": {
      "text/plain": [
       "array([  67,   35, -697,  -10,   58,   17,   -7], dtype=int64)"
      ]
     },
     "execution_count": 64,
     "metadata": {},
     "output_type": "execute_result"
    },
    {
     "data": {
      "text/plain": [
       "array([  20, -276,   26,  -12,   23,   47,  -18], dtype=int64)"
      ]
     },
     "execution_count": 64,
     "metadata": {},
     "output_type": "execute_result"
    },
    {
     "data": {
      "text/plain": [
       "array([-104,   -6,   20,   27,   43,   14,  -12], dtype=int64)"
      ]
     },
     "execution_count": 64,
     "metadata": {},
     "output_type": "execute_result"
    },
    {
     "data": {
      "text/plain": [
       "array([-12,  55,  18,  26, -18,  48,  24], dtype=int64)"
      ]
     },
     "execution_count": 64,
     "metadata": {},
     "output_type": "execute_result"
    },
    {
     "data": {
      "text/plain": [
       "array([  18,   45,   -2,   16,   25,   64, -286], dtype=int64)"
      ]
     },
     "execution_count": 64,
     "metadata": {},
     "output_type": "execute_result"
    },
    {
     "data": {
      "text/plain": [
       "array([ 54,  -3,  55, -15,  51,  69,   9], dtype=int64)"
      ]
     },
     "execution_count": 64,
     "metadata": {},
     "output_type": "execute_result"
    },
    {
     "data": {
      "text/plain": [
       "array([  43,  -20,   64,   -8, -509,    6,    5], dtype=int64)"
      ]
     },
     "execution_count": 64,
     "metadata": {},
     "output_type": "execute_result"
    },
    {
     "data": {
      "text/plain": [
       "array([ 25,  33,   8, 281,  14,  10,  28], dtype=int64)"
      ]
     },
     "execution_count": 64,
     "metadata": {},
     "output_type": "execute_result"
    },
    {
     "data": {
      "text/plain": [
       "array([  23,   28, -124,   12,    4,   48,   52], dtype=int64)"
      ]
     },
     "execution_count": 64,
     "metadata": {},
     "output_type": "execute_result"
    },
    {
     "data": {
      "text/plain": [
       "array([  21, -405,    1,   18,   23,   70,   19], dtype=int64)"
      ]
     },
     "execution_count": 64,
     "metadata": {},
     "output_type": "execute_result"
    },
    {
     "data": {
      "text/plain": [
       "array([-79,   2,  33,  31,  42,  28,   5], dtype=int64)"
      ]
     },
     "execution_count": 64,
     "metadata": {},
     "output_type": "execute_result"
    },
    {
     "data": {
      "text/plain": [
       "array([ -8,  37,  37,  51,  18, -15,  25], dtype=int64)"
      ]
     },
     "execution_count": 64,
     "metadata": {},
     "output_type": "execute_result"
    },
    {
     "data": {
      "text/plain": [
       "array([  25,  -11,   61,    4,   26,   18, -414], dtype=int64)"
      ]
     },
     "execution_count": 64,
     "metadata": {},
     "output_type": "execute_result"
    },
    {
     "data": {
      "text/plain": [
       "array([ 23,  42,  13, -10,  18, 208,  31], dtype=int64)"
      ]
     },
     "execution_count": 64,
     "metadata": {},
     "output_type": "execute_result"
    },
    {
     "data": {
      "text/plain": [
       "array([  -4,   16,   49,   23, -386,   -1,    9], dtype=int64)"
      ]
     },
     "execution_count": 64,
     "metadata": {},
     "output_type": "execute_result"
    },
    {
     "data": {
      "text/plain": [
       "array([   6,   44,    1, -281,   -3,   36,   13], dtype=int64)"
      ]
     },
     "execution_count": 64,
     "metadata": {},
     "output_type": "execute_result"
    },
    {
     "data": {
      "text/plain": [
       "array([ -7,  33, 251,  -4,  18,  51,  -8], dtype=int64)"
      ]
     },
     "execution_count": 64,
     "metadata": {},
     "output_type": "execute_result"
    },
    {
     "data": {
      "text/plain": [
       "array([ 28, 175, -16,  38,  59,  37,   4], dtype=int64)"
      ]
     },
     "execution_count": 64,
     "metadata": {},
     "output_type": "execute_result"
    },
    {
     "data": {
      "text/plain": [
       "array([-154,  -17,   34,   21,   82,   26,   -1], dtype=int64)"
      ]
     },
     "execution_count": 64,
     "metadata": {},
     "output_type": "execute_result"
    },
    {
     "data": {
      "text/plain": [
       "array([-9, 61,  6, 10, 47, 30, 21], dtype=int64)"
      ]
     },
     "execution_count": 64,
     "metadata": {},
     "output_type": "execute_result"
    },
    {
     "data": {
      "text/plain": [
       "array([  17,   49,   30,    9,   23,   -4, -449], dtype=int64)"
      ]
     },
     "execution_count": 64,
     "metadata": {},
     "output_type": "execute_result"
    },
    {
     "data": {
      "text/plain": [
       "array([-15,  19,  38, -10,  13,   6,  -7], dtype=int64)"
      ]
     },
     "execution_count": 64,
     "metadata": {},
     "output_type": "execute_result"
    },
    {
     "data": {
      "text/plain": [
       "array([ 29,   3,  22,   2, 107,  -5,  35], dtype=int64)"
      ]
     },
     "execution_count": 64,
     "metadata": {},
     "output_type": "execute_result"
    },
    {
     "data": {
      "text/plain": [
       "array([  23,   43,   16, -102,   19,    0,   16], dtype=int64)"
      ]
     },
     "execution_count": 64,
     "metadata": {},
     "output_type": "execute_result"
    },
    {
     "data": {
      "text/plain": [
       "array([ 44,  30, -21, -11,  64,  16,  33], dtype=int64)"
      ]
     },
     "execution_count": 64,
     "metadata": {},
     "output_type": "execute_result"
    },
    {
     "data": {
      "text/plain": [
       "array([  0, 859,  48,  45, -11,  26,  91], dtype=int64)"
      ]
     },
     "execution_count": 64,
     "metadata": {},
     "output_type": "execute_result"
    },
    {
     "data": {
      "text/plain": [
       "array([-1143,   -11,    42,    42,    38,   -11,    44], dtype=int64)"
      ]
     },
     "execution_count": 64,
     "metadata": {},
     "output_type": "execute_result"
    },
    {
     "data": {
      "text/plain": [
       "array([-12,  28,  40,  35,  48,  23,  -9], dtype=int64)"
      ]
     },
     "execution_count": 64,
     "metadata": {},
     "output_type": "execute_result"
    },
    {
     "data": {
      "text/plain": [
       "array([ 10,   2,  56,   6,  19,  14, 118], dtype=int64)"
      ]
     },
     "execution_count": 64,
     "metadata": {},
     "output_type": "execute_result"
    },
    {
     "data": {
      "text/plain": [
       "array([ 26,  44,   8,  32,  18, -79, -12], dtype=int64)"
      ]
     },
     "execution_count": 64,
     "metadata": {},
     "output_type": "execute_result"
    },
    {
     "data": {
      "text/plain": [
       "array([  28,   33,   65,   16, -700,   27,    5], dtype=int64)"
      ]
     },
     "execution_count": 64,
     "metadata": {},
     "output_type": "execute_result"
    },
    {
     "data": {
      "text/plain": [
       "array([ 22,  20,  13, -40,  -9,  54,  16], dtype=int64)"
      ]
     },
     "execution_count": 64,
     "metadata": {},
     "output_type": "execute_result"
    },
    {
     "data": {
      "text/plain": [
       "array([  17,   24, -219,   -8,   17,   48,   30], dtype=int64)"
      ]
     },
     "execution_count": 64,
     "metadata": {},
     "output_type": "execute_result"
    },
    {
     "data": {
      "text/plain": [
       "array([ 12, -62,  -7,  23,  19,  21,  55], dtype=int64)"
      ]
     },
     "execution_count": 64,
     "metadata": {},
     "output_type": "execute_result"
    },
    {
     "data": {
      "text/plain": [
       "array([222,  34,  -9,  24,  64, -17,  30], dtype=int64)"
      ]
     },
     "execution_count": 64,
     "metadata": {},
     "output_type": "execute_result"
    },
    {
     "data": {
      "text/plain": [
       "array([ 6, 46, 11, -5, 31, 47, 30], dtype=int64)"
      ]
     },
     "execution_count": 64,
     "metadata": {},
     "output_type": "execute_result"
    },
    {
     "data": {
      "text/plain": [
       "array([   29,     6,    -1,    64,    25,    21, -1026], dtype=int64)"
      ]
     },
     "execution_count": 64,
     "metadata": {},
     "output_type": "execute_result"
    },
    {
     "data": {
      "text/plain": [
       "array([11, 16, -7, 18, 10], dtype=int64)"
      ]
     },
     "execution_count": 64,
     "metadata": {},
     "output_type": "execute_result"
    },
    {
     "ename": "IndexError",
     "evalue": "index 6 is out of bounds for axis 0 with size 5",
     "output_type": "error",
     "traceback": [
      "\u001b[1;31m---------------------------------------------------------------------------\u001b[0m",
      "\u001b[1;31mIndexError\u001b[0m                                Traceback (most recent call last)",
      "\u001b[1;32m<ipython-input-64-2f355d8f1413>\u001b[0m in \u001b[0;36m<module>\u001b[1;34m()\u001b[0m\n\u001b[0;32m      8\u001b[0m     \u001b[0mcoef\u001b[0m \u001b[1;33m=\u001b[0m \u001b[0mmodel_fit\u001b[0m\u001b[1;33m.\u001b[0m\u001b[0mparams\u001b[0m\u001b[1;33m\u001b[0m\u001b[0m\n\u001b[0;32m      9\u001b[0m         \u001b[1;31m# walk forward over time steps in test\u001b[0m\u001b[1;33m\u001b[0m\u001b[1;33m\u001b[0m\u001b[0m\n\u001b[1;32m---> 10\u001b[1;33m     \u001b[0mhistory\u001b[0m \u001b[1;33m=\u001b[0m \u001b[0mX\u001b[0m\u001b[1;33m[\u001b[0m\u001b[1;36m6\u001b[0m\u001b[1;33m]\u001b[0m\u001b[1;33m\u001b[0m\u001b[0m\n\u001b[0m\u001b[0;32m     11\u001b[0m     \u001b[0mpredictions\u001b[0m\u001b[1;33m[\u001b[0m\u001b[0mi\u001b[0m\u001b[1;33m]\u001b[0m \u001b[1;33m=\u001b[0m  \u001b[0mcoef\u001b[0m\u001b[1;33m[\u001b[0m\u001b[1;36m1\u001b[0m\u001b[1;33m]\u001b[0m\u001b[1;33m+\u001b[0m\u001b[0mcoef\u001b[0m\u001b[1;33m[\u001b[0m\u001b[1;36m0\u001b[0m\u001b[1;33m]\u001b[0m\u001b[1;33m*\u001b[0m\u001b[0mX\u001b[0m\u001b[1;33m[\u001b[0m\u001b[1;36m6\u001b[0m\u001b[1;33m]\u001b[0m\u001b[1;33m\u001b[0m\u001b[0m\n",
      "\u001b[1;31mIndexError\u001b[0m: index 6 is out of bounds for axis 0 with size 5"
     ]
    }
   ],
   "source": [
    "predictions = [1] * 480\n",
    "for i in range(480):       \n",
    "    X = difference(Series_tract[9*i:9*i+8] )\n",
    "    X\n",
    "    model = AR(X)\n",
    "    model_fit = model.fit(maxlag=1, disp=False)\n",
    "    window = model_fit.k_ar\n",
    "    coef = model_fit.params\n",
    "        # walk forward over time steps in test\n",
    "    history = X[6]   \n",
    "    predictions[i] =  coef[1]+coef[0]*X[6]  "
   ]
  },
  {
   "cell_type": "code",
   "execution_count": 65,
   "metadata": {},
   "outputs": [
    {
     "data": {
      "text/plain": [
       "[361.56249370530787,\n",
       " -400.47357935679696,\n",
       " 195.74463557368335,\n",
       " -4051.6377154233824,\n",
       " 45.178010471204189,\n",
       " -219.2685519476891,\n",
       " 2140.903826266805,\n",
       " 704.89819757712746,\n",
       " 754.74319693610187,\n",
       " 2495.6055723525578,\n",
       " -16.035782226650984,\n",
       " 11207.814381688262,\n",
       " -6396.6578081190928,\n",
       " 145.18675367047308,\n",
       " -504.19860602141301,\n",
       " 254.9524779355076,\n",
       " 82.405844155844179,\n",
       " 21834.475987193182,\n",
       " 470.38213356209184,\n",
       " -150.96969463887396,\n",
       " -726.87274150807059,\n",
       " -1896.724090583004,\n",
       " 969.48852929127418,\n",
       " 673.63107678328015,\n",
       " 410.87020541719704,\n",
       " 6024.9319012797096,\n",
       " -2323.9543421127273,\n",
       " -934.99618638659365,\n",
       " -49.919697486083379,\n",
       " 789.97065239855783,\n",
       " 249.88071298881317,\n",
       " 572.57745593462141,\n",
       " 96.481868469575957,\n",
       " 783.14102564102586,\n",
       " 445.56074766355147,\n",
       " 146.47866298880407,\n",
       " -118.32960647701928,\n",
       " -875.73923697107034,\n",
       " 1967.5990740740747,\n",
       " -154.63948421391348,\n",
       " 850.97879251050858,\n",
       " 79483.800607082609,\n",
       " -16.967638876150254,\n",
       " -3190.9582888590307,\n",
       " -85.730163226876144,\n",
       " 4520.9807020462504,\n",
       " 94.072470787673382,\n",
       " 652.37145746491387,\n",
       " 78.78842832469779,\n",
       " 8358.856874216468,\n",
       " 12.466359426484974,\n",
       " 995.51617954070969,\n",
       " -3082.3878671620423,\n",
       " -426.75077705566559,\n",
       " 2879.303807975652,\n",
       " 452.25338550054477,\n",
       " 97.64533265874023,\n",
       " 53936.284946236599,\n",
       " 160.06303936451155,\n",
       " 148.14936698068979,\n",
       " -282.34292403761867,\n",
       " 743.05148286635597,\n",
       " -298.22247225705041,\n",
       " -561.51067524115751,\n",
       " 1040.7602441150827,\n",
       " 10141.136425648012,\n",
       " -134.03268358180924,\n",
       " 1571.5581266690078,\n",
       " 261.54509553326108,\n",
       " -526.48994090625013,\n",
       " -1830.0608524217298,\n",
       " 822.05889583946396,\n",
       " 711.32804459691272,\n",
       " 6241.1320754716935,\n",
       " -403.7883326763897,\n",
       " 187.44812781162196,\n",
       " -3518.3707632448386,\n",
       " 3513.1002834663905,\n",
       " -223.94052201512719,\n",
       " 638.87257891518561,\n",
       " 898.63589449541325,\n",
       " 68923.920109307219,\n",
       " 2073.4341925941826,\n",
       " -0.16964724461038994,\n",
       " -0.11467250305724766,\n",
       " -29.035840882237107,\n",
       " 4136.1577161271534,\n",
       " 898.88986395505424,\n",
       " 1197.996678844238,\n",
       " 2415.7491739261054,\n",
       " -1943.3961146867823,\n",
       " 210.22721734589851,\n",
       " -397.69650417378767,\n",
       " -735.78410655256175,\n",
       " -63.438041811042815,\n",
       " 715.55620257631915,\n",
       " -786.40364754998905,\n",
       " 124880.37110584816,\n",
       " 1132.0683505341306,\n",
       " -548.0528178774764,\n",
       " -135.22554173611999,\n",
       " -191.34966661011475,\n",
       " 4551.6851605114216,\n",
       " 504.10816796239811,\n",
       " 303.94678899082589,\n",
       " -203.35387323943408,\n",
       " 1104.0273222168501,\n",
       " 305.87875927921533,\n",
       " 181.81934566145111,\n",
       " -168.35437960023739,\n",
       " 147.36181610139241,\n",
       " 790.95601637506672,\n",
       " 716.80201991261413,\n",
       " 1511.8223760092292,\n",
       " 9.5107018042088551,\n",
       " -301.61857438483207,\n",
       " 2273.4992223101481,\n",
       " -3110.6487122755102,\n",
       " -222.06254070900803,\n",
       " 1237.2561899820225,\n",
       " 773.94388178648558,\n",
       " 237951.01126822794,\n",
       " 2151.9076078511598,\n",
       " 202.27731611839843,\n",
       " -1140.5726022368619,\n",
       " -1677.8441157693137,\n",
       " 425.83986973255719,\n",
       " 446.53944397858504,\n",
       " 1000.9701890731936,\n",
       " 21443.357711095607,\n",
       " 207.9894949463133,\n",
       " -132.31472949265478,\n",
       " 367.82714135498975,\n",
       " -13.830260709626371,\n",
       " -778.1203749435449,\n",
       " 1218.5413843396966,\n",
       " 1795.8242038216563,\n",
       " 10928.234028743624,\n",
       " 18.012363951410581,\n",
       " 1131.0731568662284,\n",
       " 2113.0646589982148,\n",
       " 2469.4175290081771,\n",
       " -4765.2273412620398,\n",
       " 907.97730084116756,\n",
       " 47.028690228690245,\n",
       " 1539.7566377412259,\n",
       " 6302.0940143335793,\n",
       " -2847.549637701366,\n",
       " -4921.3738218296403,\n",
       " 166.00000000000006,\n",
       " -1385.7984426199334,\n",
       " 693.78860122927938,\n",
       " 907.21854521625244,\n",
       " 3349.7073032647681,\n",
       " -16.453451330683265,\n",
       " 677.29965087281801,\n",
       " -820.60554901090836,\n",
       " -4364.679493030203,\n",
       " 1263.2363075271705,\n",
       " 478.57682093084424,\n",
       " 496.74651182220754,\n",
       " -1467.0500440011729,\n",
       " 676.39581187778924,\n",
       " -1007.2839216606078,\n",
       " 789.6006382662905,\n",
       " 203.31340198575288,\n",
       " 25792.638579079266,\n",
       " 835.35845946256188,\n",
       " -130.47719957081549,\n",
       " 302814.93802145403,\n",
       " -0.21476059434805753,\n",
       " 1577.24300720266,\n",
       " -7777.0938974796263,\n",
       " -194.70355866660151,\n",
       " -387.61476660666051,\n",
       " 359.6546376977758,\n",
       " 322.02964652223511,\n",
       " 2110.2230063514476,\n",
       " 252.35526412191371,\n",
       " -252.05785876993164,\n",
       " -1580.5096969919946,\n",
       " 8648.4619792634767,\n",
       " -678.53905782766742,\n",
       " 716.99112786158025,\n",
       " 189.59815242494227,\n",
       " 11216.684089867042,\n",
       " -239.71845492293826,\n",
       " -1111.9021990544311,\n",
       " -465.48314992473792,\n",
       " 605.90300145661956,\n",
       " -313.63056494124976,\n",
       " 1449.2520948701847,\n",
       " 1126.1266187050367,\n",
       " 2191.072895355006,\n",
       " -219.83611723920583,\n",
       " -503.60005871090652,\n",
       " 66.172511021450944,\n",
       " -1337.0746222190294,\n",
       " -1703.3441385942542,\n",
       " 834.15133159535867,\n",
       " 479.10499333538417,\n",
       " 3202.3321071991609,\n",
       " -1074.0740040271744,\n",
       " 744.37941901105853,\n",
       " 237.17667331761294,\n",
       " -5130.1246259571899,\n",
       " 2299.2195532501441,\n",
       " 1006.348427741418,\n",
       " 1480.7497201810311,\n",
       " 10673.519148936175,\n",
       " 52.261825272728395,\n",
       " -236.22109650900254,\n",
       " -796.60017151569048,\n",
       " 1166.42118091524,\n",
       " 101.60882170664097,\n",
       " 1180.3604924859683,\n",
       " 3204.7344430217672,\n",
       " -15532.997357992055,\n",
       " 353.33844247819496,\n",
       " 3047.5347654165203,\n",
       " -3194.7705370549302,\n",
       " 2210.6805841020987,\n",
       " 2182.3017437688145,\n",
       " 421.26882994361426,\n",
       " 666.51481681034522,\n",
       " 3350.0705736690079,\n",
       " 117.11351009530695,\n",
       " 3316.0642428980977,\n",
       " -1578.509030649132,\n",
       " -307.25602396644706,\n",
       " -41.402983883836001,\n",
       " 344.74386247340874,\n",
       " 1722.3894389438926,\n",
       " -527969.79042900924,\n",
       " 182.16643032667776,\n",
       " 932.39301503094623,\n",
       " 1049.5383942890558,\n",
       " -121.71669305586975,\n",
       " -6038.7618151800143,\n",
       " 302.84721592170416,\n",
       " 293.2604166666668,\n",
       " 39607.409882838583,\n",
       " -258.18354994171597,\n",
       " 17.133715169530628,\n",
       " -2827.8977466274723,\n",
       " 978.75802587446117,\n",
       " 1592.671079066984,\n",
       " 482.9870580440907,\n",
       " 427.41919124516232,\n",
       " -975.39173475801306,\n",
       " 53.830592968340035,\n",
       " -228.86378115045918,\n",
       " -1385.4787362706606,\n",
       " 136.01592161665661,\n",
       " 1671.6540117208317,\n",
       " -108.38799989455096,\n",
       " 1242.7199868291082,\n",
       " -350.54679512386986,\n",
       " -989.78104418495809,\n",
       " 297.08117345485618,\n",
       " -738.94942158926926,\n",
       " 212.25939849624072,\n",
       " 1570.0165476397844,\n",
       " 2432.186062588074,\n",
       " -140.80685479933609,\n",
       " 9007.8396626082995,\n",
       " -411.30837018655632,\n",
       " 5858.6879068264434,\n",
       " -227.34427844435072,\n",
       " 3506.2083396340558,\n",
       " -2178.0657324496442,\n",
       " 556.58602736738806,\n",
       " -114.3377104897266,\n",
       " 26966.973388413899,\n",
       " -406.27158545297482,\n",
       " 9230.5695776593893,\n",
       " -1951.2670741418769,\n",
       " 1320.816911321135,\n",
       " -1674.5604416051613,\n",
       " -164.88220026791694,\n",
       " 1109.9003322259136,\n",
       " 73198.334647221112,\n",
       " -3190.8610619689994,\n",
       " -4861.17517989523,\n",
       " 2116.0434942968382,\n",
       " -1904.0405431138167,\n",
       " -197.66557608984004,\n",
       " 326.41946597760551,\n",
       " 1053.9545710531256,\n",
       " 4955.591623036652,\n",
       " 24.127926810358208,\n",
       " -524.24403739342165,\n",
       " 46.699338926101142,\n",
       " 49.818818477202122,\n",
       " 3177.1039600059012,\n",
       " 536.62745168217634,\n",
       " 1032.0051652892562,\n",
       " 21.300174520069824,\n",
       " 873.63324573035459,\n",
       " -547.43746581613289,\n",
       " 6372.498019905338,\n",
       " -230.49320020321241,\n",
       " 174.59397535678855,\n",
       " 934.48225613272382,\n",
       " 37.312796208530827,\n",
       " 1021.442360239274,\n",
       " 187.88003164131871,\n",
       " -1215.3611648708024,\n",
       " 14.995263218700615,\n",
       " -5624.1832034575964,\n",
       " 1964.3309762474744,\n",
       " 163.12341290960237,\n",
       " 600.29321622126736,\n",
       " 12377.438951106255,\n",
       " -3071.592244802971,\n",
       " 373.06487025948121,\n",
       " 3336.054751354015,\n",
       " -230.24716157975504,\n",
       " 207.0241914414508,\n",
       " 392.08422893095349,\n",
       " 351.15974788089557,\n",
       " -275.60486725663702,\n",
       " 187.339189710456,\n",
       " -18.696426216537013,\n",
       " 248.5684676445845,\n",
       " 374.48425299565804,\n",
       " 379.94550332085765,\n",
       " 933.17879845673349,\n",
       " 832.89250614250682,\n",
       " 10329.417079207926,\n",
       " 1312.3739270407154,\n",
       " -455.88162344983084,\n",
       " 391.37102047287289,\n",
       " 2961.5816409899003,\n",
       " -1060.7586755460534,\n",
       " 1040.6115155526145,\n",
       " 597.88445552784742,\n",
       " -27862.831652862802,\n",
       " -1349.4709815078238,\n",
       " 3549.5693660759239,\n",
       " -2874.9835352330983,\n",
       " -3493.872321452222,\n",
       " -0.25379208287088439,\n",
       " 0.079334230089851146,\n",
       " 418.49147727272742,\n",
       " -1445.7793427230056,\n",
       " 392.81304050014103,\n",
       " -331.08601031366817,\n",
       " -2278.6992821351091,\n",
       " 3039.0253419555625,\n",
       " -1155.5863205454032,\n",
       " 764.63051278618309,\n",
       " 63.099846726516354,\n",
       " 4207.3776775648275,\n",
       " 150.10660994614338,\n",
       " 728.66113386505731,\n",
       " -849.59554882698092,\n",
       " 334.50720432425283,\n",
       " 651.9011418548464,\n",
       " 1190.3168082069155,\n",
       " 827.7577319587632,\n",
       " 143674.55823627295,\n",
       " -1627.2129154266613,\n",
       " 751.42691208287727,\n",
       " 24434.793041756773,\n",
       " -5301.3518104033055,\n",
       " -616.61988493252409,\n",
       " 836.09408984324523,\n",
       " 653.69828769597609,\n",
       " 8354.7006144107254,\n",
       " -1655.0116587943071,\n",
       " -6240.1898021632769,\n",
       " -792.77997212927073,\n",
       " 7651.208540722213,\n",
       " -209.01155557267506,\n",
       " 4584.560864022822,\n",
       " 125.9140739295816,\n",
       " 536643.75935436564,\n",
       " 386.30171043054355,\n",
       " 2787.786035192813,\n",
       " -10.132383782602025,\n",
       " 1697.8563520619987,\n",
       " -1459.9337836272427,\n",
       " 411.27296509455118,\n",
       " 651.80807517719222,\n",
       " 16528.564900153615,\n",
       " 651.36949642680054,\n",
       " 3136.2652329455027,\n",
       " -304.67647629519456,\n",
       " 798.47451050931454,\n",
       " 760.58643233899215,\n",
       " -174.1380171184023,\n",
       " 856.6436717971435,\n",
       " -27530.173161227471,\n",
       " 435.44080542764516,\n",
       " -436.52170824548256,\n",
       " 2205.0492269823194,\n",
       " 166.93556954640073,\n",
       " -965.75392468986718,\n",
       " 107.52652526331121,\n",
       " 613.19622747747758,\n",
       " 18639.808880634817,\n",
       " 1723.1128192204305,\n",
       " -505.868310232108,\n",
       " -439.94577948858944,\n",
       " -569.44006640608609,\n",
       " 298.67684202929934,\n",
       " -24.235122355366055,\n",
       " 875.86475043515134,\n",
       " 90435.587096774194,\n",
       " -85.966780611797731,\n",
       " 1448.0743623333592,\n",
       " -21.851728384311997,\n",
       " 672.54959514170048,\n",
       " 19181.815270598283,\n",
       " 1323.9994287929358,\n",
       " -213.74593128390617,\n",
       " 5686.2243484284345,\n",
       " -4.295443410093096,\n",
       " -535.45531870142906,\n",
       " 132.09861386138618,\n",
       " -578.97254440845927,\n",
       " 434.35241825189598,\n",
       " 618.23511442476979,\n",
       " 853.42048630519866,\n",
       " 180053.3974458205,\n",
       " 1,\n",
       " 1,\n",
       " 1,\n",
       " 1,\n",
       " 1,\n",
       " 1,\n",
       " 1,\n",
       " 1,\n",
       " 1,\n",
       " 1,\n",
       " 1,\n",
       " 1,\n",
       " 1,\n",
       " 1,\n",
       " 1,\n",
       " 1,\n",
       " 1,\n",
       " 1,\n",
       " 1,\n",
       " 1,\n",
       " 1,\n",
       " 1,\n",
       " 1,\n",
       " 1,\n",
       " 1,\n",
       " 1,\n",
       " 1,\n",
       " 1,\n",
       " 1,\n",
       " 1,\n",
       " 1,\n",
       " 1,\n",
       " 1,\n",
       " 1,\n",
       " 1,\n",
       " 1,\n",
       " 1,\n",
       " 1,\n",
       " 1,\n",
       " 1,\n",
       " 1,\n",
       " 1,\n",
       " 1,\n",
       " 1,\n",
       " 1,\n",
       " 1,\n",
       " 1,\n",
       " 1,\n",
       " 1,\n",
       " 1,\n",
       " 1,\n",
       " 1,\n",
       " 1,\n",
       " 1]"
      ]
     },
     "execution_count": 65,
     "metadata": {},
     "output_type": "execute_result"
    }
   ],
   "source": [
    "predictions"
   ]
  },
  {
   "cell_type": "code",
   "execution_count": 54,
   "metadata": {},
   "outputs": [
    {
     "data": {
      "text/plain": [
       "array([29, -6, 37, 42,  9, 28, 12], dtype=int64)"
      ]
     },
     "execution_count": 54,
     "metadata": {},
     "output_type": "execute_result"
    }
   ],
   "source": [
    "\n",
    "X = difference(Series_tract[9*0:9*0+8] )\n",
    "X\n",
    "model = AR(X)\n",
    "model_fit = model.fit(maxlag=1, disp=False)\n",
    "window = model_fit.k_ar\n",
    "coef = model_fit.params\n",
    "    # walk forward over time steps in test\n",
    "history = X[6]   \n",
    "predictions =  coef[0]+coef[1]*X[6]  "
   ]
  },
  {
   "cell_type": "code",
   "execution_count": 55,
   "metadata": {},
   "outputs": [
    {
     "data": {
      "text/plain": [
       "25.072615570550926"
      ]
     },
     "execution_count": 55,
     "metadata": {},
     "output_type": "execute_result"
    }
   ],
   "source": [
    "predictions"
   ]
  },
  {
   "cell_type": "markdown",
   "metadata": {},
   "source": [
    "### predictions"
   ]
  },
  {
   "cell_type": "code",
   "execution_count": null,
   "metadata": {
    "collapsed": true
   },
   "outputs": [],
   "source": []
  }
 ],
 "metadata": {
  "kernelspec": {
   "display_name": "Python 3",
   "language": "python",
   "name": "python3"
  },
  "language_info": {
   "codemirror_mode": {
    "name": "ipython",
    "version": 3
   },
   "file_extension": ".py",
   "mimetype": "text/x-python",
   "name": "python",
   "nbconvert_exporter": "python",
   "pygments_lexer": "ipython3",
   "version": "3.6.3"
  }
 },
 "nbformat": 4,
 "nbformat_minor": 2
}
