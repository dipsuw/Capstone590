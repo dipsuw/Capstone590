{
 "cells": [
  {
   "cell_type": "code",
   "execution_count": 1,
   "metadata": {
    "collapsed": true
   },
   "outputs": [],
   "source": [
    "import pandas as pd\n",
    "import numpy as np"
   ]
  },
  {
   "cell_type": "code",
   "execution_count": 2,
   "metadata": {
    "collapsed": true
   },
   "outputs": [],
   "source": [
    "data = pd.read_csv('../SimplyAnalytics Data/Data_by_year_cleaned.csv', header=0)"
   ]
  },
  {
   "cell_type": "code",
   "execution_count": 3,
   "metadata": {
    "collapsed": false
   },
   "outputs": [
    {
     "data": {
      "text/html": [
       "<div>\n",
       "<table border=\"1\" class=\"dataframe\">\n",
       "  <thead>\n",
       "    <tr style=\"text-align: right;\">\n",
       "      <th></th>\n",
       "      <th>Name</th>\n",
       "      <th>Population</th>\n",
       "      <th>Median Household Income</th>\n",
       "      <th>Housing, Median Value Owner Households</th>\n",
       "      <th>Percentage: Education Attainment Bachelors Degree</th>\n",
       "      <th>Housing, Median Rent</th>\n",
       "      <th>Percentage: Employment, Public Transportation to Work</th>\n",
       "      <th>Percentage: White Non-Hispanic Population</th>\n",
       "      <th>Housing, Units</th>\n",
       "      <th>Percentage: Housing, Renter Occupied</th>\n",
       "      <th>...</th>\n",
       "      <th>Unnamed: 17</th>\n",
       "      <th>Unnamed: 18</th>\n",
       "      <th>Unnamed: 19</th>\n",
       "      <th>Total Households, 2011</th>\n",
       "      <th>Total Households, 2012</th>\n",
       "      <th>Total Households, 2013</th>\n",
       "      <th>Total Households, 2014</th>\n",
       "      <th>Total Households, 2015</th>\n",
       "      <th>Total Households, 2016</th>\n",
       "      <th>Total Households, 2020</th>\n",
       "    </tr>\n",
       "  </thead>\n",
       "  <tbody>\n",
       "    <tr>\n",
       "      <th>0</th>\n",
       "      <td>BG0001001</td>\n",
       "      <td>1250</td>\n",
       "      <td>141810</td>\n",
       "      <td>660354</td>\n",
       "      <td>24.6305</td>\n",
       "      <td>0</td>\n",
       "      <td>6.7751</td>\n",
       "      <td>77.5200</td>\n",
       "      <td>565</td>\n",
       "      <td>0.0000</td>\n",
       "      <td>...</td>\n",
       "      <td>NaN</td>\n",
       "      <td>NaN</td>\n",
       "      <td>NaN</td>\n",
       "      <td>NaN</td>\n",
       "      <td>NaN</td>\n",
       "      <td>NaN</td>\n",
       "      <td>NaN</td>\n",
       "      <td>NaN</td>\n",
       "      <td>NaN</td>\n",
       "      <td>NaN</td>\n",
       "    </tr>\n",
       "    <tr>\n",
       "      <th>1</th>\n",
       "      <td>BG0001002</td>\n",
       "      <td>1234</td>\n",
       "      <td>33316</td>\n",
       "      <td>338235</td>\n",
       "      <td>19.8690</td>\n",
       "      <td>771</td>\n",
       "      <td>16.5488</td>\n",
       "      <td>45.7861</td>\n",
       "      <td>658</td>\n",
       "      <td>83.4179</td>\n",
       "      <td>...</td>\n",
       "      <td>NaN</td>\n",
       "      <td>NaN</td>\n",
       "      <td>NaN</td>\n",
       "      <td>NaN</td>\n",
       "      <td>NaN</td>\n",
       "      <td>NaN</td>\n",
       "      <td>NaN</td>\n",
       "      <td>NaN</td>\n",
       "      <td>NaN</td>\n",
       "      <td>NaN</td>\n",
       "    </tr>\n",
       "    <tr>\n",
       "      <th>2</th>\n",
       "      <td>BG0001003</td>\n",
       "      <td>1337</td>\n",
       "      <td>48703</td>\n",
       "      <td>417188</td>\n",
       "      <td>26.4826</td>\n",
       "      <td>864</td>\n",
       "      <td>16.5173</td>\n",
       "      <td>58.1900</td>\n",
       "      <td>744</td>\n",
       "      <td>72.7931</td>\n",
       "      <td>...</td>\n",
       "      <td>NaN</td>\n",
       "      <td>NaN</td>\n",
       "      <td>NaN</td>\n",
       "      <td>NaN</td>\n",
       "      <td>NaN</td>\n",
       "      <td>NaN</td>\n",
       "      <td>NaN</td>\n",
       "      <td>NaN</td>\n",
       "      <td>NaN</td>\n",
       "      <td>NaN</td>\n",
       "    </tr>\n",
       "    <tr>\n",
       "      <th>3</th>\n",
       "      <td>BG0001004</td>\n",
       "      <td>1492</td>\n",
       "      <td>29392</td>\n",
       "      <td>0</td>\n",
       "      <td>12.8099</td>\n",
       "      <td>694</td>\n",
       "      <td>32.6877</td>\n",
       "      <td>35.6568</td>\n",
       "      <td>838</td>\n",
       "      <td>100.0000</td>\n",
       "      <td>...</td>\n",
       "      <td>NaN</td>\n",
       "      <td>NaN</td>\n",
       "      <td>NaN</td>\n",
       "      <td>NaN</td>\n",
       "      <td>NaN</td>\n",
       "      <td>NaN</td>\n",
       "      <td>NaN</td>\n",
       "      <td>NaN</td>\n",
       "      <td>NaN</td>\n",
       "      <td>NaN</td>\n",
       "    </tr>\n",
       "    <tr>\n",
       "      <th>4</th>\n",
       "      <td>BG0001005</td>\n",
       "      <td>942</td>\n",
       "      <td>48882</td>\n",
       "      <td>415385</td>\n",
       "      <td>26.5971</td>\n",
       "      <td>863</td>\n",
       "      <td>16.5563</td>\n",
       "      <td>56.0510</td>\n",
       "      <td>638</td>\n",
       "      <td>72.8395</td>\n",
       "      <td>...</td>\n",
       "      <td>NaN</td>\n",
       "      <td>NaN</td>\n",
       "      <td>NaN</td>\n",
       "      <td>NaN</td>\n",
       "      <td>NaN</td>\n",
       "      <td>NaN</td>\n",
       "      <td>NaN</td>\n",
       "      <td>NaN</td>\n",
       "      <td>NaN</td>\n",
       "      <td>NaN</td>\n",
       "    </tr>\n",
       "  </tbody>\n",
       "</table>\n",
       "<p>5 rows × 27 columns</p>\n",
       "</div>"
      ],
      "text/plain": [
       "        Name   Population  Median Household Income  \\\n",
       "0  BG0001001         1250                   141810   \n",
       "1  BG0001002         1234                    33316   \n",
       "2  BG0001003         1337                    48703   \n",
       "3  BG0001004         1492                    29392   \n",
       "4  BG0001005          942                    48882   \n",
       "\n",
       "   Housing, Median Value Owner Households  \\\n",
       "0                                  660354   \n",
       "1                                  338235   \n",
       "2                                  417188   \n",
       "3                                       0   \n",
       "4                                  415385   \n",
       "\n",
       "   Percentage: Education Attainment Bachelors Degree  Housing, Median Rent  \\\n",
       "0                                            24.6305                     0   \n",
       "1                                            19.8690                   771   \n",
       "2                                            26.4826                   864   \n",
       "3                                            12.8099                   694   \n",
       "4                                            26.5971                   863   \n",
       "\n",
       "   Percentage: Employment, Public Transportation to Work  \\\n",
       "0                                             6.7751       \n",
       "1                                            16.5488       \n",
       "2                                            16.5173       \n",
       "3                                            32.6877       \n",
       "4                                            16.5563       \n",
       "\n",
       "   Percentage: White Non-Hispanic Population   Housing, Units  \\\n",
       "0                                    77.5200              565   \n",
       "1                                    45.7861              658   \n",
       "2                                    58.1900              744   \n",
       "3                                    35.6568              838   \n",
       "4                                    56.0510              638   \n",
       "\n",
       "   Percentage: Housing, Renter Occupied           ...             Unnamed: 17  \\\n",
       "0                                0.0000           ...                     NaN   \n",
       "1                               83.4179           ...                     NaN   \n",
       "2                               72.7931           ...                     NaN   \n",
       "3                              100.0000           ...                     NaN   \n",
       "4                               72.8395           ...                     NaN   \n",
       "\n",
       "   Unnamed: 18  Unnamed: 19   Total Households, 2011   Total Households, 2012  \\\n",
       "0          NaN          NaN                      NaN                      NaN   \n",
       "1          NaN          NaN                      NaN                      NaN   \n",
       "2          NaN          NaN                      NaN                      NaN   \n",
       "3          NaN          NaN                      NaN                      NaN   \n",
       "4          NaN          NaN                      NaN                      NaN   \n",
       "\n",
       "    Total Households, 2013   Total Households, 2014   Total Households, 2015  \\\n",
       "0                      NaN                      NaN                      NaN   \n",
       "1                      NaN                      NaN                      NaN   \n",
       "2                      NaN                      NaN                      NaN   \n",
       "3                      NaN                      NaN                      NaN   \n",
       "4                      NaN                      NaN                      NaN   \n",
       "\n",
       "    Total Households, 2016   Total Households, 2020  \n",
       "0                      NaN                      NaN  \n",
       "1                      NaN                      NaN  \n",
       "2                      NaN                      NaN  \n",
       "3                      NaN                      NaN  \n",
       "4                      NaN                      NaN  \n",
       "\n",
       "[5 rows x 27 columns]"
      ]
     },
     "execution_count": 3,
     "metadata": {},
     "output_type": "execute_result"
    }
   ],
   "source": [
    "data.head()"
   ]
  },
  {
   "cell_type": "markdown",
   "metadata": {},
   "source": [
    "### Definition 1: Sociology \n",
    "#### Eligible for Gentrification:\n",
    "* The block group’s median household income was in the bottom 40th percentile when compared to all block groups in Seattle at the beginning of the time span.\n",
    "* The block group’s median house value was in the bottom 40th percentile when compared to all block groups in Seattle at the beginning of the time span.\n",
    "\n",
    "#### Have gentrified:\n",
    "* An increase in a block group’s educational attainment, as measured by the percentage of residents age 25 and over holding bachelor’s degrees, was in the top third percentile of all block groups in Seattle.\n",
    "* An increase in a block group’s median house value, as measured by inflation-adjusted median house value, was in the top third percentile of all block groups in Seattle.\n"
   ]
  },
  {
   "cell_type": "markdown",
   "metadata": {},
   "source": [
    "#### Calculations for Part1: Eligible for gentrification"
   ]
  },
  {
   "cell_type": "code",
   "execution_count": 14,
   "metadata": {
    "collapsed": true
   },
   "outputs": [],
   "source": [
    "years_array = [2010, 2011, 2012, 2013, 2014, 2015, 2016, 2017, 2020]"
   ]
  },
  {
   "cell_type": "code",
   "execution_count": 41,
   "metadata": {
    "collapsed": false
   },
   "outputs": [],
   "source": [
    "# get the columns in variable names\n",
    "median_income_df = pd.DataFrame(columns=['year','median_income'])\n",
    "median_income_list = []\n",
    "median_housevalue_df = pd.DataFrame(columns=['year','median_housevalue'])\n",
    "median_housevalue_list = []\n",
    "\n",
    "for i in years_array:\n",
    "    median_income_of_one_year =np.array(data.loc[data['Year'] == i, 'Median Household Income']. astype(int))\n",
    "    median_income = np.percentile(median_income_of_one_year, 50)\n",
    "    median_income_list.append(median_income)\n",
    "\n",
    "    median_housevalue_of_one_year =np.array(data.loc[data['Year'] == i, 'Housing, Median Value Owner Households']. astype(int))\n",
    "    median_housevalue = np.percentile(median_housevalue_of_one_year, 50)\n",
    "    median_housevalue_list.append(median_housevalue)\n",
    "\n",
    "    #...     df = df.append({'A': i}, ignore_index=True)\n"
   ]
  },
  {
   "cell_type": "code",
   "execution_count": 42,
   "metadata": {
    "collapsed": false
   },
   "outputs": [],
   "source": [
    "median_income_df['median_income'] = median_income_list\n",
    "median_income_df['year'] = years_array"
   ]
  },
  {
   "cell_type": "code",
   "execution_count": 43,
   "metadata": {
    "collapsed": false
   },
   "outputs": [
    {
     "data": {
      "text/html": [
       "<div>\n",
       "<table border=\"1\" class=\"dataframe\">\n",
       "  <thead>\n",
       "    <tr style=\"text-align: right;\">\n",
       "      <th></th>\n",
       "      <th>year</th>\n",
       "      <th>median_income</th>\n",
       "    </tr>\n",
       "  </thead>\n",
       "  <tbody>\n",
       "    <tr>\n",
       "      <th>0</th>\n",
       "      <td>2010</td>\n",
       "      <td>69857.0</td>\n",
       "    </tr>\n",
       "    <tr>\n",
       "      <th>1</th>\n",
       "      <td>2011</td>\n",
       "      <td>70146.0</td>\n",
       "    </tr>\n",
       "    <tr>\n",
       "      <th>2</th>\n",
       "      <td>2012</td>\n",
       "      <td>68211.0</td>\n",
       "    </tr>\n",
       "    <tr>\n",
       "      <th>3</th>\n",
       "      <td>2013</td>\n",
       "      <td>70500.0</td>\n",
       "    </tr>\n",
       "    <tr>\n",
       "      <th>4</th>\n",
       "      <td>2014</td>\n",
       "      <td>76563.0</td>\n",
       "    </tr>\n",
       "    <tr>\n",
       "      <th>5</th>\n",
       "      <td>2015</td>\n",
       "      <td>80529.0</td>\n",
       "    </tr>\n",
       "    <tr>\n",
       "      <th>6</th>\n",
       "      <td>2016</td>\n",
       "      <td>82028.0</td>\n",
       "    </tr>\n",
       "    <tr>\n",
       "      <th>7</th>\n",
       "      <td>2017</td>\n",
       "      <td>86682.0</td>\n",
       "    </tr>\n",
       "    <tr>\n",
       "      <th>8</th>\n",
       "      <td>2020</td>\n",
       "      <td>88214.0</td>\n",
       "    </tr>\n",
       "  </tbody>\n",
       "</table>\n",
       "</div>"
      ],
      "text/plain": [
       "   year  median_income\n",
       "0  2010        69857.0\n",
       "1  2011        70146.0\n",
       "2  2012        68211.0\n",
       "3  2013        70500.0\n",
       "4  2014        76563.0\n",
       "5  2015        80529.0\n",
       "6  2016        82028.0\n",
       "7  2017        86682.0\n",
       "8  2020        88214.0"
      ]
     },
     "execution_count": 43,
     "metadata": {},
     "output_type": "execute_result"
    }
   ],
   "source": [
    "median_income_df"
   ]
  },
  {
   "cell_type": "code",
   "execution_count": 44,
   "metadata": {
    "collapsed": false
   },
   "outputs": [],
   "source": [
    "median_housevalue_df['median_housevalue'] = median_housevalue_list\n",
    "median_housevalue_df['year'] = years_array"
   ]
  },
  {
   "cell_type": "code",
   "execution_count": 45,
   "metadata": {
    "collapsed": false
   },
   "outputs": [
    {
     "data": {
      "text/html": [
       "<div>\n",
       "<table border=\"1\" class=\"dataframe\">\n",
       "  <thead>\n",
       "    <tr style=\"text-align: right;\">\n",
       "      <th></th>\n",
       "      <th>year</th>\n",
       "      <th>median_housevalue</th>\n",
       "    </tr>\n",
       "  </thead>\n",
       "  <tbody>\n",
       "    <tr>\n",
       "      <th>0</th>\n",
       "      <td>2010</td>\n",
       "      <td>418182.0</td>\n",
       "    </tr>\n",
       "    <tr>\n",
       "      <th>1</th>\n",
       "      <td>2011</td>\n",
       "      <td>423494.0</td>\n",
       "    </tr>\n",
       "    <tr>\n",
       "      <th>2</th>\n",
       "      <td>2012</td>\n",
       "      <td>444767.0</td>\n",
       "    </tr>\n",
       "    <tr>\n",
       "      <th>3</th>\n",
       "      <td>2013</td>\n",
       "      <td>425962.0</td>\n",
       "    </tr>\n",
       "    <tr>\n",
       "      <th>4</th>\n",
       "      <td>2014</td>\n",
       "      <td>393421.0</td>\n",
       "    </tr>\n",
       "    <tr>\n",
       "      <th>5</th>\n",
       "      <td>2015</td>\n",
       "      <td>398621.0</td>\n",
       "    </tr>\n",
       "    <tr>\n",
       "      <th>6</th>\n",
       "      <td>2016</td>\n",
       "      <td>402740.0</td>\n",
       "    </tr>\n",
       "    <tr>\n",
       "      <th>7</th>\n",
       "      <td>2017</td>\n",
       "      <td>407143.0</td>\n",
       "    </tr>\n",
       "    <tr>\n",
       "      <th>8</th>\n",
       "      <td>2020</td>\n",
       "      <td>389552.0</td>\n",
       "    </tr>\n",
       "  </tbody>\n",
       "</table>\n",
       "</div>"
      ],
      "text/plain": [
       "   year  median_housevalue\n",
       "0  2010           418182.0\n",
       "1  2011           423494.0\n",
       "2  2012           444767.0\n",
       "3  2013           425962.0\n",
       "4  2014           393421.0\n",
       "5  2015           398621.0\n",
       "6  2016           402740.0\n",
       "7  2017           407143.0\n",
       "8  2020           389552.0"
      ]
     },
     "execution_count": 45,
     "metadata": {},
     "output_type": "execute_result"
    }
   ],
   "source": [
    "median_housevalue_df"
   ]
  },
  {
   "cell_type": "code",
   "execution_count": 47,
   "metadata": {
    "collapsed": false
   },
   "outputs": [
    {
     "data": {
      "text/plain": [
       "(array([0], dtype=int64),)"
      ]
     },
     "execution_count": 47,
     "metadata": {},
     "output_type": "execute_result"
    }
   ],
   "source": [
    "np.where(median_housevalue_df['year']==2010)"
   ]
  },
  {
   "cell_type": "markdown",
   "metadata": {},
   "source": [
    "#### Calculations for Part2: Have gentrified"
   ]
  },
  {
   "cell_type": "code",
   "execution_count": null,
   "metadata": {
    "collapsed": true
   },
   "outputs": [],
   "source": []
  }
 ],
 "metadata": {
  "kernelspec": {
   "display_name": "Python 3",
   "language": "python",
   "name": "python3"
  },
  "language_info": {
   "codemirror_mode": {
    "name": "ipython",
    "version": 3
   },
   "file_extension": ".py",
   "mimetype": "text/x-python",
   "name": "python",
   "nbconvert_exporter": "python",
   "pygments_lexer": "ipython3",
   "version": "3.6.0"
  }
 },
 "nbformat": 4,
 "nbformat_minor": 2
}
