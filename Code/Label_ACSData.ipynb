{
 "cells": [
  {
   "cell_type": "code",
   "execution_count": 1,
   "metadata": {
    "collapsed": true
   },
   "outputs": [],
   "source": [
    "import pandas as pd\n",
    "import numpy as np\n",
    "\n",
    "# Increase the maximum number of rows & columns displayed to 50.\n",
    "pd.set_option('display.max_column', 50)\n",
    "pd.set_option('display.max_row', 50)"
   ]
  },
  {
   "cell_type": "code",
   "execution_count": 2,
   "metadata": {
    "collapsed": true
   },
   "outputs": [],
   "source": [
    "import matplotlib.pyplot as plt\n",
    "%matplotlib inline  "
   ]
  },
  {
   "cell_type": "code",
   "execution_count": 3,
   "metadata": {
    "collapsed": true
   },
   "outputs": [],
   "source": [
    "data = pd.read_csv('../Data/2010 2015-ACS_Jan15.csv', header=0)"
   ]
  },
  {
   "cell_type": "code",
   "execution_count": 163,
   "metadata": {
    "collapsed": true
   },
   "outputs": [],
   "source": [
    "#data.head()"
   ]
  },
  {
   "cell_type": "code",
   "execution_count": 164,
   "metadata": {
    "collapsed": true
   },
   "outputs": [],
   "source": [
    "#data.describe()"
   ]
  },
  {
   "cell_type": "code",
   "execution_count": 149,
   "metadata": {
    "collapsed": true
   },
   "outputs": [],
   "source": [
    "#data[data['Median income'] == '-' ]"
   ]
  },
  {
   "cell_type": "code",
   "execution_count": 151,
   "metadata": {
    "collapsed": true
   },
   "outputs": [],
   "source": [
    "#Since all the values in the Ids 397 and 795 are missing, deleting these 2 rows\n",
    "#data = data.drop(data[data['Median income'] == '-' ].index)"
   ]
  },
  {
   "cell_type": "code",
   "execution_count": null,
   "metadata": {
    "collapsed": true
   },
   "outputs": [],
   "source": [
    "# following two census tracts which are present in 2010 and not in 2015, hence deleting them\n",
    "#53033005302: not present in 2015\n",
    "#53033032800: not present in 2015\n",
    "#53033004302: not present in 2010"
   ]
  },
  {
   "cell_type": "code",
   "execution_count": null,
   "metadata": {
    "collapsed": true
   },
   "outputs": [],
   "source": [
    "# Alternate histogram plot\n",
    "fig, axs = plt.subplots(1, 1, figsize=(8, 5), sharex=True, sharey=True)\n",
    "plt.grid(True) # Show grid\n",
    "plt.hist(data['Median House value (dollars)'])\n",
    "plt.title(\"Histogram of Median House Values (Dollars)\")"
   ]
  },
  {
   "cell_type": "code",
   "execution_count": 153,
   "metadata": {},
   "outputs": [
    {
     "data": {
      "text/plain": [
       "(array([  13.,  237.,  317.,  146.,   51.,   16.,    9.,    0.,    0.,    2.]),\n",
       " array([   22200.,   175540.,   328880.,   482220.,   635560.,   788900.,\n",
       "          942240.,  1095580.,  1248920.,  1402260.,  1555600.]),\n",
       " <a list of 10 Patch objects>)"
      ]
     },
     "execution_count": 153,
     "metadata": {},
     "output_type": "execute_result"
    },
    {
     "data": {
      "image/png": "[encoded data removed]",
      "text/plain": [
       "<matplotlib.figure.Figure at 0x21f712adba8>"
      ]
     },
     "metadata": {},
     "output_type": "display_data"
    }
   ],
   "source": [
    "plt.hist(data['Median House value (dollars)'])"
   ]
  },
  {
   "cell_type": "markdown",
   "metadata": {},
   "source": [
    "### Definition 1: Sociology \n",
    "#### Eligible for Gentrification:\n",
    "* The block group’s median household income was in the bottom 40th percentile when compared to all block groups in Seattle at the beginning of the time span.\n",
    "* The block group’s median house value was in the bottom 40th percentile when compared to all block groups in Seattle at the beginning of the time span.\n",
    "\n",
    "#### Have gentrified:\n",
    "* An increase in a block group’s educational attainment, as measured by the percentage of residents age 25 and over holding bachelor’s degrees, was in the top third percentile of all block groups in Seattle.\n",
    "* An increase in a block group’s median house value, as measured by inflation-adjusted median house value, was in the top third percentile of all block groups in Seattle.\n"
   ]
  },
  {
   "cell_type": "markdown",
   "metadata": {},
   "source": [
    "#### Calculations for Part1: Eligible for gentrification"
   ]
  },
  {
   "cell_type": "code",
   "execution_count": 4,
   "metadata": {
    "collapsed": true
   },
   "outputs": [],
   "source": [
    "# get the columns in variable names\n",
    "median_income =np.array(data['Median income'])\n",
    "median_housevalue =np.array(data['Median House value (dollars)'])"
   ]
  },
  {
   "cell_type": "code",
   "execution_count": 5,
   "metadata": {
    "collapsed": true
   },
   "outputs": [],
   "source": [
    "# find percentiles for median income, house value and bachelor degree holders\n",
    "income_40th_perc = np.percentile(median_income, 40)\n",
    "houseval_40th_perc = np.percentile(median_housevalue, 40)"
   ]
  },
  {
   "cell_type": "markdown",
   "metadata": {},
   "source": [
    "#### Calculations for Part2: Have gentrified"
   ]
  },
  {
   "cell_type": "code",
   "execution_count": 6,
   "metadata": {
    "collapsed": true
   },
   "outputs": [],
   "source": [
    "def add_col_for_inflation_adjusted_house_price_2010(row):\n",
    "    if row['Year'] == 2010:\n",
    "        return row['Median House value (dollars)']*1.08"
   ]
  },
  {
   "cell_type": "code",
   "execution_count": 7,
   "metadata": {
    "collapsed": true
   },
   "outputs": [],
   "source": [
    "#inflation_adj_median_house_value = data.apply(add_col_for_inflation_adjusted_house_price_2010, axis = 1)\n",
    "data['inflation_adj_median_house_value'] = data.apply(add_col_for_inflation_adjusted_house_price_2010, axis = 1)"
   ]
  },
  {
   "cell_type": "code",
   "execution_count": 8,
   "metadata": {
    "collapsed": true
   },
   "outputs": [],
   "source": [
    "# get unique tract ids to iterate thru all records of 2015 and 2010\n",
    "tract_id = data.Id.unique()"
   ]
  },
  {
   "cell_type": "code",
   "execution_count": 9,
   "metadata": {
    "collapsed": true
   },
   "outputs": [],
   "source": [
    "increase_in_edu_attainment_2015 = []\n",
    "for s in tract_id:\n",
    "    i = np.where(data['Id'] == s) # gives two indexes for each tract id(one for 2015 and another for 2010)\n",
    "    # to find the percentage increase subtract the bachelors degree % for 2010 from bachelors degree % of 2015\n",
    "    perc_increase = data['Percentage: bachelors degree or higher'].iloc[i[0][0]] - data['Percentage: bachelors degree or higher'].iloc[i[0][1]]\n",
    "    increase_in_edu_attainment_2015.append(perc_increase)"
   ]
  },
  {
   "cell_type": "code",
   "execution_count": 10,
   "metadata": {
    "collapsed": true
   },
   "outputs": [],
   "source": [
    "increase_in_house_value_2015 = []\n",
    "for s in tract_id:\n",
    "    i = np.where(data['Id'] == s)\n",
    "    perc_increase = data['Median House value (dollars)'].iloc[i[0][0]] - data['inflation_adj_median_house_value'].iloc[i[0][1]]\n",
    "    increase_in_house_value_2015.append(perc_increase)"
   ]
  },
  {
   "cell_type": "code",
   "execution_count": 11,
   "metadata": {
    "collapsed": true
   },
   "outputs": [],
   "source": [
    "data['increase_in_edu_attainment_2015'] = pd.Series(increase_in_edu_attainment_2015)\n",
    "data['increase_in_house_value_2015'] = pd.Series(increase_in_house_value_2015)"
   ]
  },
  {
   "cell_type": "code",
   "execution_count": 12,
   "metadata": {
    "collapsed": true
   },
   "outputs": [],
   "source": [
    "increase_bachelor_degree_top3rd_percentile = np.percentile(increase_in_edu_attainment_2015, 66)\n",
    "increase_house_value_top3rd_percentile = np.percentile(increase_in_house_value_2015, 66)"
   ]
  },
  {
   "cell_type": "code",
   "execution_count": 13,
   "metadata": {},
   "outputs": [
    {
     "data": {
      "text/plain": [
       "-37035.279999999999"
      ]
     },
     "execution_count": 13,
     "metadata": {},
     "output_type": "execute_result"
    }
   ],
   "source": [
    "increase_house_value_top3rd_percentile"
   ]
  },
  {
   "cell_type": "markdown",
   "metadata": {},
   "source": [
    "#### Labelling the tracts per definition 1"
   ]
  },
  {
   "cell_type": "code",
   "execution_count": 17,
   "metadata": {
    "collapsed": true
   },
   "outputs": [],
   "source": [
    "def label_def1(row):\n",
    "   if row['Year'] == 2010:\n",
    "      return 'None'\n",
    "   if row['Year'] == 2015 and row['Median income'] < income_40th_perc and row['Median House value (dollars)'] < houseval_40th_perc:\n",
    "      return 'EligibleForGentrification'\n",
    "   if row['Year'] == 2015 and row['increase_in_edu_attainment_2015'] > increase_bachelor_degree_top3rd_percentile and row['increase_in_house_value_2015'] > increase_house_value_top3rd_percentile:\n",
    "      return 'HaveGentrified'\n",
    "   else:\n",
    "      return 'NotEligibleForGentrification'"
   ]
  },
  {
   "cell_type": "code",
   "execution_count": 18,
   "metadata": {
    "collapsed": true
   },
   "outputs": [],
   "source": [
    "data['def1'] = data.apply(label_def1, axis=1)"
   ]
  },
  {
   "cell_type": "code",
   "execution_count": 19,
   "metadata": {},
   "outputs": [
    {
     "data": {
      "text/html": [
       "<div>\n",
       "<style>\n",
       "    .dataframe thead tr:only-child th {\n",
       "        text-align: right;\n",
       "    }\n",
       "\n",
       "    .dataframe thead th {\n",
       "        text-align: left;\n",
       "    }\n",
       "\n",
       "    .dataframe tbody tr th {\n",
       "        vertical-align: top;\n",
       "    }\n",
       "</style>\n",
       "<table border=\"1\" class=\"dataframe\">\n",
       "  <thead>\n",
       "    <tr style=\"text-align: right;\">\n",
       "      <th></th>\n",
       "      <th>Id</th>\n",
       "      <th>Geography</th>\n",
       "      <th>Total; Estimate; AGE - 25 to 29 years</th>\n",
       "      <th>Total; Estimate; AGE - 30 to 34 years</th>\n",
       "      <th>Total; Estimate; AGE - 35 to 39 years</th>\n",
       "      <th>Total; Estimate; AGE - 40 to 44 years</th>\n",
       "      <th>Total; Estimate; AGE - 45 to 49 years</th>\n",
       "      <th>Total; Estimate; AGE - 50 to 54 years</th>\n",
       "      <th>Total; Estimate; AGE - 55 to 59 years</th>\n",
       "      <th>Total; Estimate; AGE - 60 to 64 years</th>\n",
       "      <th>...</th>\n",
       "      <th>Estimate; Total: - 3 vehicles available</th>\n",
       "      <th>Estimate; Total: - 4 or more vehicles available</th>\n",
       "      <th>Percentage: Not Hispanic or Latino: - White</th>\n",
       "      <th>Estimate; Not Hispanic or Latino: - White alone</th>\n",
       "      <th>Estimate; Total:.1</th>\n",
       "      <th>Year</th>\n",
       "      <th>inflation_adj_median_house_value</th>\n",
       "      <th>increase_in_edu_attainment_2015</th>\n",
       "      <th>increase_in_house_value_2015</th>\n",
       "      <th>def1</th>\n",
       "    </tr>\n",
       "  </thead>\n",
       "  <tbody>\n",
       "    <tr>\n",
       "      <th>0</th>\n",
       "      <td>53033000100</td>\n",
       "      <td>Census Tract 1, King County, Washington</td>\n",
       "      <td>10.8</td>\n",
       "      <td>12.2</td>\n",
       "      <td>5.0</td>\n",
       "      <td>7.8</td>\n",
       "      <td>5.1</td>\n",
       "      <td>5.8</td>\n",
       "      <td>5.9</td>\n",
       "      <td>7.2</td>\n",
       "      <td>...</td>\n",
       "      <td>337.0</td>\n",
       "      <td>68.0</td>\n",
       "      <td>0.58</td>\n",
       "      <td>3987</td>\n",
       "      <td>6918</td>\n",
       "      <td>2015</td>\n",
       "      <td>NaN</td>\n",
       "      <td>-1.9</td>\n",
       "      <td>-126384.0</td>\n",
       "      <td>NotEligibleForGentrification</td>\n",
       "    </tr>\n",
       "    <tr>\n",
       "      <th>1</th>\n",
       "      <td>53033000200</td>\n",
       "      <td>Census Tract 2, King County, Washington</td>\n",
       "      <td>11.5</td>\n",
       "      <td>7.2</td>\n",
       "      <td>5.5</td>\n",
       "      <td>6.0</td>\n",
       "      <td>5.9</td>\n",
       "      <td>7.5</td>\n",
       "      <td>7.0</td>\n",
       "      <td>8.0</td>\n",
       "      <td>...</td>\n",
       "      <td>353.0</td>\n",
       "      <td>30.0</td>\n",
       "      <td>0.57</td>\n",
       "      <td>4520</td>\n",
       "      <td>7974</td>\n",
       "      <td>2015</td>\n",
       "      <td>NaN</td>\n",
       "      <td>3.4</td>\n",
       "      <td>-44996.0</td>\n",
       "      <td>EligibleForGentrification</td>\n",
       "    </tr>\n",
       "    <tr>\n",
       "      <th>2</th>\n",
       "      <td>53033000300</td>\n",
       "      <td>Census Tract 3, King County, Washington</td>\n",
       "      <td>10.7</td>\n",
       "      <td>8.4</td>\n",
       "      <td>7.7</td>\n",
       "      <td>8.0</td>\n",
       "      <td>4.7</td>\n",
       "      <td>7.4</td>\n",
       "      <td>8.1</td>\n",
       "      <td>5.2</td>\n",
       "      <td>...</td>\n",
       "      <td>127.0</td>\n",
       "      <td>16.0</td>\n",
       "      <td>0.71</td>\n",
       "      <td>1880</td>\n",
       "      <td>2637</td>\n",
       "      <td>2015</td>\n",
       "      <td>NaN</td>\n",
       "      <td>-4.9</td>\n",
       "      <td>-37920.0</td>\n",
       "      <td>EligibleForGentrification</td>\n",
       "    </tr>\n",
       "    <tr>\n",
       "      <th>3</th>\n",
       "      <td>53033000401</td>\n",
       "      <td>Census Tract 4.01, King County, Washington</td>\n",
       "      <td>9.0</td>\n",
       "      <td>10.4</td>\n",
       "      <td>11.0</td>\n",
       "      <td>4.1</td>\n",
       "      <td>6.0</td>\n",
       "      <td>3.5</td>\n",
       "      <td>5.6</td>\n",
       "      <td>5.7</td>\n",
       "      <td>...</td>\n",
       "      <td>93.0</td>\n",
       "      <td>36.0</td>\n",
       "      <td>0.55</td>\n",
       "      <td>3238</td>\n",
       "      <td>5907</td>\n",
       "      <td>2015</td>\n",
       "      <td>NaN</td>\n",
       "      <td>9.8</td>\n",
       "      <td>-78068.0</td>\n",
       "      <td>EligibleForGentrification</td>\n",
       "    </tr>\n",
       "    <tr>\n",
       "      <th>4</th>\n",
       "      <td>53033000402</td>\n",
       "      <td>Census Tract 4.02, King County, Washington</td>\n",
       "      <td>9.3</td>\n",
       "      <td>6.7</td>\n",
       "      <td>5.2</td>\n",
       "      <td>7.1</td>\n",
       "      <td>8.6</td>\n",
       "      <td>5.8</td>\n",
       "      <td>6.0</td>\n",
       "      <td>9.3</td>\n",
       "      <td>...</td>\n",
       "      <td>340.0</td>\n",
       "      <td>70.0</td>\n",
       "      <td>0.77</td>\n",
       "      <td>3767</td>\n",
       "      <td>4906</td>\n",
       "      <td>2015</td>\n",
       "      <td>NaN</td>\n",
       "      <td>12.5</td>\n",
       "      <td>-12992.0</td>\n",
       "      <td>HaveGentrified</td>\n",
       "    </tr>\n",
       "  </tbody>\n",
       "</table>\n",
       "<p>5 rows × 52 columns</p>\n",
       "</div>"
      ],
      "text/plain": [
       "            Id                                   Geography  \\\n",
       "0  53033000100     Census Tract 1, King County, Washington   \n",
       "1  53033000200     Census Tract 2, King County, Washington   \n",
       "2  53033000300     Census Tract 3, King County, Washington   \n",
       "3  53033000401  Census Tract 4.01, King County, Washington   \n",
       "4  53033000402  Census Tract 4.02, King County, Washington   \n",
       "\n",
       "   Total; Estimate; AGE - 25 to 29 years  \\\n",
       "0                                   10.8   \n",
       "1                                   11.5   \n",
       "2                                   10.7   \n",
       "3                                    9.0   \n",
       "4                                    9.3   \n",
       "\n",
       "   Total; Estimate; AGE - 30 to 34 years  \\\n",
       "0                                   12.2   \n",
       "1                                    7.2   \n",
       "2                                    8.4   \n",
       "3                                   10.4   \n",
       "4                                    6.7   \n",
       "\n",
       "   Total; Estimate; AGE - 35 to 39 years  \\\n",
       "0                                    5.0   \n",
       "1                                    5.5   \n",
       "2                                    7.7   \n",
       "3                                   11.0   \n",
       "4                                    5.2   \n",
       "\n",
       "   Total; Estimate; AGE - 40 to 44 years  \\\n",
       "0                                    7.8   \n",
       "1                                    6.0   \n",
       "2                                    8.0   \n",
       "3                                    4.1   \n",
       "4                                    7.1   \n",
       "\n",
       "   Total; Estimate; AGE - 45 to 49 years  \\\n",
       "0                                    5.1   \n",
       "1                                    5.9   \n",
       "2                                    4.7   \n",
       "3                                    6.0   \n",
       "4                                    8.6   \n",
       "\n",
       "   Total; Estimate; AGE - 50 to 54 years  \\\n",
       "0                                    5.8   \n",
       "1                                    7.5   \n",
       "2                                    7.4   \n",
       "3                                    3.5   \n",
       "4                                    5.8   \n",
       "\n",
       "   Total; Estimate; AGE - 55 to 59 years  \\\n",
       "0                                    5.9   \n",
       "1                                    7.0   \n",
       "2                                    8.1   \n",
       "3                                    5.6   \n",
       "4                                    6.0   \n",
       "\n",
       "   Total; Estimate; AGE - 60 to 64 years              ...               \\\n",
       "0                                    7.2              ...                \n",
       "1                                    8.0              ...                \n",
       "2                                    5.2              ...                \n",
       "3                                    5.7              ...                \n",
       "4                                    9.3              ...                \n",
       "\n",
       "   Estimate; Total: - 3 vehicles available  \\\n",
       "0                                    337.0   \n",
       "1                                    353.0   \n",
       "2                                    127.0   \n",
       "3                                     93.0   \n",
       "4                                    340.0   \n",
       "\n",
       "   Estimate; Total: - 4 or more vehicles available  \\\n",
       "0                                             68.0   \n",
       "1                                             30.0   \n",
       "2                                             16.0   \n",
       "3                                             36.0   \n",
       "4                                             70.0   \n",
       "\n",
       "   Percentage: Not Hispanic or Latino: - White   \\\n",
       "0                                          0.58   \n",
       "1                                          0.57   \n",
       "2                                          0.71   \n",
       "3                                          0.55   \n",
       "4                                          0.77   \n",
       "\n",
       "   Estimate; Not Hispanic or Latino: - White alone  Estimate; Total:.1  Year  \\\n",
       "0                                             3987                6918  2015   \n",
       "1                                             4520                7974  2015   \n",
       "2                                             1880                2637  2015   \n",
       "3                                             3238                5907  2015   \n",
       "4                                             3767                4906  2015   \n",
       "\n",
       "   inflation_adj_median_house_value  increase_in_edu_attainment_2015  \\\n",
       "0                               NaN                             -1.9   \n",
       "1                               NaN                              3.4   \n",
       "2                               NaN                             -4.9   \n",
       "3                               NaN                              9.8   \n",
       "4                               NaN                             12.5   \n",
       "\n",
       "   increase_in_house_value_2015                          def1  \n",
       "0                     -126384.0  NotEligibleForGentrification  \n",
       "1                      -44996.0     EligibleForGentrification  \n",
       "2                      -37920.0     EligibleForGentrification  \n",
       "3                      -78068.0     EligibleForGentrification  \n",
       "4                      -12992.0                HaveGentrified  \n",
       "\n",
       "[5 rows x 52 columns]"
      ]
     },
     "execution_count": 19,
     "metadata": {},
     "output_type": "execute_result"
    }
   ],
   "source": [
    "data.head()"
   ]
  },
  {
   "cell_type": "markdown",
   "metadata": {},
   "source": [
    "### Definition 2: Financial & Economics\n",
    "#### Currently gentrifying:\n",
    "* The block group’s income levels below 40% of the median, and experienced rent increases greater than the median neighborhood did.\n",
    "\n",
    "#### Have gentrified:\n",
    "* The block group’s share of neighborhoods in a metro area that moved from the bottom half to the top half in the distribution of home prices."
   ]
  },
  {
   "cell_type": "markdown",
   "metadata": {},
   "source": [
    "#### Calculations for Part1: Currently gentrifying"
   ]
  },
  {
   "cell_type": "code",
   "execution_count": 26,
   "metadata": {
    "collapsed": true
   },
   "outputs": [],
   "source": [
    "median_income_40percent = np.percentile(median_income, 50)*0.4"
   ]
  },
  {
   "cell_type": "markdown",
   "metadata": {},
   "source": [
    "#### Rent increase is NOT AVAILABLE. The data has renter occupied units which is different from rent. We are using renter occupied variable in definition 3. Need to discuss this."
   ]
  },
  {
   "cell_type": "code",
   "execution_count": 12,
   "metadata": {
    "collapsed": true
   },
   "outputs": [],
   "source": [
    "#rent_increase = data['Renter-occupied housing units; Estimate; MONTHLY HOUSING COSTS AS A PERCENTAGE OF HOUSEHOLD INCOME IN THE PAST 12 MONTHS - $75,000 or more - 30 percent or more']\n",
    "#median_rent_increase = np.percentile(rent_increase, 50)"
   ]
  },
  {
   "cell_type": "markdown",
   "metadata": {},
   "source": [
    "#### Calculations for Part2: Have gentrified"
   ]
  },
  {
   "cell_type": "code",
   "execution_count": 20,
   "metadata": {
    "collapsed": true
   },
   "outputs": [],
   "source": [
    "Data_for_2010 = np.where(data['Year']== 2010)\n",
    "home_price_50th_percentile_2010 = np.percentile(Data_for_2010, 50)"
   ]
  },
  {
   "cell_type": "code",
   "execution_count": 21,
   "metadata": {
    "collapsed": true
   },
   "outputs": [],
   "source": [
    "Data_for_2015 = np.where(data['Year']== 2015)\n",
    "home_price_50th_percentile_2015 = np.percentile(Data_for_2015, 50)"
   ]
  },
  {
   "cell_type": "code",
   "execution_count": 22,
   "metadata": {
    "collapsed": true
   },
   "outputs": [],
   "source": [
    "increase_in_home_price_distribution_2015 = []\n",
    "for s in tract_id:\n",
    "    i = np.where(data['Id'] == s)\n",
    "    if data['Median House value (dollars)'].iloc[i[0][0]] > home_price_50th_percentile_2015 and data['Median House value (dollars)'].iloc[i[0][1]] < home_price_50th_percentile_2010:\n",
    "        increase_in_home_price_distribution_2015.append('true')\n",
    "    else:\n",
    "        increase_in_home_price_distribution_2015.append('false') "
   ]
  },
  {
   "cell_type": "markdown",
   "metadata": {},
   "source": [
    "#### This doesnt look good, all values are FALSE. We might be interpreting this incorrectly. Need to discuss."
   ]
  },
  {
   "cell_type": "code",
   "execution_count": 23,
   "metadata": {
    "collapsed": true
   },
   "outputs": [],
   "source": [
    "data['increase_in_home_price_distribution_2015'] = pd.Series(increase_in_home_price_distribution_2015)"
   ]
  },
  {
   "cell_type": "markdown",
   "metadata": {},
   "source": [
    "#### Labelling the tracts per definition 2"
   ]
  },
  {
   "cell_type": "code",
   "execution_count": 27,
   "metadata": {
    "collapsed": true
   },
   "outputs": [],
   "source": [
    "def label_def2(row):\n",
    "   if row['Year'] == 2010:\n",
    "      return 'None'\n",
    "   if row['Year'] == 2015 and row['Median income'] < median_income_40percent:\n",
    "      return 'CurrentlyGentrifying'\n",
    "   if row['Year'] == 2015 and row['increase_in_home_price_distribution_2015'] == 'true': \n",
    "      return 'HaveGentrified'\n",
    "   else:\n",
    "      return 'NotCurrentlyGentrifying'"
   ]
  },
  {
   "cell_type": "code",
   "execution_count": 28,
   "metadata": {
    "collapsed": true
   },
   "outputs": [],
   "source": [
    "data['def2'] = data.apply(label_def2, axis=1)"
   ]
  },
  {
   "cell_type": "code",
   "execution_count": 29,
   "metadata": {},
   "outputs": [
    {
     "data": {
      "text/html": [
       "<div>\n",
       "<style>\n",
       "    .dataframe thead tr:only-child th {\n",
       "        text-align: right;\n",
       "    }\n",
       "\n",
       "    .dataframe thead th {\n",
       "        text-align: left;\n",
       "    }\n",
       "\n",
       "    .dataframe tbody tr th {\n",
       "        vertical-align: top;\n",
       "    }\n",
       "</style>\n",
       "<table border=\"1\" class=\"dataframe\">\n",
       "  <thead>\n",
       "    <tr style=\"text-align: right;\">\n",
       "      <th></th>\n",
       "      <th>Id</th>\n",
       "      <th>Geography</th>\n",
       "      <th>Total; Estimate; AGE - 25 to 29 years</th>\n",
       "      <th>Total; Estimate; AGE - 30 to 34 years</th>\n",
       "      <th>Total; Estimate; AGE - 35 to 39 years</th>\n",
       "      <th>Total; Estimate; AGE - 40 to 44 years</th>\n",
       "      <th>Total; Estimate; AGE - 45 to 49 years</th>\n",
       "      <th>Total; Estimate; AGE - 50 to 54 years</th>\n",
       "      <th>Total; Estimate; AGE - 55 to 59 years</th>\n",
       "      <th>Total; Estimate; AGE - 60 to 64 years</th>\n",
       "      <th>...</th>\n",
       "      <th>Percentage: Not Hispanic or Latino: - White</th>\n",
       "      <th>Estimate; Not Hispanic or Latino: - White alone</th>\n",
       "      <th>Estimate; Total:.1</th>\n",
       "      <th>Year</th>\n",
       "      <th>inflation_adj_median_house_value</th>\n",
       "      <th>increase_in_edu_attainment_2015</th>\n",
       "      <th>increase_in_house_value_2015</th>\n",
       "      <th>def1</th>\n",
       "      <th>increase_in_home_price_distribution_2015</th>\n",
       "      <th>def2</th>\n",
       "    </tr>\n",
       "  </thead>\n",
       "  <tbody>\n",
       "    <tr>\n",
       "      <th>0</th>\n",
       "      <td>53033000100</td>\n",
       "      <td>Census Tract 1, King County, Washington</td>\n",
       "      <td>10.8</td>\n",
       "      <td>12.2</td>\n",
       "      <td>5.0</td>\n",
       "      <td>7.8</td>\n",
       "      <td>5.1</td>\n",
       "      <td>5.8</td>\n",
       "      <td>5.9</td>\n",
       "      <td>7.2</td>\n",
       "      <td>...</td>\n",
       "      <td>0.58</td>\n",
       "      <td>3987</td>\n",
       "      <td>6918</td>\n",
       "      <td>2015</td>\n",
       "      <td>NaN</td>\n",
       "      <td>-1.9</td>\n",
       "      <td>-126384.0</td>\n",
       "      <td>NotEligibleForGentrification</td>\n",
       "      <td>false</td>\n",
       "      <td>NotCurrentlyGentrifying</td>\n",
       "    </tr>\n",
       "    <tr>\n",
       "      <th>1</th>\n",
       "      <td>53033000200</td>\n",
       "      <td>Census Tract 2, King County, Washington</td>\n",
       "      <td>11.5</td>\n",
       "      <td>7.2</td>\n",
       "      <td>5.5</td>\n",
       "      <td>6.0</td>\n",
       "      <td>5.9</td>\n",
       "      <td>7.5</td>\n",
       "      <td>7.0</td>\n",
       "      <td>8.0</td>\n",
       "      <td>...</td>\n",
       "      <td>0.57</td>\n",
       "      <td>4520</td>\n",
       "      <td>7974</td>\n",
       "      <td>2015</td>\n",
       "      <td>NaN</td>\n",
       "      <td>3.4</td>\n",
       "      <td>-44996.0</td>\n",
       "      <td>EligibleForGentrification</td>\n",
       "      <td>false</td>\n",
       "      <td>NotCurrentlyGentrifying</td>\n",
       "    </tr>\n",
       "    <tr>\n",
       "      <th>2</th>\n",
       "      <td>53033000300</td>\n",
       "      <td>Census Tract 3, King County, Washington</td>\n",
       "      <td>10.7</td>\n",
       "      <td>8.4</td>\n",
       "      <td>7.7</td>\n",
       "      <td>8.0</td>\n",
       "      <td>4.7</td>\n",
       "      <td>7.4</td>\n",
       "      <td>8.1</td>\n",
       "      <td>5.2</td>\n",
       "      <td>...</td>\n",
       "      <td>0.71</td>\n",
       "      <td>1880</td>\n",
       "      <td>2637</td>\n",
       "      <td>2015</td>\n",
       "      <td>NaN</td>\n",
       "      <td>-4.9</td>\n",
       "      <td>-37920.0</td>\n",
       "      <td>EligibleForGentrification</td>\n",
       "      <td>false</td>\n",
       "      <td>NotCurrentlyGentrifying</td>\n",
       "    </tr>\n",
       "    <tr>\n",
       "      <th>3</th>\n",
       "      <td>53033000401</td>\n",
       "      <td>Census Tract 4.01, King County, Washington</td>\n",
       "      <td>9.0</td>\n",
       "      <td>10.4</td>\n",
       "      <td>11.0</td>\n",
       "      <td>4.1</td>\n",
       "      <td>6.0</td>\n",
       "      <td>3.5</td>\n",
       "      <td>5.6</td>\n",
       "      <td>5.7</td>\n",
       "      <td>...</td>\n",
       "      <td>0.55</td>\n",
       "      <td>3238</td>\n",
       "      <td>5907</td>\n",
       "      <td>2015</td>\n",
       "      <td>NaN</td>\n",
       "      <td>9.8</td>\n",
       "      <td>-78068.0</td>\n",
       "      <td>EligibleForGentrification</td>\n",
       "      <td>false</td>\n",
       "      <td>NotCurrentlyGentrifying</td>\n",
       "    </tr>\n",
       "    <tr>\n",
       "      <th>4</th>\n",
       "      <td>53033000402</td>\n",
       "      <td>Census Tract 4.02, King County, Washington</td>\n",
       "      <td>9.3</td>\n",
       "      <td>6.7</td>\n",
       "      <td>5.2</td>\n",
       "      <td>7.1</td>\n",
       "      <td>8.6</td>\n",
       "      <td>5.8</td>\n",
       "      <td>6.0</td>\n",
       "      <td>9.3</td>\n",
       "      <td>...</td>\n",
       "      <td>0.77</td>\n",
       "      <td>3767</td>\n",
       "      <td>4906</td>\n",
       "      <td>2015</td>\n",
       "      <td>NaN</td>\n",
       "      <td>12.5</td>\n",
       "      <td>-12992.0</td>\n",
       "      <td>HaveGentrified</td>\n",
       "      <td>false</td>\n",
       "      <td>NotCurrentlyGentrifying</td>\n",
       "    </tr>\n",
       "  </tbody>\n",
       "</table>\n",
       "<p>5 rows × 54 columns</p>\n",
       "</div>"
      ],
      "text/plain": [
       "            Id                                   Geography  \\\n",
       "0  53033000100     Census Tract 1, King County, Washington   \n",
       "1  53033000200     Census Tract 2, King County, Washington   \n",
       "2  53033000300     Census Tract 3, King County, Washington   \n",
       "3  53033000401  Census Tract 4.01, King County, Washington   \n",
       "4  53033000402  Census Tract 4.02, King County, Washington   \n",
       "\n",
       "   Total; Estimate; AGE - 25 to 29 years  \\\n",
       "0                                   10.8   \n",
       "1                                   11.5   \n",
       "2                                   10.7   \n",
       "3                                    9.0   \n",
       "4                                    9.3   \n",
       "\n",
       "   Total; Estimate; AGE - 30 to 34 years  \\\n",
       "0                                   12.2   \n",
       "1                                    7.2   \n",
       "2                                    8.4   \n",
       "3                                   10.4   \n",
       "4                                    6.7   \n",
       "\n",
       "   Total; Estimate; AGE - 35 to 39 years  \\\n",
       "0                                    5.0   \n",
       "1                                    5.5   \n",
       "2                                    7.7   \n",
       "3                                   11.0   \n",
       "4                                    5.2   \n",
       "\n",
       "   Total; Estimate; AGE - 40 to 44 years  \\\n",
       "0                                    7.8   \n",
       "1                                    6.0   \n",
       "2                                    8.0   \n",
       "3                                    4.1   \n",
       "4                                    7.1   \n",
       "\n",
       "   Total; Estimate; AGE - 45 to 49 years  \\\n",
       "0                                    5.1   \n",
       "1                                    5.9   \n",
       "2                                    4.7   \n",
       "3                                    6.0   \n",
       "4                                    8.6   \n",
       "\n",
       "   Total; Estimate; AGE - 50 to 54 years  \\\n",
       "0                                    5.8   \n",
       "1                                    7.5   \n",
       "2                                    7.4   \n",
       "3                                    3.5   \n",
       "4                                    5.8   \n",
       "\n",
       "   Total; Estimate; AGE - 55 to 59 years  \\\n",
       "0                                    5.9   \n",
       "1                                    7.0   \n",
       "2                                    8.1   \n",
       "3                                    5.6   \n",
       "4                                    6.0   \n",
       "\n",
       "   Total; Estimate; AGE - 60 to 64 years           ...             \\\n",
       "0                                    7.2           ...              \n",
       "1                                    8.0           ...              \n",
       "2                                    5.2           ...              \n",
       "3                                    5.7           ...              \n",
       "4                                    9.3           ...              \n",
       "\n",
       "   Percentage: Not Hispanic or Latino: - White   \\\n",
       "0                                          0.58   \n",
       "1                                          0.57   \n",
       "2                                          0.71   \n",
       "3                                          0.55   \n",
       "4                                          0.77   \n",
       "\n",
       "   Estimate; Not Hispanic or Latino: - White alone  Estimate; Total:.1  Year  \\\n",
       "0                                             3987                6918  2015   \n",
       "1                                             4520                7974  2015   \n",
       "2                                             1880                2637  2015   \n",
       "3                                             3238                5907  2015   \n",
       "4                                             3767                4906  2015   \n",
       "\n",
       "   inflation_adj_median_house_value  increase_in_edu_attainment_2015  \\\n",
       "0                               NaN                             -1.9   \n",
       "1                               NaN                              3.4   \n",
       "2                               NaN                             -4.9   \n",
       "3                               NaN                              9.8   \n",
       "4                               NaN                             12.5   \n",
       "\n",
       "   increase_in_house_value_2015                          def1  \\\n",
       "0                     -126384.0  NotEligibleForGentrification   \n",
       "1                      -44996.0     EligibleForGentrification   \n",
       "2                      -37920.0     EligibleForGentrification   \n",
       "3                      -78068.0     EligibleForGentrification   \n",
       "4                      -12992.0                HaveGentrified   \n",
       "\n",
       "   increase_in_home_price_distribution_2015                     def2  \n",
       "0                                     false  NotCurrentlyGentrifying  \n",
       "1                                     false  NotCurrentlyGentrifying  \n",
       "2                                     false  NotCurrentlyGentrifying  \n",
       "3                                     false  NotCurrentlyGentrifying  \n",
       "4                                     false  NotCurrentlyGentrifying  \n",
       "\n",
       "[5 rows x 54 columns]"
      ]
     },
     "execution_count": 29,
     "metadata": {},
     "output_type": "execute_result"
    }
   ],
   "source": [
    "data.head()"
   ]
  },
  {
   "cell_type": "markdown",
   "metadata": {
    "collapsed": true
   },
   "source": [
    "### Definition 3: Urban Planning\n",
    "#### In danger of gentrifying:\n",
    "* The block group’s % of workers taking transit increased\n",
    "* The block group’s youth facilities per 1000 residents increased\n",
    "* The block group’s public space per 1000 residents increased\n",
    "* The block group’s % non-family households increased\n",
    "* The block group’s % dwelling units in building with 5+ units increased\n",
    "* The block group’s % dwelling units in building with 3-4 units increased\n",
    "* The block group’s % renter-occupied increased\n",
    "* The block group’s income diversity increased\n",
    "* The block group’s % of renters paying >35% of income increased\n",
    "* The block group’s % of dwelling units with three or more cars available decreased\n",
    "* The block group’s recreational facilities per 1000 residents decreased\n",
    "* The block group’s % married couples with children decreased\n",
    "* The block group’s % non-hispanic white decreased"
   ]
  },
  {
   "cell_type": "markdown",
   "metadata": {},
   "source": [
    "#### Calculations for Part1: In danger of gentrifying"
   ]
  },
  {
   "cell_type": "code",
   "execution_count": 31,
   "metadata": {
    "collapsed": true
   },
   "outputs": [],
   "source": [
    "data['Percentage: Public transportation (excluding taxicab)'] = data['Percentage: Public transportation (excluding taxicab)']*100\n",
    "\n",
    "increase_in_workers_taking_transit_2015 = []\n",
    "\n",
    "for s in tract_id:\n",
    "    i = np.where(data['Id'] == s)\n",
    "    if data['Percentage: Public transportation (excluding taxicab)'].iloc[i[0][0]] > data['Percentage: Public transportation (excluding taxicab)'].iloc[i[0][1]]:\n",
    "        increase_in_workers_taking_transit_2015.append('true')\n",
    "    else:\n",
    "        increase_in_workers_taking_transit_2015.append('false') \n",
    "        \n",
    "data['increase_in_workers_taking_transit_2015'] = pd.Series(increase_in_workers_taking_transit_2015)        "
   ]
  },
  {
   "cell_type": "code",
   "execution_count": 45,
   "metadata": {
    "collapsed": true
   },
   "outputs": [],
   "source": [
    "data['Percentage: Nonfamily household'] = data['Percentage: Nonfamily household']*100\n",
    "\n",
    "increase_in_non_family_households_2015 = []\n",
    "\n",
    "for s in tract_id:\n",
    "    i = np.where(data['Id'] == s)\n",
    "    if data['Percentage: Nonfamily household'].iloc[i[0][0]] > data['Percentage: Nonfamily household'].iloc[i[0][1]]:\n",
    "        increase_in_non_family_households_2015.append('true')\n",
    "    else:\n",
    "        increase_in_non_family_households_2015.append('false') \n",
    "        \n",
    "data['increase_in_non_family_households_2015'] = pd.Series(increase_in_non_family_households_2015)      "
   ]
  },
  {
   "cell_type": "code",
   "execution_count": 46,
   "metadata": {
    "collapsed": true
   },
   "outputs": [],
   "source": [
    "increase_in_dwelling_units_5_or_more_2015 = []\n",
    "\n",
    "for s in tract_id:\n",
    "    i = np.where(data['Id'] == s)\n",
    "    if data['Dwelling Units: -5 or more'].iloc[i[0][0]] > data['Dwelling Units: -5 or more'].iloc[i[0][1]]:\n",
    "        dwelling_units_5_or_more_2015.append('true')\n",
    "    else:\n",
    "        dwelling_units_5_or_more_2015.append('false') \n",
    "        \n",
    "data['increase_in_dwelling_units_5_or_more_2015'] = pd.Series(increase_in_dwelling_units_5_or_more_2015)      "
   ]
  },
  {
   "cell_type": "code",
   "execution_count": 47,
   "metadata": {
    "collapsed": true
   },
   "outputs": [],
   "source": [
    "increase_in_dwelling_units_3_or_4_2015 = []\n",
    "\n",
    "for s in tract_id:\n",
    "    i = np.where(data['Id'] == s)\n",
    "    if data['Dwelling Units: - 3 or 4'].iloc[i[0][0]] > data['Dwelling Units: - 3 or 4'].iloc[i[0][1]]:\n",
    "        dwelling_units_3_or_4_2015.append('true')\n",
    "    else:\n",
    "        dwelling_units_3_or_4_2015.append('false') \n",
    "        \n",
    "data['dwelling_units_3_or_4_2015'] = pd.Series(dwelling_units_3_or_4_2015)   "
   ]
  },
  {
   "cell_type": "code",
   "execution_count": 48,
   "metadata": {
    "collapsed": true
   },
   "outputs": [],
   "source": [
    "data['Percentage: Renter-occupied housing units'] = data['Percentage: Renter-occupied housing units']*100\n",
    "\n",
    "increase_in_renter_occupied_housing_units_2015 = []\n",
    "\n",
    "for s in tract_id:\n",
    "    i = np.where(data['Id'] == s)\n",
    "    if data['Percentage: Renter-occupied housing units'].iloc[i[0][0]] > data['Percentage: Renter-occupied housing units'].iloc[i[0][1]]:\n",
    "        increase_in_renter_occupied_housing_units_2015.append('true')\n",
    "    else:\n",
    "        increase_in_renter_occupied_housing_units_2015.append('false') \n",
    "        \n",
    "data['increase_in_renter_occupied_housing_units_2015'] = pd.Series(increase_in_renter_occupied_housing_units_2015)        "
   ]
  },
  {
   "cell_type": "code",
   "execution_count": 58,
   "metadata": {
    "collapsed": true
   },
   "outputs": [],
   "source": [
    "increase_in_vehicles_3_or_more = []\n",
    "\n",
    "for s in tract_id:\n",
    "    i = np.where(data['Id'] == s)\n",
    "    if data[' 3 or more vehicles available'].iloc[i[0][0]] > data[' 3 or more vehicles available'].iloc[i[0][1]]:\n",
    "        increase_in_vehicles_3_or_more.append('true')\n",
    "    else:\n",
    "        increase_in_vehicles_3_or_more.append('false') \n",
    "        \n",
    "data['increase_in_vehicles_3_or_more'] = pd.Series(increase_in_vehicles_3_or_more) "
   ]
  },
  {
   "cell_type": "code",
   "execution_count": null,
   "metadata": {
    "collapsed": true
   },
   "outputs": [],
   "source": []
  },
  {
   "cell_type": "markdown",
   "metadata": {},
   "source": [
    "#### Labelling the tracts per definition 3"
   ]
  },
  {
   "cell_type": "markdown",
   "metadata": {},
   "source": [
    "#### Are the below conditions a part of 'and' or 'or'? Need to discuss"
   ]
  },
  {
   "cell_type": "code",
   "execution_count": 59,
   "metadata": {
    "collapsed": true
   },
   "outputs": [],
   "source": [
    "def label_def3(row):\n",
    "   if row['Year'] == 2010:\n",
    "      return 'None'\n",
    "   if row['Year'] == 2015 and row['increase_in_workers_taking_transit_2015'] == 'true'and row['increase_in_non_family_households_2015'] == 'true' and row['dwelling_units_5_or_more_2015'] == 'true' and row['dwelling_units_3_or_4_2015'] == 'true'and row['increase_in_renter_occupied_housing_units_2015'] == 'true' and row['increase_in_vehicles_3_or_more'] == 'true':\n",
    "      return 'InDangerOfGentrifying'\n",
    "   else:\n",
    "      return 'NotInDangerOfGentrifying'"
   ]
  },
  {
   "cell_type": "code",
   "execution_count": 60,
   "metadata": {
    "collapsed": true
   },
   "outputs": [],
   "source": [
    "data['def3'] = data.apply(label_def3, axis=1)"
   ]
  },
  {
   "cell_type": "code",
   "execution_count": null,
   "metadata": {
    "collapsed": true
   },
   "outputs": [],
   "source": []
  },
  {
   "cell_type": "markdown",
   "metadata": {},
   "source": [
    "### Output data to csv file"
   ]
  },
  {
   "cell_type": "code",
   "execution_count": 61,
   "metadata": {
    "collapsed": true
   },
   "outputs": [],
   "source": [
    "# index=False doesn't add an extra column in the CSV file with the index\n",
    "data.to_csv('../Data/ACS_data_with_labels.csv', encoding='utf-8', index=False)"
   ]
  },
  {
   "cell_type": "code",
   "execution_count": null,
   "metadata": {
    "collapsed": true
   },
   "outputs": [],
   "source": []
  }
 ],
 "metadata": {
  "kernelspec": {
   "display_name": "Python 3",
   "language": "python",
   "name": "python3"
  },
  "language_info": {
   "codemirror_mode": {
    "name": "ipython",
    "version": 3
   },
   "file_extension": ".py",
   "mimetype": "text/x-python",
   "name": "python",
   "nbconvert_exporter": "python",
   "pygments_lexer": "ipython3",
   "version": "3.6.1"
  }
 },
 "nbformat": 4,
 "nbformat_minor": 2
}
