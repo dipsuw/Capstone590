{
 "cells": [
  {
   "cell_type": "code",
   "execution_count": 1,
   "metadata": {
    "collapsed": true,
    "deletable": true,
    "editable": true
   },
   "outputs": [],
   "source": [
    "import pandas as pd\n",
    "import numpy as np\n",
    "\n",
    "# Increase the maximum number of rows & columns displayed to 50.\n",
    "pd.set_option('display.max_column', 50)\n",
    "pd.set_option('display.max_row', 50)"
   ]
  },
  {
   "cell_type": "code",
   "execution_count": 2,
   "metadata": {
    "collapsed": true,
    "deletable": true,
    "editable": true
   },
   "outputs": [],
   "source": [
    "import matplotlib.pyplot as plt\n",
    "%matplotlib inline  "
   ]
  },
  {
   "cell_type": "code",
   "execution_count": 3,
   "metadata": {
    "collapsed": true,
    "deletable": true,
    "editable": true
   },
   "outputs": [],
   "source": [
    "data = pd.read_csv('../Data/acs_data_new.csv', header=0)"
   ]
  },
  {
   "cell_type": "code",
   "execution_count": 4,
   "metadata": {
    "collapsed": true,
    "deletable": true,
    "editable": true
   },
   "outputs": [],
   "source": [
    "#data.head()"
   ]
  },
  {
   "cell_type": "code",
   "execution_count": 5,
   "metadata": {
    "collapsed": true,
    "deletable": true,
    "editable": true
   },
   "outputs": [],
   "source": [
    "#data.describe()"
   ]
  },
  {
   "cell_type": "code",
   "execution_count": 6,
   "metadata": {
    "collapsed": true,
    "deletable": true,
    "editable": true
   },
   "outputs": [],
   "source": [
    "#data[data['Median income'] == '-' ]"
   ]
  },
  {
   "cell_type": "code",
   "execution_count": 7,
   "metadata": {
    "collapsed": true,
    "deletable": true,
    "editable": true
   },
   "outputs": [],
   "source": [
    "#Since all the values in the Ids 397 and 795 are missing, deleting these 2 rows\n",
    "#data = data.drop(data[data['Median income'] == '-' ].index)"
   ]
  },
  {
   "cell_type": "code",
   "execution_count": 8,
   "metadata": {
    "collapsed": true,
    "deletable": true,
    "editable": true
   },
   "outputs": [],
   "source": [
    "# following two census tracts which are present in 2010 and not in 2015, hence deleting them\n",
    "#53033005302: not present in 2015\n",
    "#53033032800: not present in 2015\n",
    "#53033004302: not present in 2010"
   ]
  },
  {
   "cell_type": "code",
   "execution_count": 9,
   "metadata": {
    "collapsed": false,
    "deletable": true,
    "editable": true
   },
   "outputs": [
    {
     "data": {
      "text/plain": [
       "<matplotlib.text.Text at 0x1752698b198>"
      ]
     },
     "execution_count": 9,
     "metadata": {},
     "output_type": "execute_result"
    },
    {
     "data": {
      "image/png": "[encoded data removed]",
      "text/plain": [
       "<matplotlib.figure.Figure at 0x175270fe0b8>"
      ]
     },
     "metadata": {},
     "output_type": "display_data"
    }
   ],
   "source": [
    "# Alternate histogram plot\n",
    "fig, axs = plt.subplots(1, 1, figsize=(8, 5), sharex=True, sharey=True)\n",
    "plt.grid(True) # Show grid\n",
    "plt.hist(data['median house value'])\n",
    "plt.title(\"Histogram of Median House Values (Dollars)\")"
   ]
  },
  {
   "cell_type": "code",
   "execution_count": 10,
   "metadata": {
    "collapsed": false,
    "deletable": true,
    "editable": true
   },
   "outputs": [
    {
     "data": {
      "text/plain": [
       "(array([  15.,  207.,  328.,  156.,   60.,   19.,    9.,    0.,    0.,    2.]),\n",
       " array([       0.,   155560.,   311120.,   466680.,   622240.,   777800.,\n",
       "          933360.,  1088920.,  1244480.,  1400040.,  1555600.]),\n",
       " <a list of 10 Patch objects>)"
      ]
     },
     "execution_count": 10,
     "metadata": {},
     "output_type": "execute_result"
    },
    {
     "data": {
      "image/png": "[encoded data removed]",
      "text/plain": [
       "<matplotlib.figure.Figure at 0x17526800da0>"
      ]
     },
     "metadata": {},
     "output_type": "display_data"
    }
   ],
   "source": [
    "plt.hist(data['median house value'])"
   ]
  },
  {
   "cell_type": "markdown",
   "metadata": {
    "deletable": true,
    "editable": true
   },
   "source": [
    "### Definition 1: Sociology \n",
    "#### Eligible for Gentrification:\n",
    "* The block group’s median household income was in the bottom 40th percentile when compared to all block groups in Seattle at the beginning of the time span.\n",
    "* The block group’s median house value was in the bottom 40th percentile when compared to all block groups in Seattle at the beginning of the time span.\n",
    "\n",
    "#### Have gentrified:\n",
    "* An increase in a block group’s educational attainment, as measured by the percentage of residents age 25 and over holding bachelor’s degrees, was in the top third percentile of all block groups in Seattle.\n",
    "* An increase in a block group’s median house value, as measured by inflation-adjusted median house value, was in the top third percentile of all block groups in Seattle.\n"
   ]
  },
  {
   "cell_type": "markdown",
   "metadata": {
    "deletable": true,
    "editable": true
   },
   "source": [
    "#### Calculations for Part1: Eligible for gentrification"
   ]
  },
  {
   "cell_type": "code",
   "execution_count": 11,
   "metadata": {
    "collapsed": true,
    "deletable": true,
    "editable": true
   },
   "outputs": [],
   "source": [
    "# get the columns in variable names\n",
    "median_income =np.array(data['median income'])\n",
    "median_housevalue =np.array(data['median house value'])"
   ]
  },
  {
   "cell_type": "code",
   "execution_count": 12,
   "metadata": {
    "collapsed": true,
    "deletable": true,
    "editable": true
   },
   "outputs": [],
   "source": [
    "# find percentiles for median income, house value and bachelor degree holders\n",
    "income_40th_perc = np.percentile(median_income, 40)\n",
    "houseval_40th_perc = np.percentile(median_housevalue, 40)"
   ]
  },
  {
   "cell_type": "markdown",
   "metadata": {
    "deletable": true,
    "editable": true
   },
   "source": [
    "#### Calculations for Part2: Have gentrified"
   ]
  },
  {
   "cell_type": "code",
   "execution_count": 13,
   "metadata": {
    "collapsed": true,
    "deletable": true,
    "editable": true
   },
   "outputs": [],
   "source": [
    "def add_col_for_inflation_adjusted_house_price_2010(row):\n",
    "    if row['year'] == 2010:\n",
    "        return row['median house value']*1.08"
   ]
  },
  {
   "cell_type": "code",
   "execution_count": 14,
   "metadata": {
    "collapsed": false,
    "deletable": true,
    "editable": true
   },
   "outputs": [],
   "source": [
    "#inflation_adj_median_house_value = data.apply(add_col_for_inflation_adjusted_house_price_2010, axis = 1)\n",
    "data['inflation_adj_median_house_value'] = data.apply(add_col_for_inflation_adjusted_house_price_2010, axis = 1)"
   ]
  },
  {
   "cell_type": "code",
   "execution_count": 15,
   "metadata": {
    "collapsed": true,
    "deletable": true,
    "editable": true
   },
   "outputs": [],
   "source": [
    "# get unique tract ids to iterate thru all records of 2015 and 2010\n",
    "tract_id = data.Id.unique()"
   ]
  },
  {
   "cell_type": "code",
   "execution_count": 16,
   "metadata": {
    "collapsed": false,
    "deletable": true,
    "editable": true
   },
   "outputs": [],
   "source": [
    "increase_in_edu_attainment_2015 = []\n",
    "for s in tract_id:\n",
    "    i = np.where(data['Id'] == s) # gives two indexes for each tract id(one for 2015 and another for 2010)\n",
    "    # to find the percentage increase subtract the bachelors degree % for 2010 from bachelors degree % of 2015\n",
    "    perc_increase = data['bachelor deg 25yr+'].iloc[i[0][0]] - data['bachelor deg 25yr+'].iloc[i[0][1]]\n",
    "    increase_in_edu_attainment_2015.append(perc_increase)"
   ]
  },
  {
   "cell_type": "code",
   "execution_count": 17,
   "metadata": {
    "collapsed": false,
    "deletable": true,
    "editable": true
   },
   "outputs": [],
   "source": [
    "increase_in_house_value_2015 = []\n",
    "for s in tract_id:\n",
    "    i = np.where(data['Id'] == s)\n",
    "    perc_increase = data['median house value'].iloc[i[0][0]] - data['inflation_adj_median_house_value'].iloc[i[0][1]]\n",
    "    increase_in_house_value_2015.append(perc_increase)"
   ]
  },
  {
   "cell_type": "code",
   "execution_count": 18,
   "metadata": {
    "collapsed": true,
    "deletable": true,
    "editable": true
   },
   "outputs": [],
   "source": [
    "data['increase_in_edu_attainment_2015'] = pd.Series(increase_in_edu_attainment_2015)\n",
    "data['increase_in_house_value_2015'] = pd.Series(increase_in_house_value_2015)"
   ]
  },
  {
   "cell_type": "code",
   "execution_count": 19,
   "metadata": {
    "collapsed": true,
    "deletable": true,
    "editable": true
   },
   "outputs": [],
   "source": [
    "increase_bachelor_degree_top3rd_percentile = np.percentile(increase_in_edu_attainment_2015, 66)\n",
    "increase_house_value_top3rd_percentile = np.percentile(increase_in_house_value_2015, 66)"
   ]
  },
  {
   "cell_type": "code",
   "execution_count": 20,
   "metadata": {
    "collapsed": false,
    "deletable": true,
    "editable": true
   },
   "outputs": [
    {
     "data": {
      "text/plain": [
       "-37002.719999999994"
      ]
     },
     "execution_count": 20,
     "metadata": {},
     "output_type": "execute_result"
    }
   ],
   "source": [
    "increase_house_value_top3rd_percentile"
   ]
  },
  {
   "cell_type": "markdown",
   "metadata": {
    "deletable": true,
    "editable": true
   },
   "source": [
    "#### Labelling the tracts per definition 1"
   ]
  },
  {
   "cell_type": "code",
   "execution_count": 21,
   "metadata": {
    "collapsed": true,
    "deletable": true,
    "editable": true
   },
   "outputs": [],
   "source": [
    "def label_def1(row):\n",
    "   if row['year'] == 2010:\n",
    "      return 'None'\n",
    "   if row['year'] == 2015 and row['increase_in_edu_attainment_2015'] > increase_bachelor_degree_top3rd_percentile and row['increase_in_house_value_2015'] > increase_house_value_top3rd_percentile:\n",
    "      return 'HaveGentrified'\n",
    "   if row['year'] == 2015 and row['median income'] < income_40th_perc and row['median house value'] < houseval_40th_perc:\n",
    "      return 'EligibleForGentrification'\n",
    "   else:\n",
    "      return 'NotEligibleForGentrification'"
   ]
  },
  {
   "cell_type": "code",
   "execution_count": 22,
   "metadata": {
    "collapsed": false,
    "deletable": true,
    "editable": true
   },
   "outputs": [],
   "source": [
    "data['def1'] = data.apply(label_def1, axis=1)"
   ]
  },
  {
   "cell_type": "code",
   "execution_count": 23,
   "metadata": {
    "collapsed": false,
    "deletable": true,
    "editable": true
   },
   "outputs": [
    {
     "data": {
      "text/html": [
       "<div>\n",
       "<table border=\"1\" class=\"dataframe\">\n",
       "  <thead>\n",
       "    <tr style=\"text-align: right;\">\n",
       "      <th></th>\n",
       "      <th>Id</th>\n",
       "      <th>Geography</th>\n",
       "      <th>neighborhood</th>\n",
       "      <th>city</th>\n",
       "      <th>year</th>\n",
       "      <th>total population</th>\n",
       "      <th>total households</th>\n",
       "      <th>median house value</th>\n",
       "      <th>percent public transportation</th>\n",
       "      <th>percent white not hispanic</th>\n",
       "      <th>median income</th>\n",
       "      <th>median family income</th>\n",
       "      <th>percent nonfamily household</th>\n",
       "      <th>median gross rent</th>\n",
       "      <th>median_contract_rent</th>\n",
       "      <th>percent renter-occupied housing units</th>\n",
       "      <th>monthly housing costs 30+ percent of renter householdhold income</th>\n",
       "      <th>rent 35-39.9 percent of household income</th>\n",
       "      <th>rent 40-49.9 percent of household income</th>\n",
       "      <th>rent 50 percent of household income</th>\n",
       "      <th>not computed rent as percent of household income</th>\n",
       "      <th>3-4 dwelling units</th>\n",
       "      <th>5+ dwelling units</th>\n",
       "      <th>3+ vehicles available</th>\n",
       "      <th>percent bachelors degree or higher</th>\n",
       "      <th>...</th>\n",
       "      <th>household income 75,000-99,999</th>\n",
       "      <th>household income 100,000-124,999</th>\n",
       "      <th>household income 125,000-149,999</th>\n",
       "      <th>household income 150,000-199,999</th>\n",
       "      <th>household income 200,000+</th>\n",
       "      <th>total count household income</th>\n",
       "      <th>total population 25yr+</th>\n",
       "      <th>total female 25-29yr</th>\n",
       "      <th>total female 30-39yr</th>\n",
       "      <th>total female 40-49yr</th>\n",
       "      <th>total female 50-59yr</th>\n",
       "      <th>total female 60-64yr</th>\n",
       "      <th>total female 65-69yr</th>\n",
       "      <th>total female 70yr+</th>\n",
       "      <th>total male 25-29yr</th>\n",
       "      <th>total male 30-39yr</th>\n",
       "      <th>total male 40-49yr</th>\n",
       "      <th>total male 50-59yr</th>\n",
       "      <th>total male 60-64yr</th>\n",
       "      <th>total male 65-69yr</th>\n",
       "      <th>total male 70yr+</th>\n",
       "      <th>inflation_adj_median_house_value</th>\n",
       "      <th>increase_in_edu_attainment_2015</th>\n",
       "      <th>increase_in_house_value_2015</th>\n",
       "      <th>def1</th>\n",
       "    </tr>\n",
       "  </thead>\n",
       "  <tbody>\n",
       "    <tr>\n",
       "      <th>0</th>\n",
       "      <td>53033000100</td>\n",
       "      <td>Census Tract 1, King County, Washington</td>\n",
       "      <td>Victory Heights</td>\n",
       "      <td>Seattle</td>\n",
       "      <td>2015</td>\n",
       "      <td>6918</td>\n",
       "      <td>3400</td>\n",
       "      <td>410700</td>\n",
       "      <td>0.198666</td>\n",
       "      <td>0.576323</td>\n",
       "      <td>44951</td>\n",
       "      <td>79896</td>\n",
       "      <td>0.579706</td>\n",
       "      <td>981</td>\n",
       "      <td>892.0</td>\n",
       "      <td>0.682059</td>\n",
       "      <td>26.2</td>\n",
       "      <td>70</td>\n",
       "      <td>266</td>\n",
       "      <td>763</td>\n",
       "      <td>85</td>\n",
       "      <td>269</td>\n",
       "      <td>2170</td>\n",
       "      <td>405</td>\n",
       "      <td>45.0</td>\n",
       "      <td>...</td>\n",
       "      <td>392</td>\n",
       "      <td>229</td>\n",
       "      <td>122</td>\n",
       "      <td>213</td>\n",
       "      <td>208</td>\n",
       "      <td>3400</td>\n",
       "      <td>5010</td>\n",
       "      <td>421</td>\n",
       "      <td>555</td>\n",
       "      <td>442</td>\n",
       "      <td>349</td>\n",
       "      <td>318</td>\n",
       "      <td>198</td>\n",
       "      <td>301</td>\n",
       "      <td>324</td>\n",
       "      <td>635</td>\n",
       "      <td>457</td>\n",
       "      <td>461</td>\n",
       "      <td>182</td>\n",
       "      <td>134</td>\n",
       "      <td>233</td>\n",
       "      <td>NaN</td>\n",
       "      <td>307.0</td>\n",
       "      <td>-126384.0</td>\n",
       "      <td>NotEligibleForGentrification</td>\n",
       "    </tr>\n",
       "    <tr>\n",
       "      <th>1</th>\n",
       "      <td>53033000100</td>\n",
       "      <td>Census Tract 1, King County, Washington</td>\n",
       "      <td>Victory Heights</td>\n",
       "      <td>Seattle</td>\n",
       "      <td>2010</td>\n",
       "      <td>5784</td>\n",
       "      <td>3110</td>\n",
       "      <td>497300</td>\n",
       "      <td>0.216394</td>\n",
       "      <td>0.575726</td>\n",
       "      <td>47518</td>\n",
       "      <td>1274</td>\n",
       "      <td>0.590354</td>\n",
       "      <td>838</td>\n",
       "      <td>775.0</td>\n",
       "      <td>0.713183</td>\n",
       "      <td>625.0</td>\n",
       "      <td>132</td>\n",
       "      <td>134</td>\n",
       "      <td>473</td>\n",
       "      <td>60</td>\n",
       "      <td>111</td>\n",
       "      <td>1967</td>\n",
       "      <td>290</td>\n",
       "      <td>46.9</td>\n",
       "      <td>...</td>\n",
       "      <td>249</td>\n",
       "      <td>243</td>\n",
       "      <td>108</td>\n",
       "      <td>118</td>\n",
       "      <td>147</td>\n",
       "      <td>3110</td>\n",
       "      <td>4454</td>\n",
       "      <td>318</td>\n",
       "      <td>475</td>\n",
       "      <td>444</td>\n",
       "      <td>572</td>\n",
       "      <td>43</td>\n",
       "      <td>48</td>\n",
       "      <td>210</td>\n",
       "      <td>519</td>\n",
       "      <td>606</td>\n",
       "      <td>440</td>\n",
       "      <td>445</td>\n",
       "      <td>125</td>\n",
       "      <td>46</td>\n",
       "      <td>163</td>\n",
       "      <td>537084.0</td>\n",
       "      <td>32.0</td>\n",
       "      <td>-44996.0</td>\n",
       "      <td>None</td>\n",
       "    </tr>\n",
       "    <tr>\n",
       "      <th>2</th>\n",
       "      <td>53033000200</td>\n",
       "      <td>Census Tract 2, King County, Washington</td>\n",
       "      <td>Pinehurst</td>\n",
       "      <td>Seattle</td>\n",
       "      <td>2015</td>\n",
       "      <td>7974</td>\n",
       "      <td>3572</td>\n",
       "      <td>342400</td>\n",
       "      <td>0.174445</td>\n",
       "      <td>0.566842</td>\n",
       "      <td>56208</td>\n",
       "      <td>69870</td>\n",
       "      <td>0.422732</td>\n",
       "      <td>1128</td>\n",
       "      <td>993.0</td>\n",
       "      <td>0.463326</td>\n",
       "      <td>42.4</td>\n",
       "      <td>152</td>\n",
       "      <td>227</td>\n",
       "      <td>299</td>\n",
       "      <td>162</td>\n",
       "      <td>97</td>\n",
       "      <td>1456</td>\n",
       "      <td>383</td>\n",
       "      <td>52.7</td>\n",
       "      <td>...</td>\n",
       "      <td>336</td>\n",
       "      <td>345</td>\n",
       "      <td>164</td>\n",
       "      <td>261</td>\n",
       "      <td>88</td>\n",
       "      <td>3572</td>\n",
       "      <td>5880</td>\n",
       "      <td>424</td>\n",
       "      <td>511</td>\n",
       "      <td>520</td>\n",
       "      <td>563</td>\n",
       "      <td>395</td>\n",
       "      <td>262</td>\n",
       "      <td>555</td>\n",
       "      <td>494</td>\n",
       "      <td>497</td>\n",
       "      <td>432</td>\n",
       "      <td>588</td>\n",
       "      <td>244</td>\n",
       "      <td>153</td>\n",
       "      <td>242</td>\n",
       "      <td>NaN</td>\n",
       "      <td>-67.0</td>\n",
       "      <td>-37920.0</td>\n",
       "      <td>EligibleForGentrification</td>\n",
       "    </tr>\n",
       "    <tr>\n",
       "      <th>3</th>\n",
       "      <td>53033000200</td>\n",
       "      <td>Census Tract 2, King County, Washington</td>\n",
       "      <td>Pinehurst</td>\n",
       "      <td>Seattle</td>\n",
       "      <td>2010</td>\n",
       "      <td>7682</td>\n",
       "      <td>3633</td>\n",
       "      <td>358700</td>\n",
       "      <td>0.152393</td>\n",
       "      <td>0.700729</td>\n",
       "      <td>54797</td>\n",
       "      <td>1899</td>\n",
       "      <td>0.477291</td>\n",
       "      <td>906</td>\n",
       "      <td>828.0</td>\n",
       "      <td>0.444536</td>\n",
       "      <td>554.0</td>\n",
       "      <td>156</td>\n",
       "      <td>73</td>\n",
       "      <td>339</td>\n",
       "      <td>266</td>\n",
       "      <td>160</td>\n",
       "      <td>1433</td>\n",
       "      <td>398</td>\n",
       "      <td>49.3</td>\n",
       "      <td>...</td>\n",
       "      <td>451</td>\n",
       "      <td>356</td>\n",
       "      <td>217</td>\n",
       "      <td>85</td>\n",
       "      <td>79</td>\n",
       "      <td>3633</td>\n",
       "      <td>5782</td>\n",
       "      <td>362</td>\n",
       "      <td>513</td>\n",
       "      <td>567</td>\n",
       "      <td>632</td>\n",
       "      <td>225</td>\n",
       "      <td>183</td>\n",
       "      <td>479</td>\n",
       "      <td>383</td>\n",
       "      <td>609</td>\n",
       "      <td>638</td>\n",
       "      <td>665</td>\n",
       "      <td>122</td>\n",
       "      <td>115</td>\n",
       "      <td>289</td>\n",
       "      <td>387396.0</td>\n",
       "      <td>275.0</td>\n",
       "      <td>-78068.0</td>\n",
       "      <td>None</td>\n",
       "    </tr>\n",
       "    <tr>\n",
       "      <th>4</th>\n",
       "      <td>53033000300</td>\n",
       "      <td>Census Tract 3, King County, Washington</td>\n",
       "      <td>Pinehurst</td>\n",
       "      <td>Seattle</td>\n",
       "      <td>2015</td>\n",
       "      <td>2637</td>\n",
       "      <td>1087</td>\n",
       "      <td>336300</td>\n",
       "      <td>0.220242</td>\n",
       "      <td>0.712931</td>\n",
       "      <td>64297</td>\n",
       "      <td>87604</td>\n",
       "      <td>0.447102</td>\n",
       "      <td>1225</td>\n",
       "      <td>1028.0</td>\n",
       "      <td>0.440662</td>\n",
       "      <td>37.0</td>\n",
       "      <td>17</td>\n",
       "      <td>77</td>\n",
       "      <td>119</td>\n",
       "      <td>22</td>\n",
       "      <td>27</td>\n",
       "      <td>174</td>\n",
       "      <td>143</td>\n",
       "      <td>33.1</td>\n",
       "      <td>...</td>\n",
       "      <td>173</td>\n",
       "      <td>78</td>\n",
       "      <td>67</td>\n",
       "      <td>106</td>\n",
       "      <td>75</td>\n",
       "      <td>1087</td>\n",
       "      <td>1916</td>\n",
       "      <td>54</td>\n",
       "      <td>195</td>\n",
       "      <td>185</td>\n",
       "      <td>155</td>\n",
       "      <td>81</td>\n",
       "      <td>87</td>\n",
       "      <td>114</td>\n",
       "      <td>227</td>\n",
       "      <td>228</td>\n",
       "      <td>152</td>\n",
       "      <td>253</td>\n",
       "      <td>57</td>\n",
       "      <td>60</td>\n",
       "      <td>68</td>\n",
       "      <td>NaN</td>\n",
       "      <td>499.0</td>\n",
       "      <td>-12992.0</td>\n",
       "      <td>HaveGentrified</td>\n",
       "    </tr>\n",
       "  </tbody>\n",
       "</table>\n",
       "<p>5 rows × 59 columns</p>\n",
       "</div>"
      ],
      "text/plain": [
       "            Id                                Geography     neighborhood  \\\n",
       "0  53033000100  Census Tract 1, King County, Washington  Victory Heights   \n",
       "1  53033000100  Census Tract 1, King County, Washington  Victory Heights   \n",
       "2  53033000200  Census Tract 2, King County, Washington        Pinehurst   \n",
       "3  53033000200  Census Tract 2, King County, Washington        Pinehurst   \n",
       "4  53033000300  Census Tract 3, King County, Washington        Pinehurst   \n",
       "\n",
       "      city  year  total population  total households  median house value  \\\n",
       "0  Seattle  2015              6918              3400              410700   \n",
       "1  Seattle  2010              5784              3110              497300   \n",
       "2  Seattle  2015              7974              3572              342400   \n",
       "3  Seattle  2010              7682              3633              358700   \n",
       "4  Seattle  2015              2637              1087              336300   \n",
       "\n",
       "   percent public transportation  percent white not hispanic  median income  \\\n",
       "0                       0.198666                    0.576323          44951   \n",
       "1                       0.216394                    0.575726          47518   \n",
       "2                       0.174445                    0.566842          56208   \n",
       "3                       0.152393                    0.700729          54797   \n",
       "4                       0.220242                    0.712931          64297   \n",
       "\n",
       "   median family income  percent nonfamily household  median gross rent  \\\n",
       "0                 79896                     0.579706                981   \n",
       "1                  1274                     0.590354                838   \n",
       "2                 69870                     0.422732               1128   \n",
       "3                  1899                     0.477291                906   \n",
       "4                 87604                     0.447102               1225   \n",
       "\n",
       "   median_contract_rent  percent renter-occupied housing units  \\\n",
       "0                 892.0                               0.682059   \n",
       "1                 775.0                               0.713183   \n",
       "2                 993.0                               0.463326   \n",
       "3                 828.0                               0.444536   \n",
       "4                1028.0                               0.440662   \n",
       "\n",
       "   monthly housing costs 30+ percent of renter householdhold income  \\\n",
       "0                                               26.2                  \n",
       "1                                              625.0                  \n",
       "2                                               42.4                  \n",
       "3                                              554.0                  \n",
       "4                                               37.0                  \n",
       "\n",
       "   rent 35-39.9 percent of household income  \\\n",
       "0                                        70   \n",
       "1                                       132   \n",
       "2                                       152   \n",
       "3                                       156   \n",
       "4                                        17   \n",
       "\n",
       "   rent 40-49.9 percent of household income  \\\n",
       "0                                       266   \n",
       "1                                       134   \n",
       "2                                       227   \n",
       "3                                        73   \n",
       "4                                        77   \n",
       "\n",
       "   rent 50 percent of household income  \\\n",
       "0                                  763   \n",
       "1                                  473   \n",
       "2                                  299   \n",
       "3                                  339   \n",
       "4                                  119   \n",
       "\n",
       "   not computed rent as percent of household income  3-4 dwelling units  \\\n",
       "0                                                85                 269   \n",
       "1                                                60                 111   \n",
       "2                                               162                  97   \n",
       "3                                               266                 160   \n",
       "4                                                22                  27   \n",
       "\n",
       "   5+ dwelling units  3+ vehicles available  \\\n",
       "0               2170                    405   \n",
       "1               1967                    290   \n",
       "2               1456                    383   \n",
       "3               1433                    398   \n",
       "4                174                    143   \n",
       "\n",
       "   percent bachelors degree or higher              ...               \\\n",
       "0                                45.0              ...                \n",
       "1                                46.9              ...                \n",
       "2                                52.7              ...                \n",
       "3                                49.3              ...                \n",
       "4                                33.1              ...                \n",
       "\n",
       "   household income 75,000-99,999  household income 100,000-124,999  \\\n",
       "0                             392                               229   \n",
       "1                             249                               243   \n",
       "2                             336                               345   \n",
       "3                             451                               356   \n",
       "4                             173                                78   \n",
       "\n",
       "   household income 125,000-149,999  household income 150,000-199,999  \\\n",
       "0                               122                               213   \n",
       "1                               108                               118   \n",
       "2                               164                               261   \n",
       "3                               217                                85   \n",
       "4                                67                               106   \n",
       "\n",
       "   household income 200,000+  total count household income  \\\n",
       "0                        208                          3400   \n",
       "1                        147                          3110   \n",
       "2                         88                          3572   \n",
       "3                         79                          3633   \n",
       "4                         75                          1087   \n",
       "\n",
       "   total population 25yr+  total female 25-29yr  total female 30-39yr  \\\n",
       "0                    5010                   421                   555   \n",
       "1                    4454                   318                   475   \n",
       "2                    5880                   424                   511   \n",
       "3                    5782                   362                   513   \n",
       "4                    1916                    54                   195   \n",
       "\n",
       "   total female 40-49yr  total female 50-59yr  total female 60-64yr  \\\n",
       "0                   442                   349                   318   \n",
       "1                   444                   572                    43   \n",
       "2                   520                   563                   395   \n",
       "3                   567                   632                   225   \n",
       "4                   185                   155                    81   \n",
       "\n",
       "   total female 65-69yr  total female 70yr+  total male 25-29yr  \\\n",
       "0                   198                 301                 324   \n",
       "1                    48                 210                 519   \n",
       "2                   262                 555                 494   \n",
       "3                   183                 479                 383   \n",
       "4                    87                 114                 227   \n",
       "\n",
       "   total male 30-39yr  total male 40-49yr  total male 50-59yr  \\\n",
       "0                 635                 457                 461   \n",
       "1                 606                 440                 445   \n",
       "2                 497                 432                 588   \n",
       "3                 609                 638                 665   \n",
       "4                 228                 152                 253   \n",
       "\n",
       "   total male 60-64yr  total male 65-69yr  total male 70yr+  \\\n",
       "0                 182                 134               233   \n",
       "1                 125                  46               163   \n",
       "2                 244                 153               242   \n",
       "3                 122                 115               289   \n",
       "4                  57                  60                68   \n",
       "\n",
       "   inflation_adj_median_house_value  increase_in_edu_attainment_2015  \\\n",
       "0                               NaN                            307.0   \n",
       "1                          537084.0                             32.0   \n",
       "2                               NaN                            -67.0   \n",
       "3                          387396.0                            275.0   \n",
       "4                               NaN                            499.0   \n",
       "\n",
       "   increase_in_house_value_2015                          def1  \n",
       "0                     -126384.0  NotEligibleForGentrification  \n",
       "1                      -44996.0                          None  \n",
       "2                      -37920.0     EligibleForGentrification  \n",
       "3                      -78068.0                          None  \n",
       "4                      -12992.0                HaveGentrified  \n",
       "\n",
       "[5 rows x 59 columns]"
      ]
     },
     "execution_count": 23,
     "metadata": {},
     "output_type": "execute_result"
    }
   ],
   "source": [
    "data.head()"
   ]
  },
  {
   "cell_type": "markdown",
   "metadata": {
    "deletable": true,
    "editable": true
   },
   "source": [
    "### Definition 2: Financial & Economics\n",
    "#### Currently gentrifying:\n",
    "* The block group’s income levels below 40% of the median, and experienced rent increases greater than the median neighborhood did.\n",
    "\n",
    "#### Have gentrified:\n",
    "* The block group’s share of neighborhoods in a metro area that moved from the bottom half to the top half in the distribution of home prices."
   ]
  },
  {
   "cell_type": "markdown",
   "metadata": {
    "deletable": true,
    "editable": true
   },
   "source": [
    "#### Calculations for Part1: Currently gentrifying"
   ]
  },
  {
   "cell_type": "code",
   "execution_count": 24,
   "metadata": {
    "collapsed": true,
    "deletable": true,
    "editable": true
   },
   "outputs": [],
   "source": [
    "median_income_40percent = np.percentile(median_income, 50)*0.4"
   ]
  },
  {
   "cell_type": "markdown",
   "metadata": {
    "deletable": true,
    "editable": true
   },
   "source": [
    "#### Rent increase is NOT AVAILABLE. The data has renter occupied units which is different from rent. We are using renter occupied variable in definition 3. Need to discuss this."
   ]
  },
  {
   "cell_type": "code",
   "execution_count": 25,
   "metadata": {
    "collapsed": true,
    "deletable": true,
    "editable": true
   },
   "outputs": [],
   "source": [
    "rent_increase = data['median gross rent']\n",
    "median_rent_increase = np.percentile(rent_increase, 50)"
   ]
  },
  {
   "cell_type": "markdown",
   "metadata": {
    "deletable": true,
    "editable": true
   },
   "source": [
    "#### Calculations for Part2: Have gentrified"
   ]
  },
  {
   "cell_type": "code",
   "execution_count": 26,
   "metadata": {
    "collapsed": false,
    "deletable": true,
    "editable": true
   },
   "outputs": [],
   "source": [
    "Data_for_2010 = np.where(data['year']== 2010)\n",
    "home_price_50th_percentile_2010 = np.percentile(Data_for_2010, 50)"
   ]
  },
  {
   "cell_type": "code",
   "execution_count": 27,
   "metadata": {
    "collapsed": false,
    "deletable": true,
    "editable": true
   },
   "outputs": [],
   "source": [
    "Data_for_2015 = np.where(data['year']== 2015)\n",
    "home_price_50th_percentile_2015 = np.percentile(Data_for_2015, 50)"
   ]
  },
  {
   "cell_type": "code",
   "execution_count": 28,
   "metadata": {
    "collapsed": false,
    "deletable": true,
    "editable": true
   },
   "outputs": [],
   "source": [
    "increase_in_home_price_distribution_2015 = []\n",
    "for s in tract_id:\n",
    "    i = np.where(data['Id'] == s)\n",
    "    if data['median house value'].iloc[i[0][0]] > home_price_50th_percentile_2015 and data['median house value'].iloc[i[0][1]] < home_price_50th_percentile_2010:\n",
    "        increase_in_home_price_distribution_2015.append('true')\n",
    "    else:\n",
    "        increase_in_home_price_distribution_2015.append('false') "
   ]
  },
  {
   "cell_type": "markdown",
   "metadata": {
    "deletable": true,
    "editable": true
   },
   "source": [
    "#### This doesnt look good, all values are FALSE. We might be interpreting this incorrectly. Need to discuss."
   ]
  },
  {
   "cell_type": "code",
   "execution_count": 29,
   "metadata": {
    "collapsed": true,
    "deletable": true,
    "editable": true
   },
   "outputs": [],
   "source": [
    "data['increase_in_home_price_distribution_2015'] = pd.Series(increase_in_home_price_distribution_2015)"
   ]
  },
  {
   "cell_type": "markdown",
   "metadata": {
    "deletable": true,
    "editable": true
   },
   "source": [
    "#### Labelling the tracts per definition 2"
   ]
  },
  {
   "cell_type": "code",
   "execution_count": 30,
   "metadata": {
    "collapsed": true,
    "deletable": true,
    "editable": true
   },
   "outputs": [],
   "source": [
    "def label_def2(row):\n",
    "   if row['year'] == 2010:\n",
    "      return 'None'\n",
    "   if row['year'] == 2015 and row['increase_in_home_price_distribution_2015'] == 'true': \n",
    "      return 'HaveGentrified'\n",
    "   if row['year'] == 2015 and row['median income'] < median_income_40percent and row['median gross rent'] < median_rent_increase:\n",
    "      return 'CurrentlyGentrifying'\n",
    "   else:\n",
    "      return 'NotCurrentlyGentrifying'"
   ]
  },
  {
   "cell_type": "code",
   "execution_count": 31,
   "metadata": {
    "collapsed": false,
    "deletable": true,
    "editable": true
   },
   "outputs": [],
   "source": [
    "data['def2'] = data.apply(label_def2, axis=1)"
   ]
  },
  {
   "cell_type": "code",
   "execution_count": 32,
   "metadata": {
    "collapsed": false,
    "deletable": true,
    "editable": true
   },
   "outputs": [
    {
     "data": {
      "text/html": [
       "<div>\n",
       "<table border=\"1\" class=\"dataframe\">\n",
       "  <thead>\n",
       "    <tr style=\"text-align: right;\">\n",
       "      <th></th>\n",
       "      <th>Id</th>\n",
       "      <th>Geography</th>\n",
       "      <th>neighborhood</th>\n",
       "      <th>city</th>\n",
       "      <th>year</th>\n",
       "      <th>total population</th>\n",
       "      <th>total households</th>\n",
       "      <th>median house value</th>\n",
       "      <th>percent public transportation</th>\n",
       "      <th>percent white not hispanic</th>\n",
       "      <th>median income</th>\n",
       "      <th>median family income</th>\n",
       "      <th>percent nonfamily household</th>\n",
       "      <th>median gross rent</th>\n",
       "      <th>median_contract_rent</th>\n",
       "      <th>percent renter-occupied housing units</th>\n",
       "      <th>monthly housing costs 30+ percent of renter householdhold income</th>\n",
       "      <th>rent 35-39.9 percent of household income</th>\n",
       "      <th>rent 40-49.9 percent of household income</th>\n",
       "      <th>rent 50 percent of household income</th>\n",
       "      <th>not computed rent as percent of household income</th>\n",
       "      <th>3-4 dwelling units</th>\n",
       "      <th>5+ dwelling units</th>\n",
       "      <th>3+ vehicles available</th>\n",
       "      <th>percent bachelors degree or higher</th>\n",
       "      <th>...</th>\n",
       "      <th>household income 125,000-149,999</th>\n",
       "      <th>household income 150,000-199,999</th>\n",
       "      <th>household income 200,000+</th>\n",
       "      <th>total count household income</th>\n",
       "      <th>total population 25yr+</th>\n",
       "      <th>total female 25-29yr</th>\n",
       "      <th>total female 30-39yr</th>\n",
       "      <th>total female 40-49yr</th>\n",
       "      <th>total female 50-59yr</th>\n",
       "      <th>total female 60-64yr</th>\n",
       "      <th>total female 65-69yr</th>\n",
       "      <th>total female 70yr+</th>\n",
       "      <th>total male 25-29yr</th>\n",
       "      <th>total male 30-39yr</th>\n",
       "      <th>total male 40-49yr</th>\n",
       "      <th>total male 50-59yr</th>\n",
       "      <th>total male 60-64yr</th>\n",
       "      <th>total male 65-69yr</th>\n",
       "      <th>total male 70yr+</th>\n",
       "      <th>inflation_adj_median_house_value</th>\n",
       "      <th>increase_in_edu_attainment_2015</th>\n",
       "      <th>increase_in_house_value_2015</th>\n",
       "      <th>def1</th>\n",
       "      <th>increase_in_home_price_distribution_2015</th>\n",
       "      <th>def2</th>\n",
       "    </tr>\n",
       "  </thead>\n",
       "  <tbody>\n",
       "    <tr>\n",
       "      <th>0</th>\n",
       "      <td>53033000100</td>\n",
       "      <td>Census Tract 1, King County, Washington</td>\n",
       "      <td>Victory Heights</td>\n",
       "      <td>Seattle</td>\n",
       "      <td>2015</td>\n",
       "      <td>6918</td>\n",
       "      <td>3400</td>\n",
       "      <td>410700</td>\n",
       "      <td>0.198666</td>\n",
       "      <td>0.576323</td>\n",
       "      <td>44951</td>\n",
       "      <td>79896</td>\n",
       "      <td>0.579706</td>\n",
       "      <td>981</td>\n",
       "      <td>892.0</td>\n",
       "      <td>0.682059</td>\n",
       "      <td>26.2</td>\n",
       "      <td>70</td>\n",
       "      <td>266</td>\n",
       "      <td>763</td>\n",
       "      <td>85</td>\n",
       "      <td>269</td>\n",
       "      <td>2170</td>\n",
       "      <td>405</td>\n",
       "      <td>45.0</td>\n",
       "      <td>...</td>\n",
       "      <td>122</td>\n",
       "      <td>213</td>\n",
       "      <td>208</td>\n",
       "      <td>3400</td>\n",
       "      <td>5010</td>\n",
       "      <td>421</td>\n",
       "      <td>555</td>\n",
       "      <td>442</td>\n",
       "      <td>349</td>\n",
       "      <td>318</td>\n",
       "      <td>198</td>\n",
       "      <td>301</td>\n",
       "      <td>324</td>\n",
       "      <td>635</td>\n",
       "      <td>457</td>\n",
       "      <td>461</td>\n",
       "      <td>182</td>\n",
       "      <td>134</td>\n",
       "      <td>233</td>\n",
       "      <td>NaN</td>\n",
       "      <td>307.0</td>\n",
       "      <td>-126384.0</td>\n",
       "      <td>NotEligibleForGentrification</td>\n",
       "      <td>false</td>\n",
       "      <td>NotCurrentlyGentrifying</td>\n",
       "    </tr>\n",
       "    <tr>\n",
       "      <th>1</th>\n",
       "      <td>53033000100</td>\n",
       "      <td>Census Tract 1, King County, Washington</td>\n",
       "      <td>Victory Heights</td>\n",
       "      <td>Seattle</td>\n",
       "      <td>2010</td>\n",
       "      <td>5784</td>\n",
       "      <td>3110</td>\n",
       "      <td>497300</td>\n",
       "      <td>0.216394</td>\n",
       "      <td>0.575726</td>\n",
       "      <td>47518</td>\n",
       "      <td>1274</td>\n",
       "      <td>0.590354</td>\n",
       "      <td>838</td>\n",
       "      <td>775.0</td>\n",
       "      <td>0.713183</td>\n",
       "      <td>625.0</td>\n",
       "      <td>132</td>\n",
       "      <td>134</td>\n",
       "      <td>473</td>\n",
       "      <td>60</td>\n",
       "      <td>111</td>\n",
       "      <td>1967</td>\n",
       "      <td>290</td>\n",
       "      <td>46.9</td>\n",
       "      <td>...</td>\n",
       "      <td>108</td>\n",
       "      <td>118</td>\n",
       "      <td>147</td>\n",
       "      <td>3110</td>\n",
       "      <td>4454</td>\n",
       "      <td>318</td>\n",
       "      <td>475</td>\n",
       "      <td>444</td>\n",
       "      <td>572</td>\n",
       "      <td>43</td>\n",
       "      <td>48</td>\n",
       "      <td>210</td>\n",
       "      <td>519</td>\n",
       "      <td>606</td>\n",
       "      <td>440</td>\n",
       "      <td>445</td>\n",
       "      <td>125</td>\n",
       "      <td>46</td>\n",
       "      <td>163</td>\n",
       "      <td>537084.0</td>\n",
       "      <td>32.0</td>\n",
       "      <td>-44996.0</td>\n",
       "      <td>None</td>\n",
       "      <td>false</td>\n",
       "      <td>None</td>\n",
       "    </tr>\n",
       "    <tr>\n",
       "      <th>2</th>\n",
       "      <td>53033000200</td>\n",
       "      <td>Census Tract 2, King County, Washington</td>\n",
       "      <td>Pinehurst</td>\n",
       "      <td>Seattle</td>\n",
       "      <td>2015</td>\n",
       "      <td>7974</td>\n",
       "      <td>3572</td>\n",
       "      <td>342400</td>\n",
       "      <td>0.174445</td>\n",
       "      <td>0.566842</td>\n",
       "      <td>56208</td>\n",
       "      <td>69870</td>\n",
       "      <td>0.422732</td>\n",
       "      <td>1128</td>\n",
       "      <td>993.0</td>\n",
       "      <td>0.463326</td>\n",
       "      <td>42.4</td>\n",
       "      <td>152</td>\n",
       "      <td>227</td>\n",
       "      <td>299</td>\n",
       "      <td>162</td>\n",
       "      <td>97</td>\n",
       "      <td>1456</td>\n",
       "      <td>383</td>\n",
       "      <td>52.7</td>\n",
       "      <td>...</td>\n",
       "      <td>164</td>\n",
       "      <td>261</td>\n",
       "      <td>88</td>\n",
       "      <td>3572</td>\n",
       "      <td>5880</td>\n",
       "      <td>424</td>\n",
       "      <td>511</td>\n",
       "      <td>520</td>\n",
       "      <td>563</td>\n",
       "      <td>395</td>\n",
       "      <td>262</td>\n",
       "      <td>555</td>\n",
       "      <td>494</td>\n",
       "      <td>497</td>\n",
       "      <td>432</td>\n",
       "      <td>588</td>\n",
       "      <td>244</td>\n",
       "      <td>153</td>\n",
       "      <td>242</td>\n",
       "      <td>NaN</td>\n",
       "      <td>-67.0</td>\n",
       "      <td>-37920.0</td>\n",
       "      <td>EligibleForGentrification</td>\n",
       "      <td>false</td>\n",
       "      <td>NotCurrentlyGentrifying</td>\n",
       "    </tr>\n",
       "    <tr>\n",
       "      <th>3</th>\n",
       "      <td>53033000200</td>\n",
       "      <td>Census Tract 2, King County, Washington</td>\n",
       "      <td>Pinehurst</td>\n",
       "      <td>Seattle</td>\n",
       "      <td>2010</td>\n",
       "      <td>7682</td>\n",
       "      <td>3633</td>\n",
       "      <td>358700</td>\n",
       "      <td>0.152393</td>\n",
       "      <td>0.700729</td>\n",
       "      <td>54797</td>\n",
       "      <td>1899</td>\n",
       "      <td>0.477291</td>\n",
       "      <td>906</td>\n",
       "      <td>828.0</td>\n",
       "      <td>0.444536</td>\n",
       "      <td>554.0</td>\n",
       "      <td>156</td>\n",
       "      <td>73</td>\n",
       "      <td>339</td>\n",
       "      <td>266</td>\n",
       "      <td>160</td>\n",
       "      <td>1433</td>\n",
       "      <td>398</td>\n",
       "      <td>49.3</td>\n",
       "      <td>...</td>\n",
       "      <td>217</td>\n",
       "      <td>85</td>\n",
       "      <td>79</td>\n",
       "      <td>3633</td>\n",
       "      <td>5782</td>\n",
       "      <td>362</td>\n",
       "      <td>513</td>\n",
       "      <td>567</td>\n",
       "      <td>632</td>\n",
       "      <td>225</td>\n",
       "      <td>183</td>\n",
       "      <td>479</td>\n",
       "      <td>383</td>\n",
       "      <td>609</td>\n",
       "      <td>638</td>\n",
       "      <td>665</td>\n",
       "      <td>122</td>\n",
       "      <td>115</td>\n",
       "      <td>289</td>\n",
       "      <td>387396.0</td>\n",
       "      <td>275.0</td>\n",
       "      <td>-78068.0</td>\n",
       "      <td>None</td>\n",
       "      <td>false</td>\n",
       "      <td>None</td>\n",
       "    </tr>\n",
       "    <tr>\n",
       "      <th>4</th>\n",
       "      <td>53033000300</td>\n",
       "      <td>Census Tract 3, King County, Washington</td>\n",
       "      <td>Pinehurst</td>\n",
       "      <td>Seattle</td>\n",
       "      <td>2015</td>\n",
       "      <td>2637</td>\n",
       "      <td>1087</td>\n",
       "      <td>336300</td>\n",
       "      <td>0.220242</td>\n",
       "      <td>0.712931</td>\n",
       "      <td>64297</td>\n",
       "      <td>87604</td>\n",
       "      <td>0.447102</td>\n",
       "      <td>1225</td>\n",
       "      <td>1028.0</td>\n",
       "      <td>0.440662</td>\n",
       "      <td>37.0</td>\n",
       "      <td>17</td>\n",
       "      <td>77</td>\n",
       "      <td>119</td>\n",
       "      <td>22</td>\n",
       "      <td>27</td>\n",
       "      <td>174</td>\n",
       "      <td>143</td>\n",
       "      <td>33.1</td>\n",
       "      <td>...</td>\n",
       "      <td>67</td>\n",
       "      <td>106</td>\n",
       "      <td>75</td>\n",
       "      <td>1087</td>\n",
       "      <td>1916</td>\n",
       "      <td>54</td>\n",
       "      <td>195</td>\n",
       "      <td>185</td>\n",
       "      <td>155</td>\n",
       "      <td>81</td>\n",
       "      <td>87</td>\n",
       "      <td>114</td>\n",
       "      <td>227</td>\n",
       "      <td>228</td>\n",
       "      <td>152</td>\n",
       "      <td>253</td>\n",
       "      <td>57</td>\n",
       "      <td>60</td>\n",
       "      <td>68</td>\n",
       "      <td>NaN</td>\n",
       "      <td>499.0</td>\n",
       "      <td>-12992.0</td>\n",
       "      <td>HaveGentrified</td>\n",
       "      <td>false</td>\n",
       "      <td>NotCurrentlyGentrifying</td>\n",
       "    </tr>\n",
       "  </tbody>\n",
       "</table>\n",
       "<p>5 rows × 61 columns</p>\n",
       "</div>"
      ],
      "text/plain": [
       "            Id                                Geography     neighborhood  \\\n",
       "0  53033000100  Census Tract 1, King County, Washington  Victory Heights   \n",
       "1  53033000100  Census Tract 1, King County, Washington  Victory Heights   \n",
       "2  53033000200  Census Tract 2, King County, Washington        Pinehurst   \n",
       "3  53033000200  Census Tract 2, King County, Washington        Pinehurst   \n",
       "4  53033000300  Census Tract 3, King County, Washington        Pinehurst   \n",
       "\n",
       "      city  year  total population  total households  median house value  \\\n",
       "0  Seattle  2015              6918              3400              410700   \n",
       "1  Seattle  2010              5784              3110              497300   \n",
       "2  Seattle  2015              7974              3572              342400   \n",
       "3  Seattle  2010              7682              3633              358700   \n",
       "4  Seattle  2015              2637              1087              336300   \n",
       "\n",
       "   percent public transportation  percent white not hispanic  median income  \\\n",
       "0                       0.198666                    0.576323          44951   \n",
       "1                       0.216394                    0.575726          47518   \n",
       "2                       0.174445                    0.566842          56208   \n",
       "3                       0.152393                    0.700729          54797   \n",
       "4                       0.220242                    0.712931          64297   \n",
       "\n",
       "   median family income  percent nonfamily household  median gross rent  \\\n",
       "0                 79896                     0.579706                981   \n",
       "1                  1274                     0.590354                838   \n",
       "2                 69870                     0.422732               1128   \n",
       "3                  1899                     0.477291                906   \n",
       "4                 87604                     0.447102               1225   \n",
       "\n",
       "   median_contract_rent  percent renter-occupied housing units  \\\n",
       "0                 892.0                               0.682059   \n",
       "1                 775.0                               0.713183   \n",
       "2                 993.0                               0.463326   \n",
       "3                 828.0                               0.444536   \n",
       "4                1028.0                               0.440662   \n",
       "\n",
       "   monthly housing costs 30+ percent of renter householdhold income  \\\n",
       "0                                               26.2                  \n",
       "1                                              625.0                  \n",
       "2                                               42.4                  \n",
       "3                                              554.0                  \n",
       "4                                               37.0                  \n",
       "\n",
       "   rent 35-39.9 percent of household income  \\\n",
       "0                                        70   \n",
       "1                                       132   \n",
       "2                                       152   \n",
       "3                                       156   \n",
       "4                                        17   \n",
       "\n",
       "   rent 40-49.9 percent of household income  \\\n",
       "0                                       266   \n",
       "1                                       134   \n",
       "2                                       227   \n",
       "3                                        73   \n",
       "4                                        77   \n",
       "\n",
       "   rent 50 percent of household income  \\\n",
       "0                                  763   \n",
       "1                                  473   \n",
       "2                                  299   \n",
       "3                                  339   \n",
       "4                                  119   \n",
       "\n",
       "   not computed rent as percent of household income  3-4 dwelling units  \\\n",
       "0                                                85                 269   \n",
       "1                                                60                 111   \n",
       "2                                               162                  97   \n",
       "3                                               266                 160   \n",
       "4                                                22                  27   \n",
       "\n",
       "   5+ dwelling units  3+ vehicles available  \\\n",
       "0               2170                    405   \n",
       "1               1967                    290   \n",
       "2               1456                    383   \n",
       "3               1433                    398   \n",
       "4                174                    143   \n",
       "\n",
       "   percent bachelors degree or higher           ...             \\\n",
       "0                                45.0           ...              \n",
       "1                                46.9           ...              \n",
       "2                                52.7           ...              \n",
       "3                                49.3           ...              \n",
       "4                                33.1           ...              \n",
       "\n",
       "   household income 125,000-149,999  household income 150,000-199,999  \\\n",
       "0                               122                               213   \n",
       "1                               108                               118   \n",
       "2                               164                               261   \n",
       "3                               217                                85   \n",
       "4                                67                               106   \n",
       "\n",
       "   household income 200,000+  total count household income  \\\n",
       "0                        208                          3400   \n",
       "1                        147                          3110   \n",
       "2                         88                          3572   \n",
       "3                         79                          3633   \n",
       "4                         75                          1087   \n",
       "\n",
       "   total population 25yr+  total female 25-29yr  total female 30-39yr  \\\n",
       "0                    5010                   421                   555   \n",
       "1                    4454                   318                   475   \n",
       "2                    5880                   424                   511   \n",
       "3                    5782                   362                   513   \n",
       "4                    1916                    54                   195   \n",
       "\n",
       "   total female 40-49yr  total female 50-59yr  total female 60-64yr  \\\n",
       "0                   442                   349                   318   \n",
       "1                   444                   572                    43   \n",
       "2                   520                   563                   395   \n",
       "3                   567                   632                   225   \n",
       "4                   185                   155                    81   \n",
       "\n",
       "   total female 65-69yr  total female 70yr+  total male 25-29yr  \\\n",
       "0                   198                 301                 324   \n",
       "1                    48                 210                 519   \n",
       "2                   262                 555                 494   \n",
       "3                   183                 479                 383   \n",
       "4                    87                 114                 227   \n",
       "\n",
       "   total male 30-39yr  total male 40-49yr  total male 50-59yr  \\\n",
       "0                 635                 457                 461   \n",
       "1                 606                 440                 445   \n",
       "2                 497                 432                 588   \n",
       "3                 609                 638                 665   \n",
       "4                 228                 152                 253   \n",
       "\n",
       "   total male 60-64yr  total male 65-69yr  total male 70yr+  \\\n",
       "0                 182                 134               233   \n",
       "1                 125                  46               163   \n",
       "2                 244                 153               242   \n",
       "3                 122                 115               289   \n",
       "4                  57                  60                68   \n",
       "\n",
       "   inflation_adj_median_house_value  increase_in_edu_attainment_2015  \\\n",
       "0                               NaN                            307.0   \n",
       "1                          537084.0                             32.0   \n",
       "2                               NaN                            -67.0   \n",
       "3                          387396.0                            275.0   \n",
       "4                               NaN                            499.0   \n",
       "\n",
       "   increase_in_house_value_2015                          def1  \\\n",
       "0                     -126384.0  NotEligibleForGentrification   \n",
       "1                      -44996.0                          None   \n",
       "2                      -37920.0     EligibleForGentrification   \n",
       "3                      -78068.0                          None   \n",
       "4                      -12992.0                HaveGentrified   \n",
       "\n",
       "   increase_in_home_price_distribution_2015                     def2  \n",
       "0                                     false  NotCurrentlyGentrifying  \n",
       "1                                     false                     None  \n",
       "2                                     false  NotCurrentlyGentrifying  \n",
       "3                                     false                     None  \n",
       "4                                     false  NotCurrentlyGentrifying  \n",
       "\n",
       "[5 rows x 61 columns]"
      ]
     },
     "execution_count": 32,
     "metadata": {},
     "output_type": "execute_result"
    }
   ],
   "source": [
    "data.head()"
   ]
  },
  {
   "cell_type": "markdown",
   "metadata": {
    "collapsed": true,
    "deletable": true,
    "editable": true
   },
   "source": [
    "### Definition 3: Urban Planning\n",
    "#### In danger of gentrifying:\n",
    "* The block group’s % of workers taking transit increased\n",
    "* The block group’s youth facilities per 1000 residents increased\n",
    "* The block group’s public space per 1000 residents increased\n",
    "* The block group’s % non-family households increased\n",
    "* The block group’s % dwelling units in building with 5+ units increased\n",
    "* The block group’s % dwelling units in building with 3-4 units increased\n",
    "* The block group’s % renter-occupied increased\n",
    "* The block group’s income diversity increased\n",
    "* The block group’s % of renters paying >35% of income increased\n",
    "* The block group’s % of dwelling units with three or more cars available decreased\n",
    "* The block group’s recreational facilities per 1000 residents decreased\n",
    "* The block group’s % married couples with children decreased\n",
    "* The block group’s % non-hispanic white decreased"
   ]
  },
  {
   "cell_type": "markdown",
   "metadata": {
    "deletable": true,
    "editable": true
   },
   "source": [
    "#### Calculations for Part1: In danger of gentrifying"
   ]
  },
  {
   "cell_type": "code",
   "execution_count": 33,
   "metadata": {
    "collapsed": false,
    "deletable": true,
    "editable": true
   },
   "outputs": [],
   "source": [
    "data['percent public transportation'] = data['percent public transportation']*100\n",
    "\n",
    "increase_in_workers_taking_transit_2015 = []\n",
    "\n",
    "for s in tract_id:\n",
    "    i = np.where(data['Id'] == s)\n",
    "    if data['percent public transportation'].iloc[i[0][0]] > data['percent public transportation'].iloc[i[0][1]]:\n",
    "        increase_in_workers_taking_transit_2015.append('true')\n",
    "    else:\n",
    "        increase_in_workers_taking_transit_2015.append('false') \n",
    "        \n",
    "data['increase_in_workers_taking_transit_2015'] = pd.Series(increase_in_workers_taking_transit_2015)        "
   ]
  },
  {
   "cell_type": "code",
   "execution_count": 34,
   "metadata": {
    "collapsed": true,
    "deletable": true,
    "editable": true
   },
   "outputs": [],
   "source": [
    "data['percent nonfamily household'] = data['percent nonfamily household']*100\n",
    "\n",
    "increase_in_non_family_households_2015 = []\n",
    "\n",
    "for s in tract_id:\n",
    "    i = np.where(data['Id'] == s)\n",
    "    if data['percent nonfamily household'].iloc[i[0][0]] > data['percent nonfamily household'].iloc[i[0][1]]:\n",
    "        increase_in_non_family_households_2015.append('true')\n",
    "    else:\n",
    "        increase_in_non_family_households_2015.append('false') \n",
    "        \n",
    "data['increase_in_non_family_households_2015'] = pd.Series(increase_in_non_family_households_2015)      "
   ]
  },
  {
   "cell_type": "code",
   "execution_count": 35,
   "metadata": {
    "collapsed": true,
    "deletable": true,
    "editable": true
   },
   "outputs": [],
   "source": [
    "increase_in_dwelling_units_5_or_more_2015 = []\n",
    "\n",
    "for s in tract_id:\n",
    "    i = np.where(data['Id'] == s)\n",
    "    if data['5+ dwelling units'].iloc[i[0][0]] > data['5+ dwelling units'].iloc[i[0][1]]:\n",
    "        increase_in_dwelling_units_5_or_more_2015.append('true')\n",
    "    else:\n",
    "        increase_in_dwelling_units_5_or_more_2015.append('false') \n",
    "        \n",
    "data['increase_in_dwelling_units_5_or_more_2015'] = pd.Series(increase_in_dwelling_units_5_or_more_2015)      "
   ]
  },
  {
   "cell_type": "code",
   "execution_count": 36,
   "metadata": {
    "collapsed": true,
    "deletable": true,
    "editable": true
   },
   "outputs": [],
   "source": [
    "increase_in_dwelling_units_3_or_4_2015 = []\n",
    "\n",
    "for s in tract_id:\n",
    "    i = np.where(data['Id'] == s)\n",
    "    if data['3-4 dwelling units'].iloc[i[0][0]] > data['3-4 dwelling units'].iloc[i[0][1]]:\n",
    "        increase_in_dwelling_units_3_or_4_2015.append('true')\n",
    "    else:\n",
    "        increase_in_dwelling_units_3_or_4_2015.append('false') \n",
    "        \n",
    "data['increase_in_dwelling_units_3_or_4_2015'] = pd.Series(increase_in_dwelling_units_3_or_4_2015)   "
   ]
  },
  {
   "cell_type": "code",
   "execution_count": 37,
   "metadata": {
    "collapsed": true,
    "deletable": true,
    "editable": true
   },
   "outputs": [],
   "source": [
    "data['percent renter-occupied housing units'] = data['percent renter-occupied housing units']*100\n",
    "\n",
    "increase_in_renter_occupied_housing_units_2015 = []\n",
    "\n",
    "for s in tract_id:\n",
    "    i = np.where(data['Id'] == s)\n",
    "    if data['percent renter-occupied housing units'].iloc[i[0][0]] > data['percent renter-occupied housing units'].iloc[i[0][1]]:\n",
    "        increase_in_renter_occupied_housing_units_2015.append('true')\n",
    "    else:\n",
    "        increase_in_renter_occupied_housing_units_2015.append('false') \n",
    "        \n",
    "data['increase_in_renter_occupied_housing_units_2015'] = pd.Series(increase_in_renter_occupied_housing_units_2015)        "
   ]
  },
  {
   "cell_type": "code",
   "execution_count": 38,
   "metadata": {
    "collapsed": true,
    "deletable": true,
    "editable": true
   },
   "outputs": [],
   "source": [
    "decrease_in_vehicles_3_or_more = []\n",
    "\n",
    "for s in tract_id:\n",
    "    i = np.where(data['Id'] == s)\n",
    "    if data['3+ vehicles available'].iloc[i[0][0]] < data['3+ vehicles available'].iloc[i[0][1]]:\n",
    "        decrease_in_vehicles_3_or_more.append('true')\n",
    "    else:\n",
    "        decrease_in_vehicles_3_or_more.append('false') \n",
    "        \n",
    "data['decrease_in_vehicles_3_or_more'] = pd.Series(decrease_in_vehicles_3_or_more) "
   ]
  },
  {
   "cell_type": "code",
   "execution_count": null,
   "metadata": {
    "collapsed": true,
    "deletable": true,
    "editable": true
   },
   "outputs": [],
   "source": []
  },
  {
   "cell_type": "markdown",
   "metadata": {
    "deletable": true,
    "editable": true
   },
   "source": [
    "#### Labelling the tracts per definition 3"
   ]
  },
  {
   "cell_type": "markdown",
   "metadata": {
    "deletable": true,
    "editable": true
   },
   "source": [
    "#### Are the below conditions a part of 'and' or 'or'? Need to discuss"
   ]
  },
  {
   "cell_type": "code",
   "execution_count": 44,
   "metadata": {
    "collapsed": true,
    "deletable": true,
    "editable": true
   },
   "outputs": [],
   "source": [
    "def label_def3(row):\n",
    "   if row['year'] == 2010:\n",
    "      return 'None'\n",
    "   if row['year'] == 2015 and (row['increase_in_workers_taking_transit_2015'] == 'true'and row['increase_in_non_family_households_2015'] == 'true' and row['increase_in_dwelling_units_5_or_more_2015'] == 'true' and row['increase_in_dwelling_units_3_or_4_2015'] == 'true'and row['increase_in_renter_occupied_housing_units_2015'] == 'true' and row['decrease_in_vehicles_3_or_more'] == 'true'):\n",
    "      return 'InDangerOfGentrifying'\n",
    "   else:\n",
    "      return 'NotInDangerOfGentrifying'"
   ]
  },
  {
   "cell_type": "code",
   "execution_count": 45,
   "metadata": {
    "collapsed": false,
    "deletable": true,
    "editable": true
   },
   "outputs": [],
   "source": [
    "data['def3'] = data.apply(label_def3, axis=1)"
   ]
  },
  {
   "cell_type": "code",
   "execution_count": null,
   "metadata": {
    "collapsed": true,
    "deletable": true,
    "editable": true
   },
   "outputs": [],
   "source": []
  },
  {
   "cell_type": "markdown",
   "metadata": {
    "deletable": true,
    "editable": true
   },
   "source": [
    "### Output data to csv file"
   ]
  },
  {
   "cell_type": "code",
   "execution_count": 46,
   "metadata": {
    "collapsed": false,
    "deletable": true,
    "editable": true
   },
   "outputs": [],
   "source": [
    "# index=False doesn't add an extra column in the CSV file with the index\n",
    "data.to_csv('../Data/ACS_data_with_labels_Feb4.csv', encoding='utf-8', index=False)"
   ]
  },
  {
   "cell_type": "code",
   "execution_count": null,
   "metadata": {
    "collapsed": true,
    "deletable": true,
    "editable": true
   },
   "outputs": [],
   "source": []
  }
 ],
 "metadata": {
  "kernelspec": {
   "display_name": "Python 3",
   "language": "python",
   "name": "python3"
  },
  "language_info": {
   "codemirror_mode": {
    "name": "ipython",
    "version": 3
   },
   "file_extension": ".py",
   "mimetype": "text/x-python",
   "name": "python",
   "nbconvert_exporter": "python",
   "pygments_lexer": "ipython3",
   "version": "3.6.0"
  }
 },
 "nbformat": 4,
 "nbformat_minor": 2
}
