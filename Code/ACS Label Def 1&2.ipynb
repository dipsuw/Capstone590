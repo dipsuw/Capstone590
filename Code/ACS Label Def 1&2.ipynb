{
 "cells": [
  {
   "cell_type": "code",
   "execution_count": 1,
   "metadata": {
    "collapsed": true,
    "deletable": true,
    "editable": true
   },
   "outputs": [],
   "source": [
    "#Import Libraries\n",
    "import pandas as pd\n",
    "import numpy as np\n",
    "import matplotlib.pyplot as plt\n",
    "%matplotlib inline  "
   ]
  },
  {
   "cell_type": "code",
   "execution_count": 6,
   "metadata": {
    "collapsed": true,
    "deletable": true,
    "editable": true
   },
   "outputs": [],
   "source": [
    "#Read Data\n",
    "data = pd.read_csv('acs_data_new.csv', header=0)"
   ]
  },
  {
   "cell_type": "code",
   "execution_count": 7,
   "metadata": {
    "collapsed": true,
    "deletable": true,
    "editable": true
   },
   "outputs": [],
   "source": [
    "#data_sea = data[data.city == 'Seattle']\n",
    "#data = data_sea"
   ]
  },
  {
   "cell_type": "code",
   "execution_count": 10,
   "metadata": {
    "collapsed": false,
    "deletable": true,
    "editable": true
   },
   "outputs": [
    {
     "data": {
      "text/plain": [
       "(array([  2.,   1.,  31.,  86.,  70.,  43.,  16.,   7.,   5.,   3.]),\n",
       " array([       0.,   105070.,   210140.,   315210.,   420280.,   525350.,\n",
       "          630420.,   735490.,   840560.,   945630.,  1050700.]),\n",
       " <a list of 10 Patch objects>)"
      ]
     },
     "execution_count": 10,
     "metadata": {},
     "output_type": "execute_result"
    },
    {
     "data": {
      "image/png": "[encoded data removed]",
      "text/plain": [
       "<matplotlib.figure.Figure at 0x1cf0dec62b0>"
      ]
     },
     "metadata": {},
     "output_type": "display_data"
    }
   ],
   "source": [
    "plt.hist(data['median house value'])"
   ]
  },
  {
   "cell_type": "markdown",
   "metadata": {
    "deletable": true,
    "editable": true
   },
   "source": [
    "### Definition 1: Sociology \n",
    "#### Eligible for Gentrification:\n",
    "* The block group’s median household income was in the bottom 40th percentile when compared to all block groups in Seattle at the beginning of the time span.\n",
    "* The block group’s median house value was in the bottom 40th percentile when compared to all block groups in Seattle at the beginning of the time span.\n",
    "\n",
    "#### Have gentrified:\n",
    "* An increase in a block group’s educational attainment, as measured by the percentage of residents age 25 and over holding bachelor’s degrees, was in the top third percentile of all block groups in Seattle.\n",
    "* An increase in a block group’s median house value, as measured by inflation-adjusted median house value, was in the top third percentile of all block groups in Seattle.\n"
   ]
  },
  {
   "cell_type": "markdown",
   "metadata": {
    "deletable": true,
    "editable": true
   },
   "source": [
    "#### Calculations for Part1: Eligible for gentrification"
   ]
  },
  {
   "cell_type": "code",
   "execution_count": 13,
   "metadata": {
    "collapsed": true,
    "deletable": true,
    "editable": true
   },
   "outputs": [],
   "source": [
    "# get the columns in variable names\n",
    "median_income =np.array(data.loc[data['year'] == 2015, 'median income']. astype(int))\n",
    "median_housevalue =np.array(data.loc[data['year'] == 2015, 'median house value']. astype(int))"
   ]
  },
  {
   "cell_type": "code",
   "execution_count": 14,
   "metadata": {
    "collapsed": true,
    "deletable": true,
    "editable": true
   },
   "outputs": [],
   "source": [
    "# find percentiles for median income, house value and bachelor degree holders\n",
    "income_40th_perc = np.percentile(median_income, 40)\n",
    "houseval_40th_perc = np.percentile(median_housevalue, 40)"
   ]
  },
  {
   "cell_type": "markdown",
   "metadata": {
    "deletable": true,
    "editable": true
   },
   "source": [
    "#### Calculations for Part2: Have gentrified"
   ]
  },
  {
   "cell_type": "code",
   "execution_count": 18,
   "metadata": {
    "collapsed": true,
    "deletable": true,
    "editable": true
   },
   "outputs": [],
   "source": [
    "def add_col_for_inflation_adjusted_house_price_2010(row):\n",
    "    if row['year'] == 2010:\n",
    "        return row['median house value']*1.08"
   ]
  },
  {
   "cell_type": "code",
   "execution_count": 32,
   "metadata": {
    "collapsed": true,
    "deletable": true,
    "editable": true
   },
   "outputs": [],
   "source": [
    "data['inflation_adj_median_house_value'] = data['median house value']*1.08"
   ]
  },
  {
   "cell_type": "code",
   "execution_count": 34,
   "metadata": {
    "collapsed": true,
    "deletable": true,
    "editable": true
   },
   "outputs": [],
   "source": [
    "# get unique tract ids to iterate thru all records of 2015 and 2010\n",
    "tract_id = data.Id.unique()"
   ]
  },
  {
   "cell_type": "code",
   "execution_count": 35,
   "metadata": {
    "collapsed": true,
    "deletable": true,
    "editable": true
   },
   "outputs": [],
   "source": [
    "Data_for_2015 = np.where(data['year']== 2015)\n",
    "Data_for_2010 = np.where(data['year']== 2010)\n"
   ]
  },
  {
   "cell_type": "code",
   "execution_count": 36,
   "metadata": {
    "collapsed": true,
    "deletable": true,
    "editable": true
   },
   "outputs": [],
   "source": [
    "increase_in_edu_attainment_2015 = []\n",
    "for s in tract_id:\n",
    "    i = np.where(data['Id'] == s) # gives two indexes for each tract id(one for 2015 and another for 2010)\n",
    "    # to find the percentage increase subtract the bachelors degree % for 2010 from bachelors degree % of 2015\n",
    "    perc_increase = data['percent bachelors degree or higher'].iloc[i[0][0]] - data['percent bachelors degree or higher'].iloc[i[0][1]]\n",
    "    increase_in_edu_attainment_2015.append(perc_increase)"
   ]
  },
  {
   "cell_type": "code",
   "execution_count": 37,
   "metadata": {
    "collapsed": true,
    "deletable": true,
    "editable": true
   },
   "outputs": [],
   "source": [
    "increase_in_house_value_2015 = []\n",
    "for s in tract_id:\n",
    "    i = np.where(data['Id'] == s)\n",
    "    perc_increase = data['inflation_adj_median_house_value'].iloc[i[0][0]] - data['inflation_adj_median_house_value'].iloc[i[0][1]]\n",
    "    increase_in_house_value_2015.append(perc_increase)"
   ]
  },
  {
   "cell_type": "code",
   "execution_count": 38,
   "metadata": {
    "collapsed": true,
    "deletable": true,
    "editable": true
   },
   "outputs": [],
   "source": [
    "data['increase_in_edu_attainment_2015'] = pd.Series(increase_in_edu_attainment_2015)\n",
    "data['increase_in_house_value_2015'] = pd.Series(increase_in_house_value_2015)"
   ]
  },
  {
   "cell_type": "code",
   "execution_count": 39,
   "metadata": {
    "collapsed": true,
    "deletable": true,
    "editable": true
   },
   "outputs": [],
   "source": [
    "increase_bachelor_degree_top3rd_percentile = np.percentile(increase_in_edu_attainment_2015, 66)\n",
    "increase_house_value_top3rd_percentile = np.percentile(increase_in_house_value_2015, 66)"
   ]
  },
  {
   "cell_type": "code",
   "execution_count": 40,
   "metadata": {
    "collapsed": false,
    "deletable": true,
    "editable": true
   },
   "outputs": [
    {
     "data": {
      "text/plain": [
       "13281.840000000011"
      ]
     },
     "execution_count": 40,
     "metadata": {},
     "output_type": "execute_result"
    }
   ],
   "source": [
    "increase_house_value_top3rd_percentile"
   ]
  },
  {
   "cell_type": "markdown",
   "metadata": {
    "deletable": true,
    "editable": true
   },
   "source": [
    "#### Labelling the tracts per definition 1"
   ]
  },
  {
   "cell_type": "code",
   "execution_count": 41,
   "metadata": {
    "collapsed": true,
    "deletable": true,
    "editable": true
   },
   "outputs": [],
   "source": [
    "def label_def1(row):\n",
    "   if row['year'] == 2010:\n",
    "      return 'None'\n",
    "   if row['year'] == 2015 and row['median income'] < income_40th_perc and row['median house value'] < houseval_40th_perc:\n",
    "      return 'EligibleForGentrification'\n",
    "   if row['year'] == 2015 and row['increase_in_edu_attainment_2015'] > increase_bachelor_degree_top3rd_percentile and row['increase_in_house_value_2015'] > increase_house_value_top3rd_percentile:\n",
    "      return 'HaveGentrified'\n",
    "   else:\n",
    "      return 'NotEligibleForGentrification'"
   ]
  },
  {
   "cell_type": "code",
   "execution_count": 42,
   "metadata": {
    "collapsed": true,
    "deletable": true,
    "editable": true
   },
   "outputs": [],
   "source": [
    "data['def_1'] = data.apply(label_def1, axis=1)"
   ]
  },
  {
   "cell_type": "code",
   "execution_count": 43,
   "metadata": {
    "collapsed": false,
    "deletable": true,
    "editable": true
   },
   "outputs": [
    {
     "data": {
      "text/html": [
       "<div>\n",
       "<style>\n",
       "    .dataframe thead tr:only-child th {\n",
       "        text-align: right;\n",
       "    }\n",
       "\n",
       "    .dataframe thead th {\n",
       "        text-align: left;\n",
       "    }\n",
       "\n",
       "    .dataframe tbody tr th {\n",
       "        vertical-align: top;\n",
       "    }\n",
       "</style>\n",
       "<table border=\"1\" class=\"dataframe\">\n",
       "  <thead>\n",
       "    <tr style=\"text-align: right;\">\n",
       "      <th></th>\n",
       "      <th>Id</th>\n",
       "      <th>Geography</th>\n",
       "      <th>neighborhood</th>\n",
       "      <th>city</th>\n",
       "      <th>year</th>\n",
       "      <th>total population</th>\n",
       "      <th>total households</th>\n",
       "      <th>median house value</th>\n",
       "      <th>percent public transportation</th>\n",
       "      <th>percent white not hispanic</th>\n",
       "      <th>...</th>\n",
       "      <th>total male 30-39yr</th>\n",
       "      <th>total male 40-49yr</th>\n",
       "      <th>total male 50-59yr</th>\n",
       "      <th>total male 60-64yr</th>\n",
       "      <th>total male 65-69yr</th>\n",
       "      <th>total male 70yr+</th>\n",
       "      <th>inflation_adj_median_house_value</th>\n",
       "      <th>increase_in_edu_attainment_2015</th>\n",
       "      <th>increase_in_house_value_2015</th>\n",
       "      <th>def_1</th>\n",
       "    </tr>\n",
       "  </thead>\n",
       "  <tbody>\n",
       "    <tr>\n",
       "      <th>0</th>\n",
       "      <td>53033000100</td>\n",
       "      <td>Census Tract 1, King County, Washington</td>\n",
       "      <td>Victory Heights</td>\n",
       "      <td>Seattle</td>\n",
       "      <td>2015</td>\n",
       "      <td>6918</td>\n",
       "      <td>3400</td>\n",
       "      <td>410700</td>\n",
       "      <td>0.198666</td>\n",
       "      <td>0.576323</td>\n",
       "      <td>...</td>\n",
       "      <td>635</td>\n",
       "      <td>457</td>\n",
       "      <td>461</td>\n",
       "      <td>182</td>\n",
       "      <td>134</td>\n",
       "      <td>233</td>\n",
       "      <td>443556.0</td>\n",
       "      <td>-1.9</td>\n",
       "      <td>-93528.0</td>\n",
       "      <td>NotEligibleForGentrification</td>\n",
       "    </tr>\n",
       "    <tr>\n",
       "      <th>1</th>\n",
       "      <td>53033000100</td>\n",
       "      <td>Census Tract 1, King County, Washington</td>\n",
       "      <td>Victory Heights</td>\n",
       "      <td>Seattle</td>\n",
       "      <td>2010</td>\n",
       "      <td>5784</td>\n",
       "      <td>3110</td>\n",
       "      <td>497300</td>\n",
       "      <td>0.216394</td>\n",
       "      <td>0.575726</td>\n",
       "      <td>...</td>\n",
       "      <td>606</td>\n",
       "      <td>440</td>\n",
       "      <td>445</td>\n",
       "      <td>125</td>\n",
       "      <td>46</td>\n",
       "      <td>163</td>\n",
       "      <td>537084.0</td>\n",
       "      <td>3.4</td>\n",
       "      <td>-17604.0</td>\n",
       "      <td>None</td>\n",
       "    </tr>\n",
       "    <tr>\n",
       "      <th>2</th>\n",
       "      <td>53033000200</td>\n",
       "      <td>Census Tract 2, King County, Washington</td>\n",
       "      <td>Pinehurst</td>\n",
       "      <td>Seattle</td>\n",
       "      <td>2015</td>\n",
       "      <td>7974</td>\n",
       "      <td>3572</td>\n",
       "      <td>342400</td>\n",
       "      <td>0.174445</td>\n",
       "      <td>0.566842</td>\n",
       "      <td>...</td>\n",
       "      <td>497</td>\n",
       "      <td>432</td>\n",
       "      <td>588</td>\n",
       "      <td>244</td>\n",
       "      <td>153</td>\n",
       "      <td>242</td>\n",
       "      <td>369792.0</td>\n",
       "      <td>-4.9</td>\n",
       "      <td>-11016.0</td>\n",
       "      <td>EligibleForGentrification</td>\n",
       "    </tr>\n",
       "    <tr>\n",
       "      <th>3</th>\n",
       "      <td>53033000200</td>\n",
       "      <td>Census Tract 2, King County, Washington</td>\n",
       "      <td>Pinehurst</td>\n",
       "      <td>Seattle</td>\n",
       "      <td>2010</td>\n",
       "      <td>7682</td>\n",
       "      <td>3633</td>\n",
       "      <td>358700</td>\n",
       "      <td>0.152393</td>\n",
       "      <td>0.700729</td>\n",
       "      <td>...</td>\n",
       "      <td>609</td>\n",
       "      <td>638</td>\n",
       "      <td>665</td>\n",
       "      <td>122</td>\n",
       "      <td>115</td>\n",
       "      <td>289</td>\n",
       "      <td>387396.0</td>\n",
       "      <td>9.8</td>\n",
       "      <td>-54756.0</td>\n",
       "      <td>None</td>\n",
       "    </tr>\n",
       "    <tr>\n",
       "      <th>4</th>\n",
       "      <td>53033000300</td>\n",
       "      <td>Census Tract 3, King County, Washington</td>\n",
       "      <td>Pinehurst</td>\n",
       "      <td>Seattle</td>\n",
       "      <td>2015</td>\n",
       "      <td>2637</td>\n",
       "      <td>1087</td>\n",
       "      <td>336300</td>\n",
       "      <td>0.220242</td>\n",
       "      <td>0.712931</td>\n",
       "      <td>...</td>\n",
       "      <td>228</td>\n",
       "      <td>152</td>\n",
       "      <td>253</td>\n",
       "      <td>57</td>\n",
       "      <td>60</td>\n",
       "      <td>68</td>\n",
       "      <td>363204.0</td>\n",
       "      <td>12.5</td>\n",
       "      <td>19440.0</td>\n",
       "      <td>EligibleForGentrification</td>\n",
       "    </tr>\n",
       "  </tbody>\n",
       "</table>\n",
       "<p>5 rows × 59 columns</p>\n",
       "</div>"
      ],
      "text/plain": [
       "            Id                                Geography     neighborhood  \\\n",
       "0  53033000100  Census Tract 1, King County, Washington  Victory Heights   \n",
       "1  53033000100  Census Tract 1, King County, Washington  Victory Heights   \n",
       "2  53033000200  Census Tract 2, King County, Washington        Pinehurst   \n",
       "3  53033000200  Census Tract 2, King County, Washington        Pinehurst   \n",
       "4  53033000300  Census Tract 3, King County, Washington        Pinehurst   \n",
       "\n",
       "      city  year  total population  total households  median house value  \\\n",
       "0  Seattle  2015              6918              3400              410700   \n",
       "1  Seattle  2010              5784              3110              497300   \n",
       "2  Seattle  2015              7974              3572              342400   \n",
       "3  Seattle  2010              7682              3633              358700   \n",
       "4  Seattle  2015              2637              1087              336300   \n",
       "\n",
       "   percent public transportation  percent white not hispanic  \\\n",
       "0                       0.198666                    0.576323   \n",
       "1                       0.216394                    0.575726   \n",
       "2                       0.174445                    0.566842   \n",
       "3                       0.152393                    0.700729   \n",
       "4                       0.220242                    0.712931   \n",
       "\n",
       "               ...               total male 30-39yr  total male 40-49yr  \\\n",
       "0              ...                              635                 457   \n",
       "1              ...                              606                 440   \n",
       "2              ...                              497                 432   \n",
       "3              ...                              609                 638   \n",
       "4              ...                              228                 152   \n",
       "\n",
       "   total male 50-59yr  total male 60-64yr  total male 65-69yr  \\\n",
       "0                 461                 182                 134   \n",
       "1                 445                 125                  46   \n",
       "2                 588                 244                 153   \n",
       "3                 665                 122                 115   \n",
       "4                 253                  57                  60   \n",
       "\n",
       "   total male 70yr+  inflation_adj_median_house_value  \\\n",
       "0               233                          443556.0   \n",
       "1               163                          537084.0   \n",
       "2               242                          369792.0   \n",
       "3               289                          387396.0   \n",
       "4                68                          363204.0   \n",
       "\n",
       "   increase_in_edu_attainment_2015  increase_in_house_value_2015  \\\n",
       "0                             -1.9                      -93528.0   \n",
       "1                              3.4                      -17604.0   \n",
       "2                             -4.9                      -11016.0   \n",
       "3                              9.8                      -54756.0   \n",
       "4                             12.5                       19440.0   \n",
       "\n",
       "                          def_1  \n",
       "0  NotEligibleForGentrification  \n",
       "1                          None  \n",
       "2     EligibleForGentrification  \n",
       "3                          None  \n",
       "4     EligibleForGentrification  \n",
       "\n",
       "[5 rows x 59 columns]"
      ]
     },
     "execution_count": 43,
     "metadata": {},
     "output_type": "execute_result"
    }
   ],
   "source": [
    "data.head()"
   ]
  },
  {
   "cell_type": "markdown",
   "metadata": {
    "deletable": true,
    "editable": true
   },
   "source": [
    "### Definition 2: Financial & Economics\n",
    "#### Currently gentrifying:\n",
    "* The block group’s income levels below 40% of the median, and experienced rent increases greater than the median neighborhood did.\n",
    "\n",
    "#### Have gentrified:\n",
    "* The block group’s share of neighborhoods in a metro area that moved from the bottom half to the top half in the distribution of home prices."
   ]
  },
  {
   "cell_type": "markdown",
   "metadata": {
    "deletable": true,
    "editable": true
   },
   "source": [
    "#### Calculations for Part1: Currently gentrifying"
   ]
  },
  {
   "cell_type": "code",
   "execution_count": 44,
   "metadata": {
    "collapsed": true,
    "deletable": true,
    "editable": true
   },
   "outputs": [],
   "source": [
    "median_income_40percent = np.percentile(median_income, 50)*0.4"
   ]
  },
  {
   "cell_type": "markdown",
   "metadata": {
    "deletable": true,
    "editable": true
   },
   "source": [
    "#### Rent increase "
   ]
  },
  {
   "cell_type": "code",
   "execution_count": 46,
   "metadata": {
    "collapsed": true,
    "deletable": true,
    "editable": true
   },
   "outputs": [],
   "source": [
    "increase_in_rent_2015 = []\n",
    "for s in tract_id:\n",
    "    i = np.where(data['Id'] == s) # gives two indexes for each tract id(one for 2015 and another for 2010)\n",
    "    rent_increase = data['median gross rent'].iloc[i[0][0]] - data['median gross rent'].iloc[i[0][1]]\n",
    "    increase_in_rent_2015.append(rent_increase)"
   ]
  },
  {
   "cell_type": "code",
   "execution_count": 48,
   "metadata": {
    "collapsed": true,
    "deletable": true,
    "editable": true
   },
   "outputs": [],
   "source": [
    "data['increase_in_rent_2015'] = pd.Series(increase_in_rent_2015)\n",
    "increase_rent_median = np.percentile(increase_in_rent_2015, 50)"
   ]
  },
  {
   "cell_type": "markdown",
   "metadata": {
    "deletable": true,
    "editable": true
   },
   "source": [
    "#### Calculations for Part2: Have gentrified"
   ]
  },
  {
   "cell_type": "code",
   "execution_count": 49,
   "metadata": {
    "collapsed": true,
    "deletable": true,
    "editable": true
   },
   "outputs": [],
   "source": [
    "home_price_50th_percentile_2010 = np.percentile(data.loc[data['year'] == 2010, 'median house value'], 50)"
   ]
  },
  {
   "cell_type": "code",
   "execution_count": 50,
   "metadata": {
    "collapsed": true,
    "deletable": true,
    "editable": true
   },
   "outputs": [],
   "source": [
    "home_price_50th_percentile_2015 = np.percentile(data.loc[data['year'] == 2015, 'median house value'], 50)"
   ]
  },
  {
   "cell_type": "code",
   "execution_count": 51,
   "metadata": {
    "collapsed": true,
    "deletable": true,
    "editable": true
   },
   "outputs": [],
   "source": [
    "increase_in_home_price_distribution_2015 = []\n",
    "for s in tract_id:\n",
    "    i = np.where(data['Id'] == s)\n",
    "    if data['median house value'].iloc[i[0][0]] > home_price_50th_percentile_2015 and data['median house value'].iloc[i[0][1]] < home_price_50th_percentile_2010:\n",
    "        increase_in_home_price_distribution_2015.append('true')\n",
    "    else:\n",
    "        increase_in_home_price_distribution_2015.append('false') "
   ]
  },
  {
   "cell_type": "code",
   "execution_count": 52,
   "metadata": {
    "collapsed": true,
    "deletable": true,
    "editable": true
   },
   "outputs": [],
   "source": [
    "data['increase_in_home_price_distribution_2015'] = pd.Series(increase_in_home_price_distribution_2015)"
   ]
  },
  {
   "cell_type": "markdown",
   "metadata": {
    "deletable": true,
    "editable": true
   },
   "source": [
    "#### Labelling the tracts per definition 2"
   ]
  },
  {
   "cell_type": "code",
   "execution_count": 57,
   "metadata": {
    "collapsed": true,
    "deletable": true,
    "editable": true
   },
   "outputs": [],
   "source": [
    "def label_def2(row):\n",
    "   if row['year'] == 2010:\n",
    "      return 'None'\n",
    "   if row['year'] == 2015 and row['median income'] < median_income_40percent and row['increase_in_rent_2015'] > increase_rent_median:\n",
    "      return 'CurrentlyGentrifying'\n",
    "   if row['year'] == 2015 and row['increase_in_home_price_distribution_2015'] == 'true': \n",
    "      return 'HaveGentrified'\n",
    "   else:\n",
    "      return 'NotCurrentlyGentrifying'"
   ]
  },
  {
   "cell_type": "code",
   "execution_count": 58,
   "metadata": {
    "collapsed": true,
    "deletable": true,
    "editable": true
   },
   "outputs": [],
   "source": [
    "data['def_2'] = data.apply(label_def2, axis=1)"
   ]
  },
  {
   "cell_type": "code",
   "execution_count": 59,
   "metadata": {
    "collapsed": false,
    "deletable": true,
    "editable": true
   },
   "outputs": [
    {
     "data": {
      "text/html": [
       "<div>\n",
       "<style>\n",
       "    .dataframe thead tr:only-child th {\n",
       "        text-align: right;\n",
       "    }\n",
       "\n",
       "    .dataframe thead th {\n",
       "        text-align: left;\n",
       "    }\n",
       "\n",
       "    .dataframe tbody tr th {\n",
       "        vertical-align: top;\n",
       "    }\n",
       "</style>\n",
       "<table border=\"1\" class=\"dataframe\">\n",
       "  <thead>\n",
       "    <tr style=\"text-align: right;\">\n",
       "      <th></th>\n",
       "      <th>Id</th>\n",
       "      <th>Geography</th>\n",
       "      <th>neighborhood</th>\n",
       "      <th>city</th>\n",
       "      <th>year</th>\n",
       "      <th>total population</th>\n",
       "      <th>total households</th>\n",
       "      <th>median house value</th>\n",
       "      <th>percent public transportation</th>\n",
       "      <th>percent white not hispanic</th>\n",
       "      <th>...</th>\n",
       "      <th>total male 60-64yr</th>\n",
       "      <th>total male 65-69yr</th>\n",
       "      <th>total male 70yr+</th>\n",
       "      <th>inflation_adj_median_house_value</th>\n",
       "      <th>increase_in_edu_attainment_2015</th>\n",
       "      <th>increase_in_house_value_2015</th>\n",
       "      <th>def_1</th>\n",
       "      <th>increase_in_rent_2015</th>\n",
       "      <th>increase_in_home_price_distribution_2015</th>\n",
       "      <th>def_2</th>\n",
       "    </tr>\n",
       "  </thead>\n",
       "  <tbody>\n",
       "    <tr>\n",
       "      <th>0</th>\n",
       "      <td>53033000100</td>\n",
       "      <td>Census Tract 1, King County, Washington</td>\n",
       "      <td>Victory Heights</td>\n",
       "      <td>Seattle</td>\n",
       "      <td>2015</td>\n",
       "      <td>6918</td>\n",
       "      <td>3400</td>\n",
       "      <td>410700</td>\n",
       "      <td>0.198666</td>\n",
       "      <td>0.576323</td>\n",
       "      <td>...</td>\n",
       "      <td>182</td>\n",
       "      <td>134</td>\n",
       "      <td>233</td>\n",
       "      <td>443556.0</td>\n",
       "      <td>-1.9</td>\n",
       "      <td>-93528.0</td>\n",
       "      <td>NotEligibleForGentrification</td>\n",
       "      <td>143.0</td>\n",
       "      <td>false</td>\n",
       "      <td>NotCurrentlyGentrifying</td>\n",
       "    </tr>\n",
       "    <tr>\n",
       "      <th>1</th>\n",
       "      <td>53033000100</td>\n",
       "      <td>Census Tract 1, King County, Washington</td>\n",
       "      <td>Victory Heights</td>\n",
       "      <td>Seattle</td>\n",
       "      <td>2010</td>\n",
       "      <td>5784</td>\n",
       "      <td>3110</td>\n",
       "      <td>497300</td>\n",
       "      <td>0.216394</td>\n",
       "      <td>0.575726</td>\n",
       "      <td>...</td>\n",
       "      <td>125</td>\n",
       "      <td>46</td>\n",
       "      <td>163</td>\n",
       "      <td>537084.0</td>\n",
       "      <td>3.4</td>\n",
       "      <td>-17604.0</td>\n",
       "      <td>None</td>\n",
       "      <td>222.0</td>\n",
       "      <td>false</td>\n",
       "      <td>None</td>\n",
       "    </tr>\n",
       "    <tr>\n",
       "      <th>2</th>\n",
       "      <td>53033000200</td>\n",
       "      <td>Census Tract 2, King County, Washington</td>\n",
       "      <td>Pinehurst</td>\n",
       "      <td>Seattle</td>\n",
       "      <td>2015</td>\n",
       "      <td>7974</td>\n",
       "      <td>3572</td>\n",
       "      <td>342400</td>\n",
       "      <td>0.174445</td>\n",
       "      <td>0.566842</td>\n",
       "      <td>...</td>\n",
       "      <td>244</td>\n",
       "      <td>153</td>\n",
       "      <td>242</td>\n",
       "      <td>369792.0</td>\n",
       "      <td>-4.9</td>\n",
       "      <td>-11016.0</td>\n",
       "      <td>EligibleForGentrification</td>\n",
       "      <td>124.0</td>\n",
       "      <td>false</td>\n",
       "      <td>NotCurrentlyGentrifying</td>\n",
       "    </tr>\n",
       "    <tr>\n",
       "      <th>3</th>\n",
       "      <td>53033000200</td>\n",
       "      <td>Census Tract 2, King County, Washington</td>\n",
       "      <td>Pinehurst</td>\n",
       "      <td>Seattle</td>\n",
       "      <td>2010</td>\n",
       "      <td>7682</td>\n",
       "      <td>3633</td>\n",
       "      <td>358700</td>\n",
       "      <td>0.152393</td>\n",
       "      <td>0.700729</td>\n",
       "      <td>...</td>\n",
       "      <td>122</td>\n",
       "      <td>115</td>\n",
       "      <td>289</td>\n",
       "      <td>387396.0</td>\n",
       "      <td>9.8</td>\n",
       "      <td>-54756.0</td>\n",
       "      <td>None</td>\n",
       "      <td>9.0</td>\n",
       "      <td>false</td>\n",
       "      <td>None</td>\n",
       "    </tr>\n",
       "    <tr>\n",
       "      <th>4</th>\n",
       "      <td>53033000300</td>\n",
       "      <td>Census Tract 3, King County, Washington</td>\n",
       "      <td>Pinehurst</td>\n",
       "      <td>Seattle</td>\n",
       "      <td>2015</td>\n",
       "      <td>2637</td>\n",
       "      <td>1087</td>\n",
       "      <td>336300</td>\n",
       "      <td>0.220242</td>\n",
       "      <td>0.712931</td>\n",
       "      <td>...</td>\n",
       "      <td>57</td>\n",
       "      <td>60</td>\n",
       "      <td>68</td>\n",
       "      <td>363204.0</td>\n",
       "      <td>12.5</td>\n",
       "      <td>19440.0</td>\n",
       "      <td>EligibleForGentrification</td>\n",
       "      <td>37.0</td>\n",
       "      <td>false</td>\n",
       "      <td>NotCurrentlyGentrifying</td>\n",
       "    </tr>\n",
       "  </tbody>\n",
       "</table>\n",
       "<p>5 rows × 62 columns</p>\n",
       "</div>"
      ],
      "text/plain": [
       "            Id                                Geography     neighborhood  \\\n",
       "0  53033000100  Census Tract 1, King County, Washington  Victory Heights   \n",
       "1  53033000100  Census Tract 1, King County, Washington  Victory Heights   \n",
       "2  53033000200  Census Tract 2, King County, Washington        Pinehurst   \n",
       "3  53033000200  Census Tract 2, King County, Washington        Pinehurst   \n",
       "4  53033000300  Census Tract 3, King County, Washington        Pinehurst   \n",
       "\n",
       "      city  year  total population  total households  median house value  \\\n",
       "0  Seattle  2015              6918              3400              410700   \n",
       "1  Seattle  2010              5784              3110              497300   \n",
       "2  Seattle  2015              7974              3572              342400   \n",
       "3  Seattle  2010              7682              3633              358700   \n",
       "4  Seattle  2015              2637              1087              336300   \n",
       "\n",
       "   percent public transportation  percent white not hispanic  \\\n",
       "0                       0.198666                    0.576323   \n",
       "1                       0.216394                    0.575726   \n",
       "2                       0.174445                    0.566842   \n",
       "3                       0.152393                    0.700729   \n",
       "4                       0.220242                    0.712931   \n",
       "\n",
       "            ...             total male 60-64yr  total male 65-69yr  \\\n",
       "0           ...                            182                 134   \n",
       "1           ...                            125                  46   \n",
       "2           ...                            244                 153   \n",
       "3           ...                            122                 115   \n",
       "4           ...                             57                  60   \n",
       "\n",
       "   total male 70yr+  inflation_adj_median_house_value  \\\n",
       "0               233                          443556.0   \n",
       "1               163                          537084.0   \n",
       "2               242                          369792.0   \n",
       "3               289                          387396.0   \n",
       "4                68                          363204.0   \n",
       "\n",
       "   increase_in_edu_attainment_2015  increase_in_house_value_2015  \\\n",
       "0                             -1.9                      -93528.0   \n",
       "1                              3.4                      -17604.0   \n",
       "2                             -4.9                      -11016.0   \n",
       "3                              9.8                      -54756.0   \n",
       "4                             12.5                       19440.0   \n",
       "\n",
       "                          def_1  increase_in_rent_2015  \\\n",
       "0  NotEligibleForGentrification                  143.0   \n",
       "1                          None                  222.0   \n",
       "2     EligibleForGentrification                  124.0   \n",
       "3                          None                    9.0   \n",
       "4     EligibleForGentrification                   37.0   \n",
       "\n",
       "   increase_in_home_price_distribution_2015                    def_2  \n",
       "0                                     false  NotCurrentlyGentrifying  \n",
       "1                                     false                     None  \n",
       "2                                     false  NotCurrentlyGentrifying  \n",
       "3                                     false                     None  \n",
       "4                                     false  NotCurrentlyGentrifying  \n",
       "\n",
       "[5 rows x 62 columns]"
      ]
     },
     "execution_count": 59,
     "metadata": {},
     "output_type": "execute_result"
    }
   ],
   "source": [
    "data.head()"
   ]
  },
  {
   "cell_type": "code",
   "execution_count": null,
   "metadata": {
    "collapsed": true,
    "deletable": true,
    "editable": true
   },
   "outputs": [],
   "source": []
  },
  {
   "cell_type": "markdown",
   "metadata": {
    "deletable": true,
    "editable": true
   },
   "source": [
    "### Output data to csv file"
   ]
  },
  {
   "cell_type": "code",
   "execution_count": 60,
   "metadata": {
    "collapsed": true,
    "deletable": true,
    "editable": true
   },
   "outputs": [],
   "source": [
    "data.to_csv('Seattle Labels.csv')"
   ]
  },
  {
   "cell_type": "code",
   "execution_count": 90,
   "metadata": {
    "collapsed": true,
    "deletable": true,
    "editable": true
   },
   "outputs": [],
   "source": [
    "data.to_csv('King County Labels.csv')"
   ]
  },
  {
   "cell_type": "code",
   "execution_count": null,
   "metadata": {
    "collapsed": true,
    "deletable": true,
    "editable": true
   },
   "outputs": [],
   "source": []
  }
 ],
 "metadata": {
  "kernelspec": {
   "display_name": "Python 3",
   "language": "python",
   "name": "python3"
  },
  "language_info": {
   "codemirror_mode": {
    "name": "ipython",
    "version": 3
   },
   "file_extension": ".py",
   "mimetype": "text/x-python",
   "name": "python",
   "nbconvert_exporter": "python",
   "pygments_lexer": "ipython3",
   "version": "3.6.0"
  }
 },
 "nbformat": 4,
 "nbformat_minor": 2
}
