{
 "cells": [
  {
   "cell_type": "code",
   "execution_count": 1,
   "metadata": {
    "collapsed": true,
    "deletable": true,
    "editable": true
   },
   "outputs": [],
   "source": [
    "#Import Libraries\n",
    "import pandas as pd\n",
    "import numpy as np\n",
    "import matplotlib.pyplot as plt\n",
    "%matplotlib inline  "
   ]
  },
  {
   "cell_type": "code",
   "execution_count": 35,
   "metadata": {
    "collapsed": true,
    "deletable": true,
    "editable": true
   },
   "outputs": [],
   "source": [
    "#Read Data\n",
    "data = pd.read_csv('ACS_data.csv', header=0)"
   ]
  },
  {
   "cell_type": "code",
   "execution_count": 36,
   "metadata": {
    "collapsed": true,
    "deletable": true,
    "editable": true
   },
   "outputs": [],
   "source": [
    "data_sea = data[(data.City == 'Seattle')]\n",
    "data_east = data[(data.City == 'Bellevue') | (data.City == 'Redmond') | (data.City == 'Kirkland')| (data.City == 'Sammamish')| (data.City == 'Issaquah')]\n",
    "data_rest = data[(data.City != 'Seattle') & (data.City != 'Belleuve')& (data.City != 'Redmond')& (data.City != 'Kirkland')& (data.City != 'Sammamish')& (data.City != 'Issaquah')]"
   ]
  },
  {
   "cell_type": "code",
   "execution_count": 64,
   "metadata": {
    "collapsed": true,
    "deletable": true,
    "editable": true
   },
   "outputs": [],
   "source": [
    "#data = data_sea\n",
    "data = data_east\n",
    "#data = data_rest"
   ]
  },
  {
   "cell_type": "code",
   "execution_count": 65,
   "metadata": {
    "collapsed": false,
    "deletable": true,
    "editable": true
   },
   "outputs": [
    {
     "data": {
      "text/plain": [
       "(array([  2.,   5.,  29.,  21.,  22.,  21.,  15.,   7.,   6.,   2.]),\n",
       " array([ 260000.,  321470.,  382940.,  444410.,  505880.,  567350.,\n",
       "         628820.,  690290.,  751760.,  813230.,  874700.]),\n",
       " <a list of 10 Patch objects>)"
      ]
     },
     "execution_count": 65,
     "metadata": {},
     "output_type": "execute_result"
    },
    {
     "data": {
      "image/png": "[encoded data removed]",
      "text/plain": [
       "<matplotlib.figure.Figure at 0x1627d569748>"
      ]
     },
     "metadata": {},
     "output_type": "display_data"
    }
   ],
   "source": [
    "plt.hist(data['Median House value (dollars)'])"
   ]
  },
  {
   "cell_type": "markdown",
   "metadata": {
    "deletable": true,
    "editable": true
   },
   "source": [
    "### Definition 1: Sociology \n",
    "#### Eligible for Gentrification:\n",
    "* The block group’s median household income was in the bottom 40th percentile when compared to all block groups in Seattle at the beginning of the time span.\n",
    "* The block group’s median house value was in the bottom 40th percentile when compared to all block groups in Seattle at the beginning of the time span.\n",
    "\n",
    "#### Have gentrified:\n",
    "* An increase in a block group’s educational attainment, as measured by the percentage of residents age 25 and over holding bachelor’s degrees, was in the top third percentile of all block groups in Seattle.\n",
    "* An increase in a block group’s median house value, as measured by inflation-adjusted median house value, was in the top third percentile of all block groups in Seattle.\n"
   ]
  },
  {
   "cell_type": "markdown",
   "metadata": {
    "deletable": true,
    "editable": true
   },
   "source": [
    "#### Calculations for Part1: Eligible for gentrification"
   ]
  },
  {
   "cell_type": "code",
   "execution_count": 66,
   "metadata": {
    "collapsed": true,
    "deletable": true,
    "editable": true
   },
   "outputs": [],
   "source": [
    "# get the columns in variable names\n",
    "median_income =np.array(data.loc[data['Year'] == 2015, 'Median income'])\n",
    "median_housevalue =np.array(data.loc[data['Year'] == 2015, 'Median House value (dollars)'])"
   ]
  },
  {
   "cell_type": "code",
   "execution_count": 67,
   "metadata": {
    "collapsed": true,
    "deletable": true,
    "editable": true
   },
   "outputs": [],
   "source": [
    "# find percentiles for median income, house value and bachelor degree holders\n",
    "income_40th_perc = np.percentile(median_income, 40)\n",
    "houseval_40th_perc = np.percentile(median_housevalue, 40)"
   ]
  },
  {
   "cell_type": "markdown",
   "metadata": {
    "deletable": true,
    "editable": true
   },
   "source": [
    "#### Calculations for Part2: Have gentrified"
   ]
  },
  {
   "cell_type": "code",
   "execution_count": 68,
   "metadata": {
    "collapsed": true,
    "deletable": true,
    "editable": true
   },
   "outputs": [],
   "source": [
    "def add_col_for_inflation_adjusted_house_price_2010(row):\n",
    "    if row['Year'] == 2010:\n",
    "        return row['Median House value (dollars)']*1.08"
   ]
  },
  {
   "cell_type": "code",
   "execution_count": 69,
   "metadata": {
    "collapsed": true,
    "deletable": true,
    "editable": true
   },
   "outputs": [],
   "source": [
    "#inflation_adj_median_house_value = data.apply(add_col_for_inflation_adjusted_house_price_2010, axis = 1)\n",
    "data['inflation_adj_median_house_value'] = data.apply(add_col_for_inflation_adjusted_house_price_2010, axis = 1)"
   ]
  },
  {
   "cell_type": "code",
   "execution_count": 70,
   "metadata": {
    "collapsed": true,
    "deletable": true,
    "editable": true
   },
   "outputs": [],
   "source": [
    "# get unique tract ids to iterate thru all records of 2015 and 2010\n",
    "tract_id = data.Id.unique()"
   ]
  },
  {
   "cell_type": "code",
   "execution_count": 71,
   "metadata": {
    "collapsed": true,
    "deletable": true,
    "editable": true
   },
   "outputs": [],
   "source": [
    "Data_for_2015 = np.where(data['Year']== 2015)\n",
    "Data_for_2010 = np.where(data['Year']== 2010)\n"
   ]
  },
  {
   "cell_type": "code",
   "execution_count": 72,
   "metadata": {
    "collapsed": true,
    "deletable": true,
    "editable": true
   },
   "outputs": [],
   "source": [
    "increase_in_edu_attainment_2015 = []\n",
    "for s in tract_id:\n",
    "    i = np.where(data['Id'] == s) # gives two indexes for each tract id(one for 2015 and another for 2010)\n",
    "    # to find the percentage increase subtract the bachelors degree % for 2010 from bachelors degree % of 2015\n",
    "    perc_increase = data['Percentage: bachelors degree or higher'].iloc[i[0][0]] - data['Percentage: bachelors degree or higher'].iloc[i[0][1]]\n",
    "    increase_in_edu_attainment_2015.append(perc_increase)"
   ]
  },
  {
   "cell_type": "code",
   "execution_count": 73,
   "metadata": {
    "collapsed": true,
    "deletable": true,
    "editable": true
   },
   "outputs": [],
   "source": [
    "increase_in_edu_attainment_2015 = []\n",
    "for s in tract_id:\n",
    "    i = np.where(data['Id'] == s) # gives two indexes for each tract id(one for 2015 and another for 2010)\n",
    "    # to find the percentage increase subtract the bachelors degree % for 2010 from bachelors degree % of 2015\n",
    "    perc_increase = data['Percentage: bachelors degree or higher'].iloc[i[0][0]] - data['Percentage: bachelors degree or higher'].iloc[i[0][1]]\n",
    "    increase_in_edu_attainment_2015.append(perc_increase)"
   ]
  },
  {
   "cell_type": "code",
   "execution_count": 74,
   "metadata": {
    "collapsed": true,
    "deletable": true,
    "editable": true
   },
   "outputs": [],
   "source": [
    "increase_in_house_value_2015 = []\n",
    "for s in tract_id:\n",
    "    i = np.where(data['Id'] == s)\n",
    "    perc_increase = data['Median House value (dollars)'].iloc[i[0][0]] - data['Median House value (dollars)'].iloc[i[0][1]]\n",
    "    increase_in_house_value_2015.append(perc_increase)"
   ]
  },
  {
   "cell_type": "code",
   "execution_count": 75,
   "metadata": {
    "collapsed": true,
    "deletable": true,
    "editable": true
   },
   "outputs": [],
   "source": [
    "data['increase_in_edu_attainment_2015'] = pd.Series(increase_in_edu_attainment_2015)\n",
    "data['increase_in_house_value_2015'] = pd.Series(increase_in_house_value_2015)"
   ]
  },
  {
   "cell_type": "code",
   "execution_count": 76,
   "metadata": {
    "collapsed": true,
    "deletable": true,
    "editable": true
   },
   "outputs": [],
   "source": [
    "increase_bachelor_degree_top3rd_percentile = np.percentile(increase_in_edu_attainment_2015, 66)\n",
    "increase_house_value_top3rd_percentile = np.percentile(increase_in_house_value_2015, 66)"
   ]
  },
  {
   "cell_type": "code",
   "execution_count": 77,
   "metadata": {
    "collapsed": false,
    "deletable": true,
    "editable": true
   },
   "outputs": [
    {
     "data": {
      "text/plain": [
       "9964.0000000000073"
      ]
     },
     "execution_count": 77,
     "metadata": {},
     "output_type": "execute_result"
    }
   ],
   "source": [
    "increase_house_value_top3rd_percentile"
   ]
  },
  {
   "cell_type": "markdown",
   "metadata": {
    "deletable": true,
    "editable": true
   },
   "source": [
    "#### Labelling the tracts per definition 1"
   ]
  },
  {
   "cell_type": "code",
   "execution_count": 78,
   "metadata": {
    "collapsed": true,
    "deletable": true,
    "editable": true
   },
   "outputs": [],
   "source": [
    "def label_def1(row):\n",
    "   if row['Year'] == 2010:\n",
    "      return 'None'\n",
    "   if row['Year'] == 2015 and row['Median income'] < income_40th_perc and row['Median House value (dollars)'] < houseval_40th_perc:\n",
    "      return 'EligibleForGentrification'\n",
    "   if row['Year'] == 2015 and row['increase_in_edu_attainment_2015'] > increase_bachelor_degree_top3rd_percentile and row['increase_in_house_value_2015'] > increase_house_value_top3rd_percentile:\n",
    "      return 'HaveGentrified'\n",
    "   else:\n",
    "      return 'NotEligibleForGentrification'"
   ]
  },
  {
   "cell_type": "code",
   "execution_count": 79,
   "metadata": {
    "collapsed": true,
    "deletable": true,
    "editable": true
   },
   "outputs": [],
   "source": [
    "data['def_1'] = data.apply(label_def1, axis=1)"
   ]
  },
  {
   "cell_type": "code",
   "execution_count": 80,
   "metadata": {
    "collapsed": false,
    "deletable": true,
    "editable": true
   },
   "outputs": [
    {
     "data": {
      "text/html": [
       "<div>\n",
       "<style>\n",
       "    .dataframe thead tr:only-child th {\n",
       "        text-align: right;\n",
       "    }\n",
       "\n",
       "    .dataframe thead th {\n",
       "        text-align: left;\n",
       "    }\n",
       "\n",
       "    .dataframe tbody tr th {\n",
       "        vertical-align: top;\n",
       "    }\n",
       "</style>\n",
       "<table border=\"1\" class=\"dataframe\">\n",
       "  <thead>\n",
       "    <tr style=\"text-align: right;\">\n",
       "      <th></th>\n",
       "      <th>Unnamed: 0</th>\n",
       "      <th>Id</th>\n",
       "      <th>Geography</th>\n",
       "      <th>City</th>\n",
       "      <th>Percentage: Public transportation (excluding taxicab)</th>\n",
       "      <th>Percentage: Nonfamily household</th>\n",
       "      <th>Married-couple family household with own children</th>\n",
       "      <th>Percentage: bachelors degree or higher</th>\n",
       "      <th>Population 25 years and over</th>\n",
       "      <th>Median income</th>\n",
       "      <th>...</th>\n",
       "      <th>Median House value (dollars)</th>\n",
       "      <th>Dwelling Units: - 3 or 4</th>\n",
       "      <th>Dwelling Units: -5 or more</th>\n",
       "      <th>3 or more vehicles available</th>\n",
       "      <th>Percentage: Not Hispanic or Latino: - White</th>\n",
       "      <th>Year</th>\n",
       "      <th>inflation_adj_median_house_value</th>\n",
       "      <th>increase_in_edu_attainment_2015</th>\n",
       "      <th>increase_in_house_value_2015</th>\n",
       "      <th>def_1</th>\n",
       "    </tr>\n",
       "  </thead>\n",
       "  <tbody>\n",
       "    <tr>\n",
       "      <th>150</th>\n",
       "      <td>150</td>\n",
       "      <td>53033021903</td>\n",
       "      <td>Census Tract 219.03, King County, Washington</td>\n",
       "      <td>Kirkland</td>\n",
       "      <td>10</td>\n",
       "      <td>48</td>\n",
       "      <td>414.0</td>\n",
       "      <td>45.8</td>\n",
       "      <td>4235.0</td>\n",
       "      <td>71417</td>\n",
       "      <td>...</td>\n",
       "      <td>400700</td>\n",
       "      <td>94</td>\n",
       "      <td>1124</td>\n",
       "      <td>353</td>\n",
       "      <td>0.71</td>\n",
       "      <td>2015</td>\n",
       "      <td>NaN</td>\n",
       "      <td>NaN</td>\n",
       "      <td>NaN</td>\n",
       "      <td>EligibleForGentrification</td>\n",
       "    </tr>\n",
       "    <tr>\n",
       "      <th>156</th>\n",
       "      <td>156</td>\n",
       "      <td>53033022005</td>\n",
       "      <td>Census Tract 220.05, King County, Washington</td>\n",
       "      <td>Kirkland</td>\n",
       "      <td>11</td>\n",
       "      <td>44</td>\n",
       "      <td>405.0</td>\n",
       "      <td>54.9</td>\n",
       "      <td>3301.0</td>\n",
       "      <td>90900</td>\n",
       "      <td>...</td>\n",
       "      <td>260000</td>\n",
       "      <td>165</td>\n",
       "      <td>804</td>\n",
       "      <td>239</td>\n",
       "      <td>0.56</td>\n",
       "      <td>2015</td>\n",
       "      <td>NaN</td>\n",
       "      <td>NaN</td>\n",
       "      <td>NaN</td>\n",
       "      <td>EligibleForGentrification</td>\n",
       "    </tr>\n",
       "    <tr>\n",
       "      <th>157</th>\n",
       "      <td>157</td>\n",
       "      <td>53033022006</td>\n",
       "      <td>Census Tract 220.06, King County, Washington</td>\n",
       "      <td>Kirkland</td>\n",
       "      <td>8</td>\n",
       "      <td>46</td>\n",
       "      <td>331.0</td>\n",
       "      <td>46.9</td>\n",
       "      <td>2673.0</td>\n",
       "      <td>81056</td>\n",
       "      <td>...</td>\n",
       "      <td>364900</td>\n",
       "      <td>249</td>\n",
       "      <td>625</td>\n",
       "      <td>189</td>\n",
       "      <td>0.69</td>\n",
       "      <td>2015</td>\n",
       "      <td>NaN</td>\n",
       "      <td>NaN</td>\n",
       "      <td>NaN</td>\n",
       "      <td>EligibleForGentrification</td>\n",
       "    </tr>\n",
       "    <tr>\n",
       "      <th>158</th>\n",
       "      <td>158</td>\n",
       "      <td>53033022101</td>\n",
       "      <td>Census Tract 221.01, King County, Washington</td>\n",
       "      <td>Kirkland</td>\n",
       "      <td>9</td>\n",
       "      <td>27</td>\n",
       "      <td>424.0</td>\n",
       "      <td>57.6</td>\n",
       "      <td>3266.0</td>\n",
       "      <td>100168</td>\n",
       "      <td>...</td>\n",
       "      <td>419900</td>\n",
       "      <td>56</td>\n",
       "      <td>234</td>\n",
       "      <td>440</td>\n",
       "      <td>0.83</td>\n",
       "      <td>2015</td>\n",
       "      <td>NaN</td>\n",
       "      <td>NaN</td>\n",
       "      <td>NaN</td>\n",
       "      <td>NotEligibleForGentrification</td>\n",
       "    </tr>\n",
       "    <tr>\n",
       "      <th>159</th>\n",
       "      <td>159</td>\n",
       "      <td>53033022102</td>\n",
       "      <td>Census Tract 221.02, King County, Washington</td>\n",
       "      <td>Kirkland</td>\n",
       "      <td>6</td>\n",
       "      <td>29</td>\n",
       "      <td>692.0</td>\n",
       "      <td>62.6</td>\n",
       "      <td>3875.0</td>\n",
       "      <td>96863</td>\n",
       "      <td>...</td>\n",
       "      <td>427000</td>\n",
       "      <td>47</td>\n",
       "      <td>390</td>\n",
       "      <td>590</td>\n",
       "      <td>0.69</td>\n",
       "      <td>2015</td>\n",
       "      <td>NaN</td>\n",
       "      <td>NaN</td>\n",
       "      <td>NaN</td>\n",
       "      <td>EligibleForGentrification</td>\n",
       "    </tr>\n",
       "  </tbody>\n",
       "</table>\n",
       "<p>5 rows × 23 columns</p>\n",
       "</div>"
      ],
      "text/plain": [
       "     Unnamed: 0           Id                                     Geography  \\\n",
       "150         150  53033021903  Census Tract 219.03, King County, Washington   \n",
       "156         156  53033022005  Census Tract 220.05, King County, Washington   \n",
       "157         157  53033022006  Census Tract 220.06, King County, Washington   \n",
       "158         158  53033022101  Census Tract 221.01, King County, Washington   \n",
       "159         159  53033022102  Census Tract 221.02, King County, Washington   \n",
       "\n",
       "         City  Percentage: Public transportation (excluding taxicab)  \\\n",
       "150  Kirkland                                                 10       \n",
       "156  Kirkland                                                 11       \n",
       "157  Kirkland                                                  8       \n",
       "158  Kirkland                                                  9       \n",
       "159  Kirkland                                                  6       \n",
       "\n",
       "     Percentage: Nonfamily household  \\\n",
       "150                               48   \n",
       "156                               44   \n",
       "157                               46   \n",
       "158                               27   \n",
       "159                               29   \n",
       "\n",
       "     Married-couple family household with own children   \\\n",
       "150                                              414.0    \n",
       "156                                              405.0    \n",
       "157                                              331.0    \n",
       "158                                              424.0    \n",
       "159                                              692.0    \n",
       "\n",
       "     Percentage: bachelors degree or higher  Population 25 years and over  \\\n",
       "150                                    45.8                        4235.0   \n",
       "156                                    54.9                        3301.0   \n",
       "157                                    46.9                        2673.0   \n",
       "158                                    57.6                        3266.0   \n",
       "159                                    62.6                        3875.0   \n",
       "\n",
       "     Median income              ...               \\\n",
       "150          71417              ...                \n",
       "156          90900              ...                \n",
       "157          81056              ...                \n",
       "158         100168              ...                \n",
       "159          96863              ...                \n",
       "\n",
       "     Median House value (dollars)  Dwelling Units: - 3 or 4  \\\n",
       "150                        400700                        94   \n",
       "156                        260000                       165   \n",
       "157                        364900                       249   \n",
       "158                        419900                        56   \n",
       "159                        427000                        47   \n",
       "\n",
       "     Dwelling Units: -5 or more   3 or more vehicles available  \\\n",
       "150                        1124                            353   \n",
       "156                         804                            239   \n",
       "157                         625                            189   \n",
       "158                         234                            440   \n",
       "159                         390                            590   \n",
       "\n",
       "     Percentage: Not Hispanic or Latino: - White   Year  \\\n",
       "150                                          0.71  2015   \n",
       "156                                          0.56  2015   \n",
       "157                                          0.69  2015   \n",
       "158                                          0.83  2015   \n",
       "159                                          0.69  2015   \n",
       "\n",
       "     inflation_adj_median_house_value  increase_in_edu_attainment_2015  \\\n",
       "150                               NaN                              NaN   \n",
       "156                               NaN                              NaN   \n",
       "157                               NaN                              NaN   \n",
       "158                               NaN                              NaN   \n",
       "159                               NaN                              NaN   \n",
       "\n",
       "     increase_in_house_value_2015                         def_1  \n",
       "150                           NaN     EligibleForGentrification  \n",
       "156                           NaN     EligibleForGentrification  \n",
       "157                           NaN     EligibleForGentrification  \n",
       "158                           NaN  NotEligibleForGentrification  \n",
       "159                           NaN     EligibleForGentrification  \n",
       "\n",
       "[5 rows x 23 columns]"
      ]
     },
     "execution_count": 80,
     "metadata": {},
     "output_type": "execute_result"
    }
   ],
   "source": [
    "data.head()"
   ]
  },
  {
   "cell_type": "markdown",
   "metadata": {
    "deletable": true,
    "editable": true
   },
   "source": [
    "### Definition 2: Financial & Economics\n",
    "#### Currently gentrifying:\n",
    "* The block group’s income levels below 40% of the median, and experienced rent increases greater than the median neighborhood did.\n",
    "\n",
    "#### Have gentrified:\n",
    "* The block group’s share of neighborhoods in a metro area that moved from the bottom half to the top half in the distribution of home prices."
   ]
  },
  {
   "cell_type": "markdown",
   "metadata": {
    "deletable": true,
    "editable": true
   },
   "source": [
    "#### Calculations for Part1: Currently gentrifying"
   ]
  },
  {
   "cell_type": "code",
   "execution_count": 81,
   "metadata": {
    "collapsed": true,
    "deletable": true,
    "editable": true
   },
   "outputs": [],
   "source": [
    "median_income_40percent = np.percentile(median_income, 50)*0.4"
   ]
  },
  {
   "cell_type": "markdown",
   "metadata": {
    "deletable": true,
    "editable": true
   },
   "source": [
    "#### Rent increase is NOT AVAILABLE. The data has renter occupied units which is different from rent. We are using renter occupied variable in definition 3. Need to discuss this."
   ]
  },
  {
   "cell_type": "code",
   "execution_count": 82,
   "metadata": {
    "collapsed": true,
    "deletable": true,
    "editable": true
   },
   "outputs": [],
   "source": [
    "\n",
    "high_rent_50percent = np.percentile(data['Renter-occupied housing units; MONTHLY HOUSING COSTS AS A PERCENTAGE OF HOUSEHOLD INCOME IN THE PAST 12 MONTHS - 30 percent or more'], 50)"
   ]
  },
  {
   "cell_type": "markdown",
   "metadata": {
    "deletable": true,
    "editable": true
   },
   "source": [
    "#### Calculations for Part2: Have gentrified"
   ]
  },
  {
   "cell_type": "code",
   "execution_count": 83,
   "metadata": {
    "collapsed": true,
    "deletable": true,
    "editable": true
   },
   "outputs": [],
   "source": [
    "home_price_50th_percentile_2010 = np.percentile(data.loc[data['Year'] == 2010, 'Median House value (dollars)'], 50)"
   ]
  },
  {
   "cell_type": "code",
   "execution_count": 84,
   "metadata": {
    "collapsed": true,
    "deletable": true,
    "editable": true
   },
   "outputs": [],
   "source": [
    "home_price_50th_percentile_2015 = np.percentile(data.loc[data['Year'] == 2015, 'Median House value (dollars)'], 50)"
   ]
  },
  {
   "cell_type": "code",
   "execution_count": 85,
   "metadata": {
    "collapsed": true,
    "deletable": true,
    "editable": true
   },
   "outputs": [],
   "source": [
    "increase_in_home_price_distribution_2015 = []\n",
    "for s in tract_id:\n",
    "    i = np.where(data['Id'] == s)\n",
    "    if data['Median House value (dollars)'].iloc[i[0][0]] > home_price_50th_percentile_2015 and data['Median House value (dollars)'].iloc[i[0][1]] < home_price_50th_percentile_2010:\n",
    "        increase_in_home_price_distribution_2015.append('true')\n",
    "    else:\n",
    "        increase_in_home_price_distribution_2015.append('false') "
   ]
  },
  {
   "cell_type": "code",
   "execution_count": 86,
   "metadata": {
    "collapsed": true,
    "deletable": true,
    "editable": true
   },
   "outputs": [],
   "source": [
    "data['increase_in_home_price_distribution_2015'] = pd.Series(increase_in_home_price_distribution_2015)"
   ]
  },
  {
   "cell_type": "markdown",
   "metadata": {
    "deletable": true,
    "editable": true
   },
   "source": [
    "#### Labelling the tracts per definition 2"
   ]
  },
  {
   "cell_type": "code",
   "execution_count": 87,
   "metadata": {
    "collapsed": true,
    "deletable": true,
    "editable": true
   },
   "outputs": [],
   "source": [
    "def label_def2(row):\n",
    "   if row['Year'] == 2010:\n",
    "      return 'None'\n",
    "   if row['Year'] == 2015 and row['Median income'] < median_income_40percent and row['Renter-occupied housing units; MONTHLY HOUSING COSTS AS A PERCENTAGE OF HOUSEHOLD INCOME IN THE PAST 12 MONTHS - 30 percent or more'] > high_rent_50percent:\n",
    "      return 'CurrentlyGentrifying'\n",
    "   if row['Year'] == 2015 and row['increase_in_home_price_distribution_2015'] == 'true': \n",
    "      return 'HaveGentrified'\n",
    "   else:\n",
    "      return 'NotCurrentlyGentrifying'"
   ]
  },
  {
   "cell_type": "code",
   "execution_count": 88,
   "metadata": {
    "collapsed": true,
    "deletable": true,
    "editable": true
   },
   "outputs": [],
   "source": [
    "data['def_2'] = data.apply(label_def2, axis=1)"
   ]
  },
  {
   "cell_type": "code",
   "execution_count": 89,
   "metadata": {
    "collapsed": false,
    "deletable": true,
    "editable": true
   },
   "outputs": [
    {
     "data": {
      "text/html": [
       "<div>\n",
       "<style>\n",
       "    .dataframe thead tr:only-child th {\n",
       "        text-align: right;\n",
       "    }\n",
       "\n",
       "    .dataframe thead th {\n",
       "        text-align: left;\n",
       "    }\n",
       "\n",
       "    .dataframe tbody tr th {\n",
       "        vertical-align: top;\n",
       "    }\n",
       "</style>\n",
       "<table border=\"1\" class=\"dataframe\">\n",
       "  <thead>\n",
       "    <tr style=\"text-align: right;\">\n",
       "      <th></th>\n",
       "      <th>Unnamed: 0</th>\n",
       "      <th>Id</th>\n",
       "      <th>Geography</th>\n",
       "      <th>City</th>\n",
       "      <th>Percentage: Public transportation (excluding taxicab)</th>\n",
       "      <th>Percentage: Nonfamily household</th>\n",
       "      <th>Married-couple family household with own children</th>\n",
       "      <th>Percentage: bachelors degree or higher</th>\n",
       "      <th>Population 25 years and over</th>\n",
       "      <th>Median income</th>\n",
       "      <th>...</th>\n",
       "      <th>Dwelling Units: -5 or more</th>\n",
       "      <th>3 or more vehicles available</th>\n",
       "      <th>Percentage: Not Hispanic or Latino: - White</th>\n",
       "      <th>Year</th>\n",
       "      <th>inflation_adj_median_house_value</th>\n",
       "      <th>increase_in_edu_attainment_2015</th>\n",
       "      <th>increase_in_house_value_2015</th>\n",
       "      <th>def_1</th>\n",
       "      <th>increase_in_home_price_distribution_2015</th>\n",
       "      <th>def_2</th>\n",
       "    </tr>\n",
       "  </thead>\n",
       "  <tbody>\n",
       "    <tr>\n",
       "      <th>150</th>\n",
       "      <td>150</td>\n",
       "      <td>53033021903</td>\n",
       "      <td>Census Tract 219.03, King County, Washington</td>\n",
       "      <td>Kirkland</td>\n",
       "      <td>10</td>\n",
       "      <td>48</td>\n",
       "      <td>414.0</td>\n",
       "      <td>45.8</td>\n",
       "      <td>4235.0</td>\n",
       "      <td>71417</td>\n",
       "      <td>...</td>\n",
       "      <td>1124</td>\n",
       "      <td>353</td>\n",
       "      <td>0.71</td>\n",
       "      <td>2015</td>\n",
       "      <td>NaN</td>\n",
       "      <td>NaN</td>\n",
       "      <td>NaN</td>\n",
       "      <td>EligibleForGentrification</td>\n",
       "      <td>NaN</td>\n",
       "      <td>NotCurrentlyGentrifying</td>\n",
       "    </tr>\n",
       "    <tr>\n",
       "      <th>156</th>\n",
       "      <td>156</td>\n",
       "      <td>53033022005</td>\n",
       "      <td>Census Tract 220.05, King County, Washington</td>\n",
       "      <td>Kirkland</td>\n",
       "      <td>11</td>\n",
       "      <td>44</td>\n",
       "      <td>405.0</td>\n",
       "      <td>54.9</td>\n",
       "      <td>3301.0</td>\n",
       "      <td>90900</td>\n",
       "      <td>...</td>\n",
       "      <td>804</td>\n",
       "      <td>239</td>\n",
       "      <td>0.56</td>\n",
       "      <td>2015</td>\n",
       "      <td>NaN</td>\n",
       "      <td>NaN</td>\n",
       "      <td>NaN</td>\n",
       "      <td>EligibleForGentrification</td>\n",
       "      <td>NaN</td>\n",
       "      <td>NotCurrentlyGentrifying</td>\n",
       "    </tr>\n",
       "    <tr>\n",
       "      <th>157</th>\n",
       "      <td>157</td>\n",
       "      <td>53033022006</td>\n",
       "      <td>Census Tract 220.06, King County, Washington</td>\n",
       "      <td>Kirkland</td>\n",
       "      <td>8</td>\n",
       "      <td>46</td>\n",
       "      <td>331.0</td>\n",
       "      <td>46.9</td>\n",
       "      <td>2673.0</td>\n",
       "      <td>81056</td>\n",
       "      <td>...</td>\n",
       "      <td>625</td>\n",
       "      <td>189</td>\n",
       "      <td>0.69</td>\n",
       "      <td>2015</td>\n",
       "      <td>NaN</td>\n",
       "      <td>NaN</td>\n",
       "      <td>NaN</td>\n",
       "      <td>EligibleForGentrification</td>\n",
       "      <td>NaN</td>\n",
       "      <td>NotCurrentlyGentrifying</td>\n",
       "    </tr>\n",
       "    <tr>\n",
       "      <th>158</th>\n",
       "      <td>158</td>\n",
       "      <td>53033022101</td>\n",
       "      <td>Census Tract 221.01, King County, Washington</td>\n",
       "      <td>Kirkland</td>\n",
       "      <td>9</td>\n",
       "      <td>27</td>\n",
       "      <td>424.0</td>\n",
       "      <td>57.6</td>\n",
       "      <td>3266.0</td>\n",
       "      <td>100168</td>\n",
       "      <td>...</td>\n",
       "      <td>234</td>\n",
       "      <td>440</td>\n",
       "      <td>0.83</td>\n",
       "      <td>2015</td>\n",
       "      <td>NaN</td>\n",
       "      <td>NaN</td>\n",
       "      <td>NaN</td>\n",
       "      <td>NotEligibleForGentrification</td>\n",
       "      <td>NaN</td>\n",
       "      <td>NotCurrentlyGentrifying</td>\n",
       "    </tr>\n",
       "    <tr>\n",
       "      <th>159</th>\n",
       "      <td>159</td>\n",
       "      <td>53033022102</td>\n",
       "      <td>Census Tract 221.02, King County, Washington</td>\n",
       "      <td>Kirkland</td>\n",
       "      <td>6</td>\n",
       "      <td>29</td>\n",
       "      <td>692.0</td>\n",
       "      <td>62.6</td>\n",
       "      <td>3875.0</td>\n",
       "      <td>96863</td>\n",
       "      <td>...</td>\n",
       "      <td>390</td>\n",
       "      <td>590</td>\n",
       "      <td>0.69</td>\n",
       "      <td>2015</td>\n",
       "      <td>NaN</td>\n",
       "      <td>NaN</td>\n",
       "      <td>NaN</td>\n",
       "      <td>EligibleForGentrification</td>\n",
       "      <td>NaN</td>\n",
       "      <td>NotCurrentlyGentrifying</td>\n",
       "    </tr>\n",
       "  </tbody>\n",
       "</table>\n",
       "<p>5 rows × 25 columns</p>\n",
       "</div>"
      ],
      "text/plain": [
       "     Unnamed: 0           Id                                     Geography  \\\n",
       "150         150  53033021903  Census Tract 219.03, King County, Washington   \n",
       "156         156  53033022005  Census Tract 220.05, King County, Washington   \n",
       "157         157  53033022006  Census Tract 220.06, King County, Washington   \n",
       "158         158  53033022101  Census Tract 221.01, King County, Washington   \n",
       "159         159  53033022102  Census Tract 221.02, King County, Washington   \n",
       "\n",
       "         City  Percentage: Public transportation (excluding taxicab)  \\\n",
       "150  Kirkland                                                 10       \n",
       "156  Kirkland                                                 11       \n",
       "157  Kirkland                                                  8       \n",
       "158  Kirkland                                                  9       \n",
       "159  Kirkland                                                  6       \n",
       "\n",
       "     Percentage: Nonfamily household  \\\n",
       "150                               48   \n",
       "156                               44   \n",
       "157                               46   \n",
       "158                               27   \n",
       "159                               29   \n",
       "\n",
       "     Married-couple family household with own children   \\\n",
       "150                                              414.0    \n",
       "156                                              405.0    \n",
       "157                                              331.0    \n",
       "158                                              424.0    \n",
       "159                                              692.0    \n",
       "\n",
       "     Percentage: bachelors degree or higher  Population 25 years and over  \\\n",
       "150                                    45.8                        4235.0   \n",
       "156                                    54.9                        3301.0   \n",
       "157                                    46.9                        2673.0   \n",
       "158                                    57.6                        3266.0   \n",
       "159                                    62.6                        3875.0   \n",
       "\n",
       "     Median income           ...             Dwelling Units: -5 or more  \\\n",
       "150          71417           ...                                   1124   \n",
       "156          90900           ...                                    804   \n",
       "157          81056           ...                                    625   \n",
       "158         100168           ...                                    234   \n",
       "159          96863           ...                                    390   \n",
       "\n",
       "      3 or more vehicles available  \\\n",
       "150                            353   \n",
       "156                            239   \n",
       "157                            189   \n",
       "158                            440   \n",
       "159                            590   \n",
       "\n",
       "     Percentage: Not Hispanic or Latino: - White   Year  \\\n",
       "150                                          0.71  2015   \n",
       "156                                          0.56  2015   \n",
       "157                                          0.69  2015   \n",
       "158                                          0.83  2015   \n",
       "159                                          0.69  2015   \n",
       "\n",
       "     inflation_adj_median_house_value  increase_in_edu_attainment_2015  \\\n",
       "150                               NaN                              NaN   \n",
       "156                               NaN                              NaN   \n",
       "157                               NaN                              NaN   \n",
       "158                               NaN                              NaN   \n",
       "159                               NaN                              NaN   \n",
       "\n",
       "     increase_in_house_value_2015                         def_1  \\\n",
       "150                           NaN     EligibleForGentrification   \n",
       "156                           NaN     EligibleForGentrification   \n",
       "157                           NaN     EligibleForGentrification   \n",
       "158                           NaN  NotEligibleForGentrification   \n",
       "159                           NaN     EligibleForGentrification   \n",
       "\n",
       "     increase_in_home_price_distribution_2015                    def_2  \n",
       "150                                       NaN  NotCurrentlyGentrifying  \n",
       "156                                       NaN  NotCurrentlyGentrifying  \n",
       "157                                       NaN  NotCurrentlyGentrifying  \n",
       "158                                       NaN  NotCurrentlyGentrifying  \n",
       "159                                       NaN  NotCurrentlyGentrifying  \n",
       "\n",
       "[5 rows x 25 columns]"
      ]
     },
     "execution_count": 89,
     "metadata": {},
     "output_type": "execute_result"
    }
   ],
   "source": [
    "data.head()"
   ]
  },
  {
   "cell_type": "code",
   "execution_count": null,
   "metadata": {
    "collapsed": true,
    "deletable": true,
    "editable": true
   },
   "outputs": [],
   "source": []
  },
  {
   "cell_type": "markdown",
   "metadata": {
    "deletable": true,
    "editable": true
   },
   "source": [
    "### Output data to csv file"
   ]
  },
  {
   "cell_type": "code",
   "execution_count": 63,
   "metadata": {
    "collapsed": true,
    "deletable": true,
    "editable": true
   },
   "outputs": [],
   "source": [
    "data.to_csv('Seattle Labels.csv')"
   ]
  },
  {
   "cell_type": "code",
   "execution_count": 90,
   "metadata": {
    "collapsed": true,
    "deletable": true,
    "editable": true
   },
   "outputs": [],
   "source": [
    "data.to_csv('East Labels.csv')"
   ]
  },
  {
   "cell_type": "code",
   "execution_count": null,
   "metadata": {
    "collapsed": true,
    "deletable": true,
    "editable": true
   },
   "outputs": [],
   "source": []
  }
 ],
 "metadata": {
  "kernelspec": {
   "display_name": "Python 3",
   "language": "python",
   "name": "python3"
  },
  "language_info": {
   "codemirror_mode": {
    "name": "ipython",
    "version": 3
   },
   "file_extension": ".py",
   "mimetype": "text/x-python",
   "name": "python",
   "nbconvert_exporter": "python",
   "pygments_lexer": "ipython3",
   "version": "3.6.0"
  }
 },
 "nbformat": 4,
 "nbformat_minor": 2
}
